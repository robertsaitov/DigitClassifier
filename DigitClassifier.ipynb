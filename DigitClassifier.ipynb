{
  "nbformat": 4,
  "nbformat_minor": 0,
  "metadata": {
    "colab": {
      "name": "Copy of DigitClassifier.ipynb",
      "provenance": [],
      "include_colab_link": true
    },
    "kernelspec": {
      "name": "python3",
      "display_name": "Python 3"
    },
    "accelerator": "GPU"
  },
  "cells": [
    {
      "cell_type": "markdown",
      "metadata": {
        "id": "view-in-github",
        "colab_type": "text"
      },
      "source": [
        "<a href=\"https://colab.research.google.com/github/robertsaitov/DigitClassifier/blob/main/DigitClassifier.ipynb\" target=\"_parent\"><img src=\"https://colab.research.google.com/assets/colab-badge.svg\" alt=\"Open In Colab\"/></a>"
      ]
    },
    {
      "cell_type": "code",
      "metadata": {
        "id": "naFvJFd1YAlv",
        "colab": {
          "base_uri": "https://localhost:8080/"
        },
        "outputId": "0ade5ed6-3cea-4ef5-ce36-5addc3237070"
      },
      "source": [
        "#hide\n",
        "!pip install -Uqq fastbook\n",
        "import fastbook\n",
        "fastbook.setup_book()"
      ],
      "execution_count": 1,
      "outputs": [
        {
          "output_type": "stream",
          "text": [
            "\u001b[?25l\r\u001b[K     |▌                               | 10kB 28.8MB/s eta 0:00:01\r\u001b[K     |█                               | 20kB 15.4MB/s eta 0:00:01\r\u001b[K     |█▍                              | 30kB 13.5MB/s eta 0:00:01\r\u001b[K     |█▉                              | 40kB 12.9MB/s eta 0:00:01\r\u001b[K     |██▎                             | 51kB 8.6MB/s eta 0:00:01\r\u001b[K     |██▊                             | 61kB 9.0MB/s eta 0:00:01\r\u001b[K     |███▏                            | 71kB 9.3MB/s eta 0:00:01\r\u001b[K     |███▋                            | 81kB 10.3MB/s eta 0:00:01\r\u001b[K     |████                            | 92kB 9.5MB/s eta 0:00:01\r\u001b[K     |████▌                           | 102kB 8.3MB/s eta 0:00:01\r\u001b[K     |█████                           | 112kB 8.3MB/s eta 0:00:01\r\u001b[K     |█████▌                          | 122kB 8.3MB/s eta 0:00:01\r\u001b[K     |██████                          | 133kB 8.3MB/s eta 0:00:01\r\u001b[K     |██████▍                         | 143kB 8.3MB/s eta 0:00:01\r\u001b[K     |██████▉                         | 153kB 8.3MB/s eta 0:00:01\r\u001b[K     |███████▎                        | 163kB 8.3MB/s eta 0:00:01\r\u001b[K     |███████▊                        | 174kB 8.3MB/s eta 0:00:01\r\u001b[K     |████████▏                       | 184kB 8.3MB/s eta 0:00:01\r\u001b[K     |████████▋                       | 194kB 8.3MB/s eta 0:00:01\r\u001b[K     |█████████                       | 204kB 8.3MB/s eta 0:00:01\r\u001b[K     |█████████▋                      | 215kB 8.3MB/s eta 0:00:01\r\u001b[K     |██████████                      | 225kB 8.3MB/s eta 0:00:01\r\u001b[K     |██████████▌                     | 235kB 8.3MB/s eta 0:00:01\r\u001b[K     |███████████                     | 245kB 8.3MB/s eta 0:00:01\r\u001b[K     |███████████▍                    | 256kB 8.3MB/s eta 0:00:01\r\u001b[K     |███████████▉                    | 266kB 8.3MB/s eta 0:00:01\r\u001b[K     |████████████▎                   | 276kB 8.3MB/s eta 0:00:01\r\u001b[K     |████████████▊                   | 286kB 8.3MB/s eta 0:00:01\r\u001b[K     |█████████████▏                  | 296kB 8.3MB/s eta 0:00:01\r\u001b[K     |█████████████▋                  | 307kB 8.3MB/s eta 0:00:01\r\u001b[K     |██████████████                  | 317kB 8.3MB/s eta 0:00:01\r\u001b[K     |██████████████▋                 | 327kB 8.3MB/s eta 0:00:01\r\u001b[K     |███████████████                 | 337kB 8.3MB/s eta 0:00:01\r\u001b[K     |███████████████▌                | 348kB 8.3MB/s eta 0:00:01\r\u001b[K     |████████████████                | 358kB 8.3MB/s eta 0:00:01\r\u001b[K     |████████████████▍               | 368kB 8.3MB/s eta 0:00:01\r\u001b[K     |████████████████▉               | 378kB 8.3MB/s eta 0:00:01\r\u001b[K     |█████████████████▎              | 389kB 8.3MB/s eta 0:00:01\r\u001b[K     |█████████████████▊              | 399kB 8.3MB/s eta 0:00:01\r\u001b[K     |██████████████████▏             | 409kB 8.3MB/s eta 0:00:01\r\u001b[K     |██████████████████▋             | 419kB 8.3MB/s eta 0:00:01\r\u001b[K     |███████████████████▏            | 430kB 8.3MB/s eta 0:00:01\r\u001b[K     |███████████████████▋            | 440kB 8.3MB/s eta 0:00:01\r\u001b[K     |████████████████████            | 450kB 8.3MB/s eta 0:00:01\r\u001b[K     |████████████████████▌           | 460kB 8.3MB/s eta 0:00:01\r\u001b[K     |█████████████████████           | 471kB 8.3MB/s eta 0:00:01\r\u001b[K     |█████████████████████▍          | 481kB 8.3MB/s eta 0:00:01\r\u001b[K     |█████████████████████▉          | 491kB 8.3MB/s eta 0:00:01\r\u001b[K     |██████████████████████▎         | 501kB 8.3MB/s eta 0:00:01\r\u001b[K     |██████████████████████▊         | 512kB 8.3MB/s eta 0:00:01\r\u001b[K     |███████████████████████▏        | 522kB 8.3MB/s eta 0:00:01\r\u001b[K     |███████████████████████▋        | 532kB 8.3MB/s eta 0:00:01\r\u001b[K     |████████████████████████▏       | 542kB 8.3MB/s eta 0:00:01\r\u001b[K     |████████████████████████▋       | 552kB 8.3MB/s eta 0:00:01\r\u001b[K     |█████████████████████████       | 563kB 8.3MB/s eta 0:00:01\r\u001b[K     |█████████████████████████▌      | 573kB 8.3MB/s eta 0:00:01\r\u001b[K     |██████████████████████████      | 583kB 8.3MB/s eta 0:00:01\r\u001b[K     |██████████████████████████▍     | 593kB 8.3MB/s eta 0:00:01\r\u001b[K     |██████████████████████████▉     | 604kB 8.3MB/s eta 0:00:01\r\u001b[K     |███████████████████████████▎    | 614kB 8.3MB/s eta 0:00:01\r\u001b[K     |███████████████████████████▊    | 624kB 8.3MB/s eta 0:00:01\r\u001b[K     |████████████████████████████▏   | 634kB 8.3MB/s eta 0:00:01\r\u001b[K     |████████████████████████████▊   | 645kB 8.3MB/s eta 0:00:01\r\u001b[K     |█████████████████████████████▏  | 655kB 8.3MB/s eta 0:00:01\r\u001b[K     |█████████████████████████████▋  | 665kB 8.3MB/s eta 0:00:01\r\u001b[K     |██████████████████████████████  | 675kB 8.3MB/s eta 0:00:01\r\u001b[K     |██████████████████████████████▌ | 686kB 8.3MB/s eta 0:00:01\r\u001b[K     |███████████████████████████████ | 696kB 8.3MB/s eta 0:00:01\r\u001b[K     |███████████████████████████████▍| 706kB 8.3MB/s eta 0:00:01\r\u001b[K     |███████████████████████████████▉| 716kB 8.3MB/s eta 0:00:01\r\u001b[K     |████████████████████████████████| 727kB 8.3MB/s \n",
            "\u001b[K     |████████████████████████████████| 194kB 36.0MB/s \n",
            "\u001b[K     |████████████████████████████████| 1.2MB 34.1MB/s \n",
            "\u001b[K     |████████████████████████████████| 51kB 8.1MB/s \n",
            "\u001b[K     |████████████████████████████████| 12.8MB 235kB/s \n",
            "\u001b[K     |████████████████████████████████| 776.8MB 23kB/s \n",
            "\u001b[K     |████████████████████████████████| 61kB 8.9MB/s \n",
            "\u001b[K     |████████████████████████████████| 51kB 7.5MB/s \n",
            "\u001b[31mERROR: torchtext 0.9.1 has requirement torch==1.8.1, but you'll have torch 1.7.1 which is incompatible.\u001b[0m\n",
            "\u001b[?25hMounted at /content/gdrive\n"
          ],
          "name": "stdout"
        }
      ]
    },
    {
      "cell_type": "code",
      "metadata": {
        "id": "YuXoOLjwrad1"
      },
      "source": [
        "#hide\n",
        "from fastai.vision.all import *\n",
        "from fastbook import *\n",
        "\n",
        "matplotlib.rc('image', cmap='Greys')"
      ],
      "execution_count": 2,
      "outputs": []
    },
    {
      "cell_type": "markdown",
      "metadata": {
        "id": "5fYwrd2h7tV7"
      },
      "source": [
        "# Intro to project and load dataset images"
      ]
    },
    {
      "cell_type": "code",
      "metadata": {
        "colab": {
          "base_uri": "https://localhost:8080/",
          "height": 35
        },
        "id": "IO4Dhpe8ret3",
        "outputId": "b6af133d-ab04-417f-8e67-3e0e445286cc"
      },
      "source": [
        "path = untar_data(URLs.MNIST_SAMPLE)\n",
        "Path.BASE_PATH = path\n",
        "path.ls()"
      ],
      "execution_count": 3,
      "outputs": [
        {
          "output_type": "display_data",
          "data": {
            "text/html": [
              ""
            ],
            "text/plain": [
              "<IPython.core.display.HTML object>"
            ]
          },
          "metadata": {
            "tags": []
          }
        },
        {
          "output_type": "execute_result",
          "data": {
            "text/plain": [
              "(#3) [Path('valid'),Path('labels.csv'),Path('train')]"
            ]
          },
          "metadata": {
            "tags": []
          },
          "execution_count": 3
        }
      ]
    },
    {
      "cell_type": "markdown",
      "metadata": {
        "id": "Ie-wYqqYruY3"
      },
      "source": [
        "The MNIST dataset follows a common layout for machine learning datasets: separate folders for the training set and the validation set (and/or test set). Let's see what's inside the training set:"
      ]
    },
    {
      "cell_type": "code",
      "metadata": {
        "colab": {
          "base_uri": "https://localhost:8080/"
        },
        "id": "ycza6z4Yru9C",
        "outputId": "d8360a48-70f6-4f63-f753-fe982b8ed173"
      },
      "source": [
        "(path/'train').ls()"
      ],
      "execution_count": 4,
      "outputs": [
        {
          "output_type": "execute_result",
          "data": {
            "text/plain": [
              "(#2) [Path('train/3'),Path('train/7')]"
            ]
          },
          "metadata": {
            "tags": []
          },
          "execution_count": 4
        }
      ]
    },
    {
      "cell_type": "code",
      "metadata": {
        "colab": {
          "base_uri": "https://localhost:8080/"
        },
        "id": "VldkO6Wyry-x",
        "outputId": "cf858273-1854-4b75-9362-6cf4406a41a6"
      },
      "source": [
        "threes = (path/'train'/'3').ls().sorted()\n",
        "sevens = (path/'train'/'7').ls().sorted()\n",
        "threes"
      ],
      "execution_count": 5,
      "outputs": [
        {
          "output_type": "execute_result",
          "data": {
            "text/plain": [
              "(#6131) [Path('train/3/10.png'),Path('train/3/10000.png'),Path('train/3/10011.png'),Path('train/3/10031.png'),Path('train/3/10034.png'),Path('train/3/10042.png'),Path('train/3/10052.png'),Path('train/3/1007.png'),Path('train/3/10074.png'),Path('train/3/10091.png')...]"
            ]
          },
          "metadata": {
            "tags": []
          },
          "execution_count": 5
        }
      ]
    },
    {
      "cell_type": "code",
      "metadata": {
        "colab": {
          "base_uri": "https://localhost:8080/",
          "height": 45
        },
        "id": "VcnnNd52r2El",
        "outputId": "f71aa373-2909-4b50-80a6-781e64a2f4c5"
      },
      "source": [
        "im3_path = threes[1]\n",
        "im3 = Image.open(im3_path)\n",
        "im3"
      ],
      "execution_count": 30,
      "outputs": [
        {
          "output_type": "execute_result",
          "data": {
            "image/png": "[encoded data removed]",
            "text/plain": [
              "<PIL.PngImagePlugin.PngImageFile image mode=L size=28x28 at 0x7FA1FB771650>"
            ]
          },
          "metadata": {
            "tags": []
          },
          "execution_count": 30
        }
      ]
    },
    {
      "cell_type": "markdown",
      "metadata": {
        "id": "R8IQyy7kr4f8"
      },
      "source": [
        "In a computer, everything is represented as a number. To view the numbers that make up this image, we have to convert it to a NumPy array or a PyTorch tensor. For instance, here's what a section of the image looks like, converted to a NumPy array:"
      ]
    },
    {
      "cell_type": "code",
      "metadata": {
        "colab": {
          "base_uri": "https://localhost:8080/"
        },
        "id": "zNI3sQJZr4pM",
        "outputId": "9fd09cda-f094-4aa4-8261-856c63cd2ed4"
      },
      "source": [
        "array(im3)[4:10,4:10]"
      ],
      "execution_count": 7,
      "outputs": [
        {
          "output_type": "execute_result",
          "data": {
            "text/plain": [
              "array([[  0,   0,   0,   0,   0,   0],\n",
              "       [  0,   0,   0,   0,   0,  29],\n",
              "       [  0,   0,   0,  48, 166, 224],\n",
              "       [  0,  93, 244, 249, 253, 187],\n",
              "       [  0, 107, 253, 253, 230,  48],\n",
              "       [  0,   3,  20,  20,  15,   0]], dtype=uint8)"
            ]
          },
          "metadata": {
            "tags": []
          },
          "execution_count": 7
        }
      ]
    },
    {
      "cell_type": "markdown",
      "metadata": {
        "id": "C6xwaHmer5hK"
      },
      "source": [
        "This is PyTorch Tensor. The 4:10 indicates we requested the rows from index 4 (included) to 10 (not included) and the same for the columns."
      ]
    },
    {
      "cell_type": "code",
      "metadata": {
        "colab": {
          "base_uri": "https://localhost:8080/"
        },
        "id": "PKWs6tqZr5sY",
        "outputId": "f5256f04-67ec-4713-8030-2f11398a6726"
      },
      "source": [
        "tensor(im3)[4:10,4:10]"
      ],
      "execution_count": 8,
      "outputs": [
        {
          "output_type": "execute_result",
          "data": {
            "text/plain": [
              "tensor([[  0,   0,   0,   0,   0,   0],\n",
              "        [  0,   0,   0,   0,   0,  29],\n",
              "        [  0,   0,   0,  48, 166, 224],\n",
              "        [  0,  93, 244, 249, 253, 187],\n",
              "        [  0, 107, 253, 253, 230,  48],\n",
              "        [  0,   3,  20,  20,  15,   0]], dtype=torch.uint8)"
            ]
          },
          "metadata": {
            "tags": []
          },
          "execution_count": 8
        }
      ]
    },
    {
      "cell_type": "markdown",
      "metadata": {
        "id": "ThfIudW3r86N"
      },
      "source": [
        "We can slice the array to pick just the part with the top of the digit in it, and then use a Pandas DataFrame to color-code the values using a gradient, which shows us clearly how the image is created from the pixel values:"
      ]
    },
    {
      "cell_type": "code",
      "metadata": {
        "colab": {
          "base_uri": "https://localhost:8080/",
          "height": 275
        },
        "id": "A97ts2jqr9BM",
        "outputId": "89f0dc00-e496-4074-93f1-52cd29bf6f04"
      },
      "source": [
        "#hide_output\n",
        "im3_t = tensor(im3)\n",
        "df = pd.DataFrame(im3_t[4:15,4:22])\n",
        "df.style.set_properties(**{'font-size':'6pt'}).background_gradient('Greys')"
      ],
      "execution_count": 9,
      "outputs": [
        {
          "output_type": "execute_result",
          "data": {
            "text/html": [
              "<style  type=\"text/css\" >\n",
              "#T_df240c8c_9595_11eb_97e4_0242ac1c0002row0_col0,#T_df240c8c_9595_11eb_97e4_0242ac1c0002row0_col1,#T_df240c8c_9595_11eb_97e4_0242ac1c0002row0_col2,#T_df240c8c_9595_11eb_97e4_0242ac1c0002row0_col3,#T_df240c8c_9595_11eb_97e4_0242ac1c0002row0_col4,#T_df240c8c_9595_11eb_97e4_0242ac1c0002row0_col5,#T_df240c8c_9595_11eb_97e4_0242ac1c0002row0_col6,#T_df240c8c_9595_11eb_97e4_0242ac1c0002row0_col7,#T_df240c8c_9595_11eb_97e4_0242ac1c0002row0_col8,#T_df240c8c_9595_11eb_97e4_0242ac1c0002row0_col9,#T_df240c8c_9595_11eb_97e4_0242ac1c0002row0_col10,#T_df240c8c_9595_11eb_97e4_0242ac1c0002row0_col11,#T_df240c8c_9595_11eb_97e4_0242ac1c0002row0_col12,#T_df240c8c_9595_11eb_97e4_0242ac1c0002row0_col13,#T_df240c8c_9595_11eb_97e4_0242ac1c0002row0_col14,#T_df240c8c_9595_11eb_97e4_0242ac1c0002row0_col15,#T_df240c8c_9595_11eb_97e4_0242ac1c0002row0_col16,#T_df240c8c_9595_11eb_97e4_0242ac1c0002row0_col17,#T_df240c8c_9595_11eb_97e4_0242ac1c0002row1_col0,#T_df240c8c_9595_11eb_97e4_0242ac1c0002row1_col1,#T_df240c8c_9595_11eb_97e4_0242ac1c0002row1_col2,#T_df240c8c_9595_11eb_97e4_0242ac1c0002row1_col3,#T_df240c8c_9595_11eb_97e4_0242ac1c0002row1_col4,#T_df240c8c_9595_11eb_97e4_0242ac1c0002row1_col15,#T_df240c8c_9595_11eb_97e4_0242ac1c0002row1_col16,#T_df240c8c_9595_11eb_97e4_0242ac1c0002row1_col17,#T_df240c8c_9595_11eb_97e4_0242ac1c0002row2_col0,#T_df240c8c_9595_11eb_97e4_0242ac1c0002row2_col1,#T_df240c8c_9595_11eb_97e4_0242ac1c0002row2_col2,#T_df240c8c_9595_11eb_97e4_0242ac1c0002row2_col15,#T_df240c8c_9595_11eb_97e4_0242ac1c0002row2_col16,#T_df240c8c_9595_11eb_97e4_0242ac1c0002row2_col17,#T_df240c8c_9595_11eb_97e4_0242ac1c0002row3_col0,#T_df240c8c_9595_11eb_97e4_0242ac1c0002row3_col15,#T_df240c8c_9595_11eb_97e4_0242ac1c0002row3_col16,#T_df240c8c_9595_11eb_97e4_0242ac1c0002row3_col17,#T_df240c8c_9595_11eb_97e4_0242ac1c0002row4_col0,#T_df240c8c_9595_11eb_97e4_0242ac1c0002row4_col6,#T_df240c8c_9595_11eb_97e4_0242ac1c0002row4_col7,#T_df240c8c_9595_11eb_97e4_0242ac1c0002row4_col8,#T_df240c8c_9595_11eb_97e4_0242ac1c0002row4_col9,#T_df240c8c_9595_11eb_97e4_0242ac1c0002row4_col10,#T_df240c8c_9595_11eb_97e4_0242ac1c0002row4_col15,#T_df240c8c_9595_11eb_97e4_0242ac1c0002row4_col16,#T_df240c8c_9595_11eb_97e4_0242ac1c0002row4_col17,#T_df240c8c_9595_11eb_97e4_0242ac1c0002row5_col0,#T_df240c8c_9595_11eb_97e4_0242ac1c0002row5_col5,#T_df240c8c_9595_11eb_97e4_0242ac1c0002row5_col6,#T_df240c8c_9595_11eb_97e4_0242ac1c0002row5_col7,#T_df240c8c_9595_11eb_97e4_0242ac1c0002row5_col8,#T_df240c8c_9595_11eb_97e4_0242ac1c0002row5_col9,#T_df240c8c_9595_11eb_97e4_0242ac1c0002row5_col15,#T_df240c8c_9595_11eb_97e4_0242ac1c0002row5_col16,#T_df240c8c_9595_11eb_97e4_0242ac1c0002row5_col17,#T_df240c8c_9595_11eb_97e4_0242ac1c0002row6_col0,#T_df240c8c_9595_11eb_97e4_0242ac1c0002row6_col1,#T_df240c8c_9595_11eb_97e4_0242ac1c0002row6_col2,#T_df240c8c_9595_11eb_97e4_0242ac1c0002row6_col3,#T_df240c8c_9595_11eb_97e4_0242ac1c0002row6_col4,#T_df240c8c_9595_11eb_97e4_0242ac1c0002row6_col5,#T_df240c8c_9595_11eb_97e4_0242ac1c0002row6_col6,#T_df240c8c_9595_11eb_97e4_0242ac1c0002row6_col7,#T_df240c8c_9595_11eb_97e4_0242ac1c0002row6_col8,#T_df240c8c_9595_11eb_97e4_0242ac1c0002row6_col9,#T_df240c8c_9595_11eb_97e4_0242ac1c0002row6_col14,#T_df240c8c_9595_11eb_97e4_0242ac1c0002row6_col15,#T_df240c8c_9595_11eb_97e4_0242ac1c0002row6_col16,#T_df240c8c_9595_11eb_97e4_0242ac1c0002row6_col17,#T_df240c8c_9595_11eb_97e4_0242ac1c0002row7_col0,#T_df240c8c_9595_11eb_97e4_0242ac1c0002row7_col1,#T_df240c8c_9595_11eb_97e4_0242ac1c0002row7_col2,#T_df240c8c_9595_11eb_97e4_0242ac1c0002row7_col3,#T_df240c8c_9595_11eb_97e4_0242ac1c0002row7_col4,#T_df240c8c_9595_11eb_97e4_0242ac1c0002row7_col5,#T_df240c8c_9595_11eb_97e4_0242ac1c0002row7_col6,#T_df240c8c_9595_11eb_97e4_0242ac1c0002row7_col13,#T_df240c8c_9595_11eb_97e4_0242ac1c0002row7_col14,#T_df240c8c_9595_11eb_97e4_0242ac1c0002row7_col15,#T_df240c8c_9595_11eb_97e4_0242ac1c0002row7_col16,#T_df240c8c_9595_11eb_97e4_0242ac1c0002row7_col17,#T_df240c8c_9595_11eb_97e4_0242ac1c0002row8_col0,#T_df240c8c_9595_11eb_97e4_0242ac1c0002row8_col1,#T_df240c8c_9595_11eb_97e4_0242ac1c0002row8_col2,#T_df240c8c_9595_11eb_97e4_0242ac1c0002row8_col3,#T_df240c8c_9595_11eb_97e4_0242ac1c0002row8_col4,#T_df240c8c_9595_11eb_97e4_0242ac1c0002row8_col13,#T_df240c8c_9595_11eb_97e4_0242ac1c0002row8_col14,#T_df240c8c_9595_11eb_97e4_0242ac1c0002row8_col15,#T_df240c8c_9595_11eb_97e4_0242ac1c0002row8_col16,#T_df240c8c_9595_11eb_97e4_0242ac1c0002row8_col17,#T_df240c8c_9595_11eb_97e4_0242ac1c0002row9_col0,#T_df240c8c_9595_11eb_97e4_0242ac1c0002row9_col1,#T_df240c8c_9595_11eb_97e4_0242ac1c0002row9_col2,#T_df240c8c_9595_11eb_97e4_0242ac1c0002row9_col3,#T_df240c8c_9595_11eb_97e4_0242ac1c0002row9_col4,#T_df240c8c_9595_11eb_97e4_0242ac1c0002row9_col16,#T_df240c8c_9595_11eb_97e4_0242ac1c0002row9_col17,#T_df240c8c_9595_11eb_97e4_0242ac1c0002row10_col0,#T_df240c8c_9595_11eb_97e4_0242ac1c0002row10_col1,#T_df240c8c_9595_11eb_97e4_0242ac1c0002row10_col2,#T_df240c8c_9595_11eb_97e4_0242ac1c0002row10_col3,#T_df240c8c_9595_11eb_97e4_0242ac1c0002row10_col4,#T_df240c8c_9595_11eb_97e4_0242ac1c0002row10_col5,#T_df240c8c_9595_11eb_97e4_0242ac1c0002row10_col6,#T_df240c8c_9595_11eb_97e4_0242ac1c0002row10_col17{\n",
              "            font-size:  6pt;\n",
              "            background-color:  #ffffff;\n",
              "            color:  #000000;\n",
              "        }#T_df240c8c_9595_11eb_97e4_0242ac1c0002row1_col5{\n",
              "            font-size:  6pt;\n",
              "            background-color:  #efefef;\n",
              "            color:  #000000;\n",
              "        }#T_df240c8c_9595_11eb_97e4_0242ac1c0002row1_col6,#T_df240c8c_9595_11eb_97e4_0242ac1c0002row1_col13{\n",
              "            font-size:  6pt;\n",
              "            background-color:  #7c7c7c;\n",
              "            color:  #000000;\n",
              "        }#T_df240c8c_9595_11eb_97e4_0242ac1c0002row1_col7{\n",
              "            font-size:  6pt;\n",
              "            background-color:  #4a4a4a;\n",
              "            color:  #f1f1f1;\n",
              "        }#T_df240c8c_9595_11eb_97e4_0242ac1c0002row1_col8,#T_df240c8c_9595_11eb_97e4_0242ac1c0002row1_col9,#T_df240c8c_9595_11eb_97e4_0242ac1c0002row1_col10,#T_df240c8c_9595_11eb_97e4_0242ac1c0002row2_col5,#T_df240c8c_9595_11eb_97e4_0242ac1c0002row2_col6,#T_df240c8c_9595_11eb_97e4_0242ac1c0002row2_col7,#T_df240c8c_9595_11eb_97e4_0242ac1c0002row2_col11,#T_df240c8c_9595_11eb_97e4_0242ac1c0002row2_col12,#T_df240c8c_9595_11eb_97e4_0242ac1c0002row2_col13,#T_df240c8c_9595_11eb_97e4_0242ac1c0002row3_col4,#T_df240c8c_9595_11eb_97e4_0242ac1c0002row3_col12,#T_df240c8c_9595_11eb_97e4_0242ac1c0002row3_col13,#T_df240c8c_9595_11eb_97e4_0242ac1c0002row4_col1,#T_df240c8c_9595_11eb_97e4_0242ac1c0002row4_col2,#T_df240c8c_9595_11eb_97e4_0242ac1c0002row4_col3,#T_df240c8c_9595_11eb_97e4_0242ac1c0002row4_col12,#T_df240c8c_9595_11eb_97e4_0242ac1c0002row4_col13,#T_df240c8c_9595_11eb_97e4_0242ac1c0002row5_col12,#T_df240c8c_9595_11eb_97e4_0242ac1c0002row6_col11,#T_df240c8c_9595_11eb_97e4_0242ac1c0002row9_col11,#T_df240c8c_9595_11eb_97e4_0242ac1c0002row10_col11,#T_df240c8c_9595_11eb_97e4_0242ac1c0002row10_col12,#T_df240c8c_9595_11eb_97e4_0242ac1c0002row10_col13,#T_df240c8c_9595_11eb_97e4_0242ac1c0002row10_col14,#T_df240c8c_9595_11eb_97e4_0242ac1c0002row10_col15,#T_df240c8c_9595_11eb_97e4_0242ac1c0002row10_col16{\n",
              "            font-size:  6pt;\n",
              "            background-color:  #000000;\n",
              "            color:  #f1f1f1;\n",
              "        }#T_df240c8c_9595_11eb_97e4_0242ac1c0002row1_col11{\n",
              "            font-size:  6pt;\n",
              "            background-color:  #606060;\n",
              "            color:  #f1f1f1;\n",
              "        }#T_df240c8c_9595_11eb_97e4_0242ac1c0002row1_col12{\n",
              "            font-size:  6pt;\n",
              "            background-color:  #4d4d4d;\n",
              "            color:  #f1f1f1;\n",
              "        }#T_df240c8c_9595_11eb_97e4_0242ac1c0002row1_col14{\n",
              "            font-size:  6pt;\n",
              "            background-color:  #bbbbbb;\n",
              "            color:  #000000;\n",
              "        }#T_df240c8c_9595_11eb_97e4_0242ac1c0002row2_col3{\n",
              "            font-size:  6pt;\n",
              "            background-color:  #e4e4e4;\n",
              "            color:  #000000;\n",
              "        }#T_df240c8c_9595_11eb_97e4_0242ac1c0002row2_col4,#T_df240c8c_9595_11eb_97e4_0242ac1c0002row8_col6{\n",
              "            font-size:  6pt;\n",
              "            background-color:  #6b6b6b;\n",
              "            color:  #000000;\n",
              "        }#T_df240c8c_9595_11eb_97e4_0242ac1c0002row2_col8,#T_df240c8c_9595_11eb_97e4_0242ac1c0002row2_col14,#T_df240c8c_9595_11eb_97e4_0242ac1c0002row3_col14{\n",
              "            font-size:  6pt;\n",
              "            background-color:  #171717;\n",
              "            color:  #f1f1f1;\n",
              "        }#T_df240c8c_9595_11eb_97e4_0242ac1c0002row2_col9,#T_df240c8c_9595_11eb_97e4_0242ac1c0002row3_col11{\n",
              "            font-size:  6pt;\n",
              "            background-color:  #4b4b4b;\n",
              "            color:  #f1f1f1;\n",
              "        }#T_df240c8c_9595_11eb_97e4_0242ac1c0002row2_col10,#T_df240c8c_9595_11eb_97e4_0242ac1c0002row7_col10,#T_df240c8c_9595_11eb_97e4_0242ac1c0002row8_col8,#T_df240c8c_9595_11eb_97e4_0242ac1c0002row8_col10,#T_df240c8c_9595_11eb_97e4_0242ac1c0002row9_col8,#T_df240c8c_9595_11eb_97e4_0242ac1c0002row9_col10{\n",
              "            font-size:  6pt;\n",
              "            background-color:  #010101;\n",
              "            color:  #f1f1f1;\n",
              "        }#T_df240c8c_9595_11eb_97e4_0242ac1c0002row3_col1{\n",
              "            font-size:  6pt;\n",
              "            background-color:  #272727;\n",
              "            color:  #f1f1f1;\n",
              "        }#T_df240c8c_9595_11eb_97e4_0242ac1c0002row3_col2{\n",
              "            font-size:  6pt;\n",
              "            background-color:  #0a0a0a;\n",
              "            color:  #f1f1f1;\n",
              "        }#T_df240c8c_9595_11eb_97e4_0242ac1c0002row3_col3{\n",
              "            font-size:  6pt;\n",
              "            background-color:  #050505;\n",
              "            color:  #f1f1f1;\n",
              "        }#T_df240c8c_9595_11eb_97e4_0242ac1c0002row3_col5{\n",
              "            font-size:  6pt;\n",
              "            background-color:  #333333;\n",
              "            color:  #f1f1f1;\n",
              "        }#T_df240c8c_9595_11eb_97e4_0242ac1c0002row3_col6{\n",
              "            font-size:  6pt;\n",
              "            background-color:  #e6e6e6;\n",
              "            color:  #000000;\n",
              "        }#T_df240c8c_9595_11eb_97e4_0242ac1c0002row3_col7,#T_df240c8c_9595_11eb_97e4_0242ac1c0002row3_col10{\n",
              "            font-size:  6pt;\n",
              "            background-color:  #fafafa;\n",
              "            color:  #000000;\n",
              "        }#T_df240c8c_9595_11eb_97e4_0242ac1c0002row3_col8{\n",
              "            font-size:  6pt;\n",
              "            background-color:  #fbfbfb;\n",
              "            color:  #000000;\n",
              "        }#T_df240c8c_9595_11eb_97e4_0242ac1c0002row3_col9{\n",
              "            font-size:  6pt;\n",
              "            background-color:  #fdfdfd;\n",
              "            color:  #000000;\n",
              "        }#T_df240c8c_9595_11eb_97e4_0242ac1c0002row4_col4{\n",
              "            font-size:  6pt;\n",
              "            background-color:  #1b1b1b;\n",
              "            color:  #f1f1f1;\n",
              "        }#T_df240c8c_9595_11eb_97e4_0242ac1c0002row4_col5{\n",
              "            font-size:  6pt;\n",
              "            background-color:  #e0e0e0;\n",
              "            color:  #000000;\n",
              "        }#T_df240c8c_9595_11eb_97e4_0242ac1c0002row4_col11{\n",
              "            font-size:  6pt;\n",
              "            background-color:  #4e4e4e;\n",
              "            color:  #f1f1f1;\n",
              "        }#T_df240c8c_9595_11eb_97e4_0242ac1c0002row4_col14{\n",
              "            font-size:  6pt;\n",
              "            background-color:  #767676;\n",
              "            color:  #000000;\n",
              "        }#T_df240c8c_9595_11eb_97e4_0242ac1c0002row5_col1{\n",
              "            font-size:  6pt;\n",
              "            background-color:  #fcfcfc;\n",
              "            color:  #000000;\n",
              "        }#T_df240c8c_9595_11eb_97e4_0242ac1c0002row5_col2,#T_df240c8c_9595_11eb_97e4_0242ac1c0002row5_col3{\n",
              "            font-size:  6pt;\n",
              "            background-color:  #f6f6f6;\n",
              "            color:  #000000;\n",
              "        }#T_df240c8c_9595_11eb_97e4_0242ac1c0002row5_col4,#T_df240c8c_9595_11eb_97e4_0242ac1c0002row7_col7{\n",
              "            font-size:  6pt;\n",
              "            background-color:  #f8f8f8;\n",
              "            color:  #000000;\n",
              "        }#T_df240c8c_9595_11eb_97e4_0242ac1c0002row5_col10,#T_df240c8c_9595_11eb_97e4_0242ac1c0002row10_col7{\n",
              "            font-size:  6pt;\n",
              "            background-color:  #e8e8e8;\n",
              "            color:  #000000;\n",
              "        }#T_df240c8c_9595_11eb_97e4_0242ac1c0002row5_col11{\n",
              "            font-size:  6pt;\n",
              "            background-color:  #222222;\n",
              "            color:  #f1f1f1;\n",
              "        }#T_df240c8c_9595_11eb_97e4_0242ac1c0002row5_col13,#T_df240c8c_9595_11eb_97e4_0242ac1c0002row6_col12{\n",
              "            font-size:  6pt;\n",
              "            background-color:  #090909;\n",
              "            color:  #f1f1f1;\n",
              "        }#T_df240c8c_9595_11eb_97e4_0242ac1c0002row5_col14{\n",
              "            font-size:  6pt;\n",
              "            background-color:  #d0d0d0;\n",
              "            color:  #000000;\n",
              "        }#T_df240c8c_9595_11eb_97e4_0242ac1c0002row6_col10,#T_df240c8c_9595_11eb_97e4_0242ac1c0002row7_col11,#T_df240c8c_9595_11eb_97e4_0242ac1c0002row9_col6{\n",
              "            font-size:  6pt;\n",
              "            background-color:  #060606;\n",
              "            color:  #f1f1f1;\n",
              "        }#T_df240c8c_9595_11eb_97e4_0242ac1c0002row6_col13{\n",
              "            font-size:  6pt;\n",
              "            background-color:  #979797;\n",
              "            color:  #000000;\n",
              "        }#T_df240c8c_9595_11eb_97e4_0242ac1c0002row7_col8{\n",
              "            font-size:  6pt;\n",
              "            background-color:  #b6b6b6;\n",
              "            color:  #000000;\n",
              "        }#T_df240c8c_9595_11eb_97e4_0242ac1c0002row7_col9{\n",
              "            font-size:  6pt;\n",
              "            background-color:  #252525;\n",
              "            color:  #f1f1f1;\n",
              "        }#T_df240c8c_9595_11eb_97e4_0242ac1c0002row7_col12{\n",
              "            font-size:  6pt;\n",
              "            background-color:  #999999;\n",
              "            color:  #000000;\n",
              "        }#T_df240c8c_9595_11eb_97e4_0242ac1c0002row8_col5{\n",
              "            font-size:  6pt;\n",
              "            background-color:  #f9f9f9;\n",
              "            color:  #000000;\n",
              "        }#T_df240c8c_9595_11eb_97e4_0242ac1c0002row8_col7{\n",
              "            font-size:  6pt;\n",
              "            background-color:  #101010;\n",
              "            color:  #f1f1f1;\n",
              "        }#T_df240c8c_9595_11eb_97e4_0242ac1c0002row8_col9,#T_df240c8c_9595_11eb_97e4_0242ac1c0002row9_col9{\n",
              "            font-size:  6pt;\n",
              "            background-color:  #020202;\n",
              "            color:  #f1f1f1;\n",
              "        }#T_df240c8c_9595_11eb_97e4_0242ac1c0002row8_col11{\n",
              "            font-size:  6pt;\n",
              "            background-color:  #545454;\n",
              "            color:  #f1f1f1;\n",
              "        }#T_df240c8c_9595_11eb_97e4_0242ac1c0002row8_col12{\n",
              "            font-size:  6pt;\n",
              "            background-color:  #f1f1f1;\n",
              "            color:  #000000;\n",
              "        }#T_df240c8c_9595_11eb_97e4_0242ac1c0002row9_col5{\n",
              "            font-size:  6pt;\n",
              "            background-color:  #f7f7f7;\n",
              "            color:  #000000;\n",
              "        }#T_df240c8c_9595_11eb_97e4_0242ac1c0002row9_col7{\n",
              "            font-size:  6pt;\n",
              "            background-color:  #030303;\n",
              "            color:  #f1f1f1;\n",
              "        }#T_df240c8c_9595_11eb_97e4_0242ac1c0002row9_col12{\n",
              "            font-size:  6pt;\n",
              "            background-color:  #181818;\n",
              "            color:  #f1f1f1;\n",
              "        }#T_df240c8c_9595_11eb_97e4_0242ac1c0002row9_col13{\n",
              "            font-size:  6pt;\n",
              "            background-color:  #303030;\n",
              "            color:  #f1f1f1;\n",
              "        }#T_df240c8c_9595_11eb_97e4_0242ac1c0002row9_col14{\n",
              "            font-size:  6pt;\n",
              "            background-color:  #a9a9a9;\n",
              "            color:  #000000;\n",
              "        }#T_df240c8c_9595_11eb_97e4_0242ac1c0002row9_col15{\n",
              "            font-size:  6pt;\n",
              "            background-color:  #fefefe;\n",
              "            color:  #000000;\n",
              "        }#T_df240c8c_9595_11eb_97e4_0242ac1c0002row10_col8,#T_df240c8c_9595_11eb_97e4_0242ac1c0002row10_col9{\n",
              "            font-size:  6pt;\n",
              "            background-color:  #bababa;\n",
              "            color:  #000000;\n",
              "        }#T_df240c8c_9595_11eb_97e4_0242ac1c0002row10_col10{\n",
              "            font-size:  6pt;\n",
              "            background-color:  #393939;\n",
              "            color:  #f1f1f1;\n",
              "        }</style><table id=\"T_df240c8c_9595_11eb_97e4_0242ac1c0002\" ><thead>    <tr>        <th class=\"blank level0\" ></th>        <th class=\"col_heading level0 col0\" >0</th>        <th class=\"col_heading level0 col1\" >1</th>        <th class=\"col_heading level0 col2\" >2</th>        <th class=\"col_heading level0 col3\" >3</th>        <th class=\"col_heading level0 col4\" >4</th>        <th class=\"col_heading level0 col5\" >5</th>        <th class=\"col_heading level0 col6\" >6</th>        <th class=\"col_heading level0 col7\" >7</th>        <th class=\"col_heading level0 col8\" >8</th>        <th class=\"col_heading level0 col9\" >9</th>        <th class=\"col_heading level0 col10\" >10</th>        <th class=\"col_heading level0 col11\" >11</th>        <th class=\"col_heading level0 col12\" >12</th>        <th class=\"col_heading level0 col13\" >13</th>        <th class=\"col_heading level0 col14\" >14</th>        <th class=\"col_heading level0 col15\" >15</th>        <th class=\"col_heading level0 col16\" >16</th>        <th class=\"col_heading level0 col17\" >17</th>    </tr></thead><tbody>\n",
              "                <tr>\n",
              "                        <th id=\"T_df240c8c_9595_11eb_97e4_0242ac1c0002level0_row0\" class=\"row_heading level0 row0\" >0</th>\n",
              "                        <td id=\"T_df240c8c_9595_11eb_97e4_0242ac1c0002row0_col0\" class=\"data row0 col0\" >0</td>\n",
              "                        <td id=\"T_df240c8c_9595_11eb_97e4_0242ac1c0002row0_col1\" class=\"data row0 col1\" >0</td>\n",
              "                        <td id=\"T_df240c8c_9595_11eb_97e4_0242ac1c0002row0_col2\" class=\"data row0 col2\" >0</td>\n",
              "                        <td id=\"T_df240c8c_9595_11eb_97e4_0242ac1c0002row0_col3\" class=\"data row0 col3\" >0</td>\n",
              "                        <td id=\"T_df240c8c_9595_11eb_97e4_0242ac1c0002row0_col4\" class=\"data row0 col4\" >0</td>\n",
              "                        <td id=\"T_df240c8c_9595_11eb_97e4_0242ac1c0002row0_col5\" class=\"data row0 col5\" >0</td>\n",
              "                        <td id=\"T_df240c8c_9595_11eb_97e4_0242ac1c0002row0_col6\" class=\"data row0 col6\" >0</td>\n",
              "                        <td id=\"T_df240c8c_9595_11eb_97e4_0242ac1c0002row0_col7\" class=\"data row0 col7\" >0</td>\n",
              "                        <td id=\"T_df240c8c_9595_11eb_97e4_0242ac1c0002row0_col8\" class=\"data row0 col8\" >0</td>\n",
              "                        <td id=\"T_df240c8c_9595_11eb_97e4_0242ac1c0002row0_col9\" class=\"data row0 col9\" >0</td>\n",
              "                        <td id=\"T_df240c8c_9595_11eb_97e4_0242ac1c0002row0_col10\" class=\"data row0 col10\" >0</td>\n",
              "                        <td id=\"T_df240c8c_9595_11eb_97e4_0242ac1c0002row0_col11\" class=\"data row0 col11\" >0</td>\n",
              "                        <td id=\"T_df240c8c_9595_11eb_97e4_0242ac1c0002row0_col12\" class=\"data row0 col12\" >0</td>\n",
              "                        <td id=\"T_df240c8c_9595_11eb_97e4_0242ac1c0002row0_col13\" class=\"data row0 col13\" >0</td>\n",
              "                        <td id=\"T_df240c8c_9595_11eb_97e4_0242ac1c0002row0_col14\" class=\"data row0 col14\" >0</td>\n",
              "                        <td id=\"T_df240c8c_9595_11eb_97e4_0242ac1c0002row0_col15\" class=\"data row0 col15\" >0</td>\n",
              "                        <td id=\"T_df240c8c_9595_11eb_97e4_0242ac1c0002row0_col16\" class=\"data row0 col16\" >0</td>\n",
              "                        <td id=\"T_df240c8c_9595_11eb_97e4_0242ac1c0002row0_col17\" class=\"data row0 col17\" >0</td>\n",
              "            </tr>\n",
              "            <tr>\n",
              "                        <th id=\"T_df240c8c_9595_11eb_97e4_0242ac1c0002level0_row1\" class=\"row_heading level0 row1\" >1</th>\n",
              "                        <td id=\"T_df240c8c_9595_11eb_97e4_0242ac1c0002row1_col0\" class=\"data row1 col0\" >0</td>\n",
              "                        <td id=\"T_df240c8c_9595_11eb_97e4_0242ac1c0002row1_col1\" class=\"data row1 col1\" >0</td>\n",
              "                        <td id=\"T_df240c8c_9595_11eb_97e4_0242ac1c0002row1_col2\" class=\"data row1 col2\" >0</td>\n",
              "                        <td id=\"T_df240c8c_9595_11eb_97e4_0242ac1c0002row1_col3\" class=\"data row1 col3\" >0</td>\n",
              "                        <td id=\"T_df240c8c_9595_11eb_97e4_0242ac1c0002row1_col4\" class=\"data row1 col4\" >0</td>\n",
              "                        <td id=\"T_df240c8c_9595_11eb_97e4_0242ac1c0002row1_col5\" class=\"data row1 col5\" >29</td>\n",
              "                        <td id=\"T_df240c8c_9595_11eb_97e4_0242ac1c0002row1_col6\" class=\"data row1 col6\" >150</td>\n",
              "                        <td id=\"T_df240c8c_9595_11eb_97e4_0242ac1c0002row1_col7\" class=\"data row1 col7\" >195</td>\n",
              "                        <td id=\"T_df240c8c_9595_11eb_97e4_0242ac1c0002row1_col8\" class=\"data row1 col8\" >254</td>\n",
              "                        <td id=\"T_df240c8c_9595_11eb_97e4_0242ac1c0002row1_col9\" class=\"data row1 col9\" >255</td>\n",
              "                        <td id=\"T_df240c8c_9595_11eb_97e4_0242ac1c0002row1_col10\" class=\"data row1 col10\" >254</td>\n",
              "                        <td id=\"T_df240c8c_9595_11eb_97e4_0242ac1c0002row1_col11\" class=\"data row1 col11\" >176</td>\n",
              "                        <td id=\"T_df240c8c_9595_11eb_97e4_0242ac1c0002row1_col12\" class=\"data row1 col12\" >193</td>\n",
              "                        <td id=\"T_df240c8c_9595_11eb_97e4_0242ac1c0002row1_col13\" class=\"data row1 col13\" >150</td>\n",
              "                        <td id=\"T_df240c8c_9595_11eb_97e4_0242ac1c0002row1_col14\" class=\"data row1 col14\" >96</td>\n",
              "                        <td id=\"T_df240c8c_9595_11eb_97e4_0242ac1c0002row1_col15\" class=\"data row1 col15\" >0</td>\n",
              "                        <td id=\"T_df240c8c_9595_11eb_97e4_0242ac1c0002row1_col16\" class=\"data row1 col16\" >0</td>\n",
              "                        <td id=\"T_df240c8c_9595_11eb_97e4_0242ac1c0002row1_col17\" class=\"data row1 col17\" >0</td>\n",
              "            </tr>\n",
              "            <tr>\n",
              "                        <th id=\"T_df240c8c_9595_11eb_97e4_0242ac1c0002level0_row2\" class=\"row_heading level0 row2\" >2</th>\n",
              "                        <td id=\"T_df240c8c_9595_11eb_97e4_0242ac1c0002row2_col0\" class=\"data row2 col0\" >0</td>\n",
              "                        <td id=\"T_df240c8c_9595_11eb_97e4_0242ac1c0002row2_col1\" class=\"data row2 col1\" >0</td>\n",
              "                        <td id=\"T_df240c8c_9595_11eb_97e4_0242ac1c0002row2_col2\" class=\"data row2 col2\" >0</td>\n",
              "                        <td id=\"T_df240c8c_9595_11eb_97e4_0242ac1c0002row2_col3\" class=\"data row2 col3\" >48</td>\n",
              "                        <td id=\"T_df240c8c_9595_11eb_97e4_0242ac1c0002row2_col4\" class=\"data row2 col4\" >166</td>\n",
              "                        <td id=\"T_df240c8c_9595_11eb_97e4_0242ac1c0002row2_col5\" class=\"data row2 col5\" >224</td>\n",
              "                        <td id=\"T_df240c8c_9595_11eb_97e4_0242ac1c0002row2_col6\" class=\"data row2 col6\" >253</td>\n",
              "                        <td id=\"T_df240c8c_9595_11eb_97e4_0242ac1c0002row2_col7\" class=\"data row2 col7\" >253</td>\n",
              "                        <td id=\"T_df240c8c_9595_11eb_97e4_0242ac1c0002row2_col8\" class=\"data row2 col8\" >234</td>\n",
              "                        <td id=\"T_df240c8c_9595_11eb_97e4_0242ac1c0002row2_col9\" class=\"data row2 col9\" >196</td>\n",
              "                        <td id=\"T_df240c8c_9595_11eb_97e4_0242ac1c0002row2_col10\" class=\"data row2 col10\" >253</td>\n",
              "                        <td id=\"T_df240c8c_9595_11eb_97e4_0242ac1c0002row2_col11\" class=\"data row2 col11\" >253</td>\n",
              "                        <td id=\"T_df240c8c_9595_11eb_97e4_0242ac1c0002row2_col12\" class=\"data row2 col12\" >253</td>\n",
              "                        <td id=\"T_df240c8c_9595_11eb_97e4_0242ac1c0002row2_col13\" class=\"data row2 col13\" >253</td>\n",
              "                        <td id=\"T_df240c8c_9595_11eb_97e4_0242ac1c0002row2_col14\" class=\"data row2 col14\" >233</td>\n",
              "                        <td id=\"T_df240c8c_9595_11eb_97e4_0242ac1c0002row2_col15\" class=\"data row2 col15\" >0</td>\n",
              "                        <td id=\"T_df240c8c_9595_11eb_97e4_0242ac1c0002row2_col16\" class=\"data row2 col16\" >0</td>\n",
              "                        <td id=\"T_df240c8c_9595_11eb_97e4_0242ac1c0002row2_col17\" class=\"data row2 col17\" >0</td>\n",
              "            </tr>\n",
              "            <tr>\n",
              "                        <th id=\"T_df240c8c_9595_11eb_97e4_0242ac1c0002level0_row3\" class=\"row_heading level0 row3\" >3</th>\n",
              "                        <td id=\"T_df240c8c_9595_11eb_97e4_0242ac1c0002row3_col0\" class=\"data row3 col0\" >0</td>\n",
              "                        <td id=\"T_df240c8c_9595_11eb_97e4_0242ac1c0002row3_col1\" class=\"data row3 col1\" >93</td>\n",
              "                        <td id=\"T_df240c8c_9595_11eb_97e4_0242ac1c0002row3_col2\" class=\"data row3 col2\" >244</td>\n",
              "                        <td id=\"T_df240c8c_9595_11eb_97e4_0242ac1c0002row3_col3\" class=\"data row3 col3\" >249</td>\n",
              "                        <td id=\"T_df240c8c_9595_11eb_97e4_0242ac1c0002row3_col4\" class=\"data row3 col4\" >253</td>\n",
              "                        <td id=\"T_df240c8c_9595_11eb_97e4_0242ac1c0002row3_col5\" class=\"data row3 col5\" >187</td>\n",
              "                        <td id=\"T_df240c8c_9595_11eb_97e4_0242ac1c0002row3_col6\" class=\"data row3 col6\" >46</td>\n",
              "                        <td id=\"T_df240c8c_9595_11eb_97e4_0242ac1c0002row3_col7\" class=\"data row3 col7\" >10</td>\n",
              "                        <td id=\"T_df240c8c_9595_11eb_97e4_0242ac1c0002row3_col8\" class=\"data row3 col8\" >8</td>\n",
              "                        <td id=\"T_df240c8c_9595_11eb_97e4_0242ac1c0002row3_col9\" class=\"data row3 col9\" >4</td>\n",
              "                        <td id=\"T_df240c8c_9595_11eb_97e4_0242ac1c0002row3_col10\" class=\"data row3 col10\" >10</td>\n",
              "                        <td id=\"T_df240c8c_9595_11eb_97e4_0242ac1c0002row3_col11\" class=\"data row3 col11\" >194</td>\n",
              "                        <td id=\"T_df240c8c_9595_11eb_97e4_0242ac1c0002row3_col12\" class=\"data row3 col12\" >253</td>\n",
              "                        <td id=\"T_df240c8c_9595_11eb_97e4_0242ac1c0002row3_col13\" class=\"data row3 col13\" >253</td>\n",
              "                        <td id=\"T_df240c8c_9595_11eb_97e4_0242ac1c0002row3_col14\" class=\"data row3 col14\" >233</td>\n",
              "                        <td id=\"T_df240c8c_9595_11eb_97e4_0242ac1c0002row3_col15\" class=\"data row3 col15\" >0</td>\n",
              "                        <td id=\"T_df240c8c_9595_11eb_97e4_0242ac1c0002row3_col16\" class=\"data row3 col16\" >0</td>\n",
              "                        <td id=\"T_df240c8c_9595_11eb_97e4_0242ac1c0002row3_col17\" class=\"data row3 col17\" >0</td>\n",
              "            </tr>\n",
              "            <tr>\n",
              "                        <th id=\"T_df240c8c_9595_11eb_97e4_0242ac1c0002level0_row4\" class=\"row_heading level0 row4\" >4</th>\n",
              "                        <td id=\"T_df240c8c_9595_11eb_97e4_0242ac1c0002row4_col0\" class=\"data row4 col0\" >0</td>\n",
              "                        <td id=\"T_df240c8c_9595_11eb_97e4_0242ac1c0002row4_col1\" class=\"data row4 col1\" >107</td>\n",
              "                        <td id=\"T_df240c8c_9595_11eb_97e4_0242ac1c0002row4_col2\" class=\"data row4 col2\" >253</td>\n",
              "                        <td id=\"T_df240c8c_9595_11eb_97e4_0242ac1c0002row4_col3\" class=\"data row4 col3\" >253</td>\n",
              "                        <td id=\"T_df240c8c_9595_11eb_97e4_0242ac1c0002row4_col4\" class=\"data row4 col4\" >230</td>\n",
              "                        <td id=\"T_df240c8c_9595_11eb_97e4_0242ac1c0002row4_col5\" class=\"data row4 col5\" >48</td>\n",
              "                        <td id=\"T_df240c8c_9595_11eb_97e4_0242ac1c0002row4_col6\" class=\"data row4 col6\" >0</td>\n",
              "                        <td id=\"T_df240c8c_9595_11eb_97e4_0242ac1c0002row4_col7\" class=\"data row4 col7\" >0</td>\n",
              "                        <td id=\"T_df240c8c_9595_11eb_97e4_0242ac1c0002row4_col8\" class=\"data row4 col8\" >0</td>\n",
              "                        <td id=\"T_df240c8c_9595_11eb_97e4_0242ac1c0002row4_col9\" class=\"data row4 col9\" >0</td>\n",
              "                        <td id=\"T_df240c8c_9595_11eb_97e4_0242ac1c0002row4_col10\" class=\"data row4 col10\" >0</td>\n",
              "                        <td id=\"T_df240c8c_9595_11eb_97e4_0242ac1c0002row4_col11\" class=\"data row4 col11\" >192</td>\n",
              "                        <td id=\"T_df240c8c_9595_11eb_97e4_0242ac1c0002row4_col12\" class=\"data row4 col12\" >253</td>\n",
              "                        <td id=\"T_df240c8c_9595_11eb_97e4_0242ac1c0002row4_col13\" class=\"data row4 col13\" >253</td>\n",
              "                        <td id=\"T_df240c8c_9595_11eb_97e4_0242ac1c0002row4_col14\" class=\"data row4 col14\" >156</td>\n",
              "                        <td id=\"T_df240c8c_9595_11eb_97e4_0242ac1c0002row4_col15\" class=\"data row4 col15\" >0</td>\n",
              "                        <td id=\"T_df240c8c_9595_11eb_97e4_0242ac1c0002row4_col16\" class=\"data row4 col16\" >0</td>\n",
              "                        <td id=\"T_df240c8c_9595_11eb_97e4_0242ac1c0002row4_col17\" class=\"data row4 col17\" >0</td>\n",
              "            </tr>\n",
              "            <tr>\n",
              "                        <th id=\"T_df240c8c_9595_11eb_97e4_0242ac1c0002level0_row5\" class=\"row_heading level0 row5\" >5</th>\n",
              "                        <td id=\"T_df240c8c_9595_11eb_97e4_0242ac1c0002row5_col0\" class=\"data row5 col0\" >0</td>\n",
              "                        <td id=\"T_df240c8c_9595_11eb_97e4_0242ac1c0002row5_col1\" class=\"data row5 col1\" >3</td>\n",
              "                        <td id=\"T_df240c8c_9595_11eb_97e4_0242ac1c0002row5_col2\" class=\"data row5 col2\" >20</td>\n",
              "                        <td id=\"T_df240c8c_9595_11eb_97e4_0242ac1c0002row5_col3\" class=\"data row5 col3\" >20</td>\n",
              "                        <td id=\"T_df240c8c_9595_11eb_97e4_0242ac1c0002row5_col4\" class=\"data row5 col4\" >15</td>\n",
              "                        <td id=\"T_df240c8c_9595_11eb_97e4_0242ac1c0002row5_col5\" class=\"data row5 col5\" >0</td>\n",
              "                        <td id=\"T_df240c8c_9595_11eb_97e4_0242ac1c0002row5_col6\" class=\"data row5 col6\" >0</td>\n",
              "                        <td id=\"T_df240c8c_9595_11eb_97e4_0242ac1c0002row5_col7\" class=\"data row5 col7\" >0</td>\n",
              "                        <td id=\"T_df240c8c_9595_11eb_97e4_0242ac1c0002row5_col8\" class=\"data row5 col8\" >0</td>\n",
              "                        <td id=\"T_df240c8c_9595_11eb_97e4_0242ac1c0002row5_col9\" class=\"data row5 col9\" >0</td>\n",
              "                        <td id=\"T_df240c8c_9595_11eb_97e4_0242ac1c0002row5_col10\" class=\"data row5 col10\" >43</td>\n",
              "                        <td id=\"T_df240c8c_9595_11eb_97e4_0242ac1c0002row5_col11\" class=\"data row5 col11\" >224</td>\n",
              "                        <td id=\"T_df240c8c_9595_11eb_97e4_0242ac1c0002row5_col12\" class=\"data row5 col12\" >253</td>\n",
              "                        <td id=\"T_df240c8c_9595_11eb_97e4_0242ac1c0002row5_col13\" class=\"data row5 col13\" >245</td>\n",
              "                        <td id=\"T_df240c8c_9595_11eb_97e4_0242ac1c0002row5_col14\" class=\"data row5 col14\" >74</td>\n",
              "                        <td id=\"T_df240c8c_9595_11eb_97e4_0242ac1c0002row5_col15\" class=\"data row5 col15\" >0</td>\n",
              "                        <td id=\"T_df240c8c_9595_11eb_97e4_0242ac1c0002row5_col16\" class=\"data row5 col16\" >0</td>\n",
              "                        <td id=\"T_df240c8c_9595_11eb_97e4_0242ac1c0002row5_col17\" class=\"data row5 col17\" >0</td>\n",
              "            </tr>\n",
              "            <tr>\n",
              "                        <th id=\"T_df240c8c_9595_11eb_97e4_0242ac1c0002level0_row6\" class=\"row_heading level0 row6\" >6</th>\n",
              "                        <td id=\"T_df240c8c_9595_11eb_97e4_0242ac1c0002row6_col0\" class=\"data row6 col0\" >0</td>\n",
              "                        <td id=\"T_df240c8c_9595_11eb_97e4_0242ac1c0002row6_col1\" class=\"data row6 col1\" >0</td>\n",
              "                        <td id=\"T_df240c8c_9595_11eb_97e4_0242ac1c0002row6_col2\" class=\"data row6 col2\" >0</td>\n",
              "                        <td id=\"T_df240c8c_9595_11eb_97e4_0242ac1c0002row6_col3\" class=\"data row6 col3\" >0</td>\n",
              "                        <td id=\"T_df240c8c_9595_11eb_97e4_0242ac1c0002row6_col4\" class=\"data row6 col4\" >0</td>\n",
              "                        <td id=\"T_df240c8c_9595_11eb_97e4_0242ac1c0002row6_col5\" class=\"data row6 col5\" >0</td>\n",
              "                        <td id=\"T_df240c8c_9595_11eb_97e4_0242ac1c0002row6_col6\" class=\"data row6 col6\" >0</td>\n",
              "                        <td id=\"T_df240c8c_9595_11eb_97e4_0242ac1c0002row6_col7\" class=\"data row6 col7\" >0</td>\n",
              "                        <td id=\"T_df240c8c_9595_11eb_97e4_0242ac1c0002row6_col8\" class=\"data row6 col8\" >0</td>\n",
              "                        <td id=\"T_df240c8c_9595_11eb_97e4_0242ac1c0002row6_col9\" class=\"data row6 col9\" >0</td>\n",
              "                        <td id=\"T_df240c8c_9595_11eb_97e4_0242ac1c0002row6_col10\" class=\"data row6 col10\" >249</td>\n",
              "                        <td id=\"T_df240c8c_9595_11eb_97e4_0242ac1c0002row6_col11\" class=\"data row6 col11\" >253</td>\n",
              "                        <td id=\"T_df240c8c_9595_11eb_97e4_0242ac1c0002row6_col12\" class=\"data row6 col12\" >245</td>\n",
              "                        <td id=\"T_df240c8c_9595_11eb_97e4_0242ac1c0002row6_col13\" class=\"data row6 col13\" >126</td>\n",
              "                        <td id=\"T_df240c8c_9595_11eb_97e4_0242ac1c0002row6_col14\" class=\"data row6 col14\" >0</td>\n",
              "                        <td id=\"T_df240c8c_9595_11eb_97e4_0242ac1c0002row6_col15\" class=\"data row6 col15\" >0</td>\n",
              "                        <td id=\"T_df240c8c_9595_11eb_97e4_0242ac1c0002row6_col16\" class=\"data row6 col16\" >0</td>\n",
              "                        <td id=\"T_df240c8c_9595_11eb_97e4_0242ac1c0002row6_col17\" class=\"data row6 col17\" >0</td>\n",
              "            </tr>\n",
              "            <tr>\n",
              "                        <th id=\"T_df240c8c_9595_11eb_97e4_0242ac1c0002level0_row7\" class=\"row_heading level0 row7\" >7</th>\n",
              "                        <td id=\"T_df240c8c_9595_11eb_97e4_0242ac1c0002row7_col0\" class=\"data row7 col0\" >0</td>\n",
              "                        <td id=\"T_df240c8c_9595_11eb_97e4_0242ac1c0002row7_col1\" class=\"data row7 col1\" >0</td>\n",
              "                        <td id=\"T_df240c8c_9595_11eb_97e4_0242ac1c0002row7_col2\" class=\"data row7 col2\" >0</td>\n",
              "                        <td id=\"T_df240c8c_9595_11eb_97e4_0242ac1c0002row7_col3\" class=\"data row7 col3\" >0</td>\n",
              "                        <td id=\"T_df240c8c_9595_11eb_97e4_0242ac1c0002row7_col4\" class=\"data row7 col4\" >0</td>\n",
              "                        <td id=\"T_df240c8c_9595_11eb_97e4_0242ac1c0002row7_col5\" class=\"data row7 col5\" >0</td>\n",
              "                        <td id=\"T_df240c8c_9595_11eb_97e4_0242ac1c0002row7_col6\" class=\"data row7 col6\" >0</td>\n",
              "                        <td id=\"T_df240c8c_9595_11eb_97e4_0242ac1c0002row7_col7\" class=\"data row7 col7\" >14</td>\n",
              "                        <td id=\"T_df240c8c_9595_11eb_97e4_0242ac1c0002row7_col8\" class=\"data row7 col8\" >101</td>\n",
              "                        <td id=\"T_df240c8c_9595_11eb_97e4_0242ac1c0002row7_col9\" class=\"data row7 col9\" >223</td>\n",
              "                        <td id=\"T_df240c8c_9595_11eb_97e4_0242ac1c0002row7_col10\" class=\"data row7 col10\" >253</td>\n",
              "                        <td id=\"T_df240c8c_9595_11eb_97e4_0242ac1c0002row7_col11\" class=\"data row7 col11\" >248</td>\n",
              "                        <td id=\"T_df240c8c_9595_11eb_97e4_0242ac1c0002row7_col12\" class=\"data row7 col12\" >124</td>\n",
              "                        <td id=\"T_df240c8c_9595_11eb_97e4_0242ac1c0002row7_col13\" class=\"data row7 col13\" >0</td>\n",
              "                        <td id=\"T_df240c8c_9595_11eb_97e4_0242ac1c0002row7_col14\" class=\"data row7 col14\" >0</td>\n",
              "                        <td id=\"T_df240c8c_9595_11eb_97e4_0242ac1c0002row7_col15\" class=\"data row7 col15\" >0</td>\n",
              "                        <td id=\"T_df240c8c_9595_11eb_97e4_0242ac1c0002row7_col16\" class=\"data row7 col16\" >0</td>\n",
              "                        <td id=\"T_df240c8c_9595_11eb_97e4_0242ac1c0002row7_col17\" class=\"data row7 col17\" >0</td>\n",
              "            </tr>\n",
              "            <tr>\n",
              "                        <th id=\"T_df240c8c_9595_11eb_97e4_0242ac1c0002level0_row8\" class=\"row_heading level0 row8\" >8</th>\n",
              "                        <td id=\"T_df240c8c_9595_11eb_97e4_0242ac1c0002row8_col0\" class=\"data row8 col0\" >0</td>\n",
              "                        <td id=\"T_df240c8c_9595_11eb_97e4_0242ac1c0002row8_col1\" class=\"data row8 col1\" >0</td>\n",
              "                        <td id=\"T_df240c8c_9595_11eb_97e4_0242ac1c0002row8_col2\" class=\"data row8 col2\" >0</td>\n",
              "                        <td id=\"T_df240c8c_9595_11eb_97e4_0242ac1c0002row8_col3\" class=\"data row8 col3\" >0</td>\n",
              "                        <td id=\"T_df240c8c_9595_11eb_97e4_0242ac1c0002row8_col4\" class=\"data row8 col4\" >0</td>\n",
              "                        <td id=\"T_df240c8c_9595_11eb_97e4_0242ac1c0002row8_col5\" class=\"data row8 col5\" >11</td>\n",
              "                        <td id=\"T_df240c8c_9595_11eb_97e4_0242ac1c0002row8_col6\" class=\"data row8 col6\" >166</td>\n",
              "                        <td id=\"T_df240c8c_9595_11eb_97e4_0242ac1c0002row8_col7\" class=\"data row8 col7\" >239</td>\n",
              "                        <td id=\"T_df240c8c_9595_11eb_97e4_0242ac1c0002row8_col8\" class=\"data row8 col8\" >253</td>\n",
              "                        <td id=\"T_df240c8c_9595_11eb_97e4_0242ac1c0002row8_col9\" class=\"data row8 col9\" >253</td>\n",
              "                        <td id=\"T_df240c8c_9595_11eb_97e4_0242ac1c0002row8_col10\" class=\"data row8 col10\" >253</td>\n",
              "                        <td id=\"T_df240c8c_9595_11eb_97e4_0242ac1c0002row8_col11\" class=\"data row8 col11\" >187</td>\n",
              "                        <td id=\"T_df240c8c_9595_11eb_97e4_0242ac1c0002row8_col12\" class=\"data row8 col12\" >30</td>\n",
              "                        <td id=\"T_df240c8c_9595_11eb_97e4_0242ac1c0002row8_col13\" class=\"data row8 col13\" >0</td>\n",
              "                        <td id=\"T_df240c8c_9595_11eb_97e4_0242ac1c0002row8_col14\" class=\"data row8 col14\" >0</td>\n",
              "                        <td id=\"T_df240c8c_9595_11eb_97e4_0242ac1c0002row8_col15\" class=\"data row8 col15\" >0</td>\n",
              "                        <td id=\"T_df240c8c_9595_11eb_97e4_0242ac1c0002row8_col16\" class=\"data row8 col16\" >0</td>\n",
              "                        <td id=\"T_df240c8c_9595_11eb_97e4_0242ac1c0002row8_col17\" class=\"data row8 col17\" >0</td>\n",
              "            </tr>\n",
              "            <tr>\n",
              "                        <th id=\"T_df240c8c_9595_11eb_97e4_0242ac1c0002level0_row9\" class=\"row_heading level0 row9\" >9</th>\n",
              "                        <td id=\"T_df240c8c_9595_11eb_97e4_0242ac1c0002row9_col0\" class=\"data row9 col0\" >0</td>\n",
              "                        <td id=\"T_df240c8c_9595_11eb_97e4_0242ac1c0002row9_col1\" class=\"data row9 col1\" >0</td>\n",
              "                        <td id=\"T_df240c8c_9595_11eb_97e4_0242ac1c0002row9_col2\" class=\"data row9 col2\" >0</td>\n",
              "                        <td id=\"T_df240c8c_9595_11eb_97e4_0242ac1c0002row9_col3\" class=\"data row9 col3\" >0</td>\n",
              "                        <td id=\"T_df240c8c_9595_11eb_97e4_0242ac1c0002row9_col4\" class=\"data row9 col4\" >0</td>\n",
              "                        <td id=\"T_df240c8c_9595_11eb_97e4_0242ac1c0002row9_col5\" class=\"data row9 col5\" >16</td>\n",
              "                        <td id=\"T_df240c8c_9595_11eb_97e4_0242ac1c0002row9_col6\" class=\"data row9 col6\" >248</td>\n",
              "                        <td id=\"T_df240c8c_9595_11eb_97e4_0242ac1c0002row9_col7\" class=\"data row9 col7\" >250</td>\n",
              "                        <td id=\"T_df240c8c_9595_11eb_97e4_0242ac1c0002row9_col8\" class=\"data row9 col8\" >253</td>\n",
              "                        <td id=\"T_df240c8c_9595_11eb_97e4_0242ac1c0002row9_col9\" class=\"data row9 col9\" >253</td>\n",
              "                        <td id=\"T_df240c8c_9595_11eb_97e4_0242ac1c0002row9_col10\" class=\"data row9 col10\" >253</td>\n",
              "                        <td id=\"T_df240c8c_9595_11eb_97e4_0242ac1c0002row9_col11\" class=\"data row9 col11\" >253</td>\n",
              "                        <td id=\"T_df240c8c_9595_11eb_97e4_0242ac1c0002row9_col12\" class=\"data row9 col12\" >232</td>\n",
              "                        <td id=\"T_df240c8c_9595_11eb_97e4_0242ac1c0002row9_col13\" class=\"data row9 col13\" >213</td>\n",
              "                        <td id=\"T_df240c8c_9595_11eb_97e4_0242ac1c0002row9_col14\" class=\"data row9 col14\" >111</td>\n",
              "                        <td id=\"T_df240c8c_9595_11eb_97e4_0242ac1c0002row9_col15\" class=\"data row9 col15\" >2</td>\n",
              "                        <td id=\"T_df240c8c_9595_11eb_97e4_0242ac1c0002row9_col16\" class=\"data row9 col16\" >0</td>\n",
              "                        <td id=\"T_df240c8c_9595_11eb_97e4_0242ac1c0002row9_col17\" class=\"data row9 col17\" >0</td>\n",
              "            </tr>\n",
              "            <tr>\n",
              "                        <th id=\"T_df240c8c_9595_11eb_97e4_0242ac1c0002level0_row10\" class=\"row_heading level0 row10\" >10</th>\n",
              "                        <td id=\"T_df240c8c_9595_11eb_97e4_0242ac1c0002row10_col0\" class=\"data row10 col0\" >0</td>\n",
              "                        <td id=\"T_df240c8c_9595_11eb_97e4_0242ac1c0002row10_col1\" class=\"data row10 col1\" >0</td>\n",
              "                        <td id=\"T_df240c8c_9595_11eb_97e4_0242ac1c0002row10_col2\" class=\"data row10 col2\" >0</td>\n",
              "                        <td id=\"T_df240c8c_9595_11eb_97e4_0242ac1c0002row10_col3\" class=\"data row10 col3\" >0</td>\n",
              "                        <td id=\"T_df240c8c_9595_11eb_97e4_0242ac1c0002row10_col4\" class=\"data row10 col4\" >0</td>\n",
              "                        <td id=\"T_df240c8c_9595_11eb_97e4_0242ac1c0002row10_col5\" class=\"data row10 col5\" >0</td>\n",
              "                        <td id=\"T_df240c8c_9595_11eb_97e4_0242ac1c0002row10_col6\" class=\"data row10 col6\" >0</td>\n",
              "                        <td id=\"T_df240c8c_9595_11eb_97e4_0242ac1c0002row10_col7\" class=\"data row10 col7\" >43</td>\n",
              "                        <td id=\"T_df240c8c_9595_11eb_97e4_0242ac1c0002row10_col8\" class=\"data row10 col8\" >98</td>\n",
              "                        <td id=\"T_df240c8c_9595_11eb_97e4_0242ac1c0002row10_col9\" class=\"data row10 col9\" >98</td>\n",
              "                        <td id=\"T_df240c8c_9595_11eb_97e4_0242ac1c0002row10_col10\" class=\"data row10 col10\" >208</td>\n",
              "                        <td id=\"T_df240c8c_9595_11eb_97e4_0242ac1c0002row10_col11\" class=\"data row10 col11\" >253</td>\n",
              "                        <td id=\"T_df240c8c_9595_11eb_97e4_0242ac1c0002row10_col12\" class=\"data row10 col12\" >253</td>\n",
              "                        <td id=\"T_df240c8c_9595_11eb_97e4_0242ac1c0002row10_col13\" class=\"data row10 col13\" >253</td>\n",
              "                        <td id=\"T_df240c8c_9595_11eb_97e4_0242ac1c0002row10_col14\" class=\"data row10 col14\" >253</td>\n",
              "                        <td id=\"T_df240c8c_9595_11eb_97e4_0242ac1c0002row10_col15\" class=\"data row10 col15\" >187</td>\n",
              "                        <td id=\"T_df240c8c_9595_11eb_97e4_0242ac1c0002row10_col16\" class=\"data row10 col16\" >22</td>\n",
              "                        <td id=\"T_df240c8c_9595_11eb_97e4_0242ac1c0002row10_col17\" class=\"data row10 col17\" >0</td>\n",
              "            </tr>\n",
              "    </tbody></table>"
            ],
            "text/plain": [
              "<pandas.io.formats.style.Styler at 0x7fa1fb771190>"
            ]
          },
          "metadata": {
            "tags": []
          },
          "execution_count": 9
        }
      ]
    },
    {
      "cell_type": "markdown",
      "metadata": {
        "id": "sOZPcbQ7tmBK"
      },
      "source": [
        "We will use Jupyter to do some little checks of our work along the way—in this case, making sure that the number of returned items seems reasonable:"
      ]
    },
    {
      "cell_type": "code",
      "metadata": {
        "colab": {
          "base_uri": "https://localhost:8080/"
        },
        "id": "kF_7V-62tmHC",
        "outputId": "8e849bc7-fe5a-46e2-a379-977e0d04f8d8"
      },
      "source": [
        "seven_tensors = [tensor(Image.open(o)) for o in sevens]\n",
        "three_tensors = [tensor(Image.open(o)) for o in threes]\n",
        "len(three_tensors),len(seven_tensors)"
      ],
      "execution_count": 10,
      "outputs": [
        {
          "output_type": "execute_result",
          "data": {
            "text/plain": [
              "(6131, 6265)"
            ]
          },
          "metadata": {
            "tags": []
          },
          "execution_count": 10
        }
      ]
    },
    {
      "cell_type": "code",
      "metadata": {
        "colab": {
          "base_uri": "https://localhost:8080/",
          "height": 85
        },
        "id": "Nj2BHK4OtsnN",
        "outputId": "03adcd2f-1285-4ea9-c36b-13a504c1f286"
      },
      "source": [
        "show_image(three_tensors[1]);"
      ],
      "execution_count": 11,
      "outputs": [
        {
          "output_type": "display_data",
          "data": {
            "image/png": "[encoded data removed]",
            "text/plain": [
              "<Figure size 72x72 with 1 Axes>"
            ]
          },
          "metadata": {
            "tags": [],
            "needs_background": "light"
          }
        }
      ]
    },
    {
      "cell_type": "markdown",
      "metadata": {
        "id": "64ugKOkwtpPk"
      },
      "source": [
        "For every pixel position, we want to compute the average over all the images of the intensity of that pixel. To do this we first combine all the images in this list into a single three-dimensional tensor. The most common way to describe such a tensor is to call it a rank-3 tensor. We often need to stack up individual tensors in a collection into a single tensor. Unsurprisingly, PyTorch comes with a function called stack that we can use for this purpose."
      ]
    },
    {
      "cell_type": "code",
      "metadata": {
        "colab": {
          "base_uri": "https://localhost:8080/"
        },
        "id": "WSkHIhE6t0Oc",
        "outputId": "d768c322-af20-490d-a406-fca3c0069d74"
      },
      "source": [
        "stacked_sevens = torch.stack(seven_tensors).float()/255\n",
        "stacked_threes = torch.stack(three_tensors).float()/255\n",
        "stacked_threes.shape"
      ],
      "execution_count": 12,
      "outputs": [
        {
          "output_type": "execute_result",
          "data": {
            "text/plain": [
              "torch.Size([6131, 28, 28])"
            ]
          },
          "metadata": {
            "tags": []
          },
          "execution_count": 12
        }
      ]
    },
    {
      "cell_type": "code",
      "metadata": {
        "colab": {
          "base_uri": "https://localhost:8080/"
        },
        "id": "0rQRCew7uy_2",
        "outputId": "3e6022ee-077a-4588-ddf0-947aad2221ba"
      },
      "source": [
        "len(stacked_threes.shape)"
      ],
      "execution_count": 13,
      "outputs": [
        {
          "output_type": "execute_result",
          "data": {
            "text/plain": [
              "3"
            ]
          },
          "metadata": {
            "tags": []
          },
          "execution_count": 13
        }
      ]
    },
    {
      "cell_type": "markdown",
      "metadata": {
        "id": "mWn63I1wu1XY"
      },
      "source": [
        "We can also get a tensor's rank directly with ndim:"
      ]
    },
    {
      "cell_type": "code",
      "metadata": {
        "colab": {
          "base_uri": "https://localhost:8080/"
        },
        "id": "eN6xXZ_-u1uj",
        "outputId": "3742b092-bf7b-460c-9794-b3c8b3b5b909"
      },
      "source": [
        "stacked_threes.ndim"
      ],
      "execution_count": 14,
      "outputs": [
        {
          "output_type": "execute_result",
          "data": {
            "text/plain": [
              "3"
            ]
          },
          "metadata": {
            "tags": []
          },
          "execution_count": 14
        }
      ]
    },
    {
      "cell_type": "markdown",
      "metadata": {
        "id": "NBqFXYJ6u7TQ"
      },
      "source": [
        "Finally, we can compute what the ideal 3 looks like. We calculate the mean of all the image tensors by taking the mean along dimension 0 of our stacked, rank-3 tensor. This is the dimension that indexes over all the images.\n",
        "\n",
        "In other words, for every pixel position, this will compute the average of that pixel over all images. The result will be one value for every pixel position, or a single image. Here it is:\n"
      ]
    },
    {
      "cell_type": "code",
      "metadata": {
        "colab": {
          "base_uri": "https://localhost:8080/",
          "height": 85
        },
        "id": "-xIbqzRZu72B",
        "outputId": "d1489580-01db-45bb-a647-5e49c73436bd"
      },
      "source": [
        "mean3 = stacked_threes.mean(0)\n",
        "show_image(mean3);"
      ],
      "execution_count": 15,
      "outputs": [
        {
          "output_type": "display_data",
          "data": {
            "image/png": "[encoded data removed]",
            "text/plain": [
              "<Figure size 72x72 with 1 Axes>"
            ]
          },
          "metadata": {
            "tags": [],
            "needs_background": "light"
          }
        }
      ]
    },
    {
      "cell_type": "code",
      "metadata": {
        "colab": {
          "base_uri": "https://localhost:8080/",
          "height": 85
        },
        "id": "VE4vaNkvvSUE",
        "outputId": "f6f52141-9897-4dca-bd72-a6bc17d026e6"
      },
      "source": [
        "mean7 = stacked_sevens.mean(0)\n",
        "show_image(mean7);"
      ],
      "execution_count": 16,
      "outputs": [
        {
          "output_type": "display_data",
          "data": {
            "image/png": "[encoded data removed]",
            "text/plain": [
              "<Figure size 72x72 with 1 Axes>"
            ]
          },
          "metadata": {
            "tags": [],
            "needs_background": "light"
          }
        }
      ]
    },
    {
      "cell_type": "markdown",
      "metadata": {
        "id": "9eWU-wEbxkpd"
      },
      "source": [
        "Let's now pick an arbitrary 3 and measure its distance from our \"ideal digits.\"\n",
        "\n",
        "\n",
        "\n",
        "Here's a test sample:"
      ]
    },
    {
      "cell_type": "code",
      "metadata": {
        "colab": {
          "base_uri": "https://localhost:8080/",
          "height": 85
        },
        "id": "wDzUSa7Mxkvd",
        "outputId": "4cea244f-4893-4e46-f7fd-57e279f1150b"
      },
      "source": [
        "a_3 = stacked_threes[1]\n",
        "show_image(a_3);"
      ],
      "execution_count": 17,
      "outputs": [
        {
          "output_type": "display_data",
          "data": {
            "image/png": "[encoded data removed]",
            "text/plain": [
              "<Figure size 72x72 with 1 Axes>"
            ]
          },
          "metadata": {
            "tags": [],
            "needs_background": "light"
          }
        }
      ]
    },
    {
      "cell_type": "markdown",
      "metadata": {
        "id": "clU0mjVM0LNk"
      },
      "source": [
        "We can compare pixels in two images to each other and add up all differences to see how big is the difference. It can vary from negative to positive. \n",
        "But this is a faulsy way of thinking. An image that is too dark in some places and too light in others might be shown as having zero total differences from the ideal.\n",
        "To avoid this, there are two main ways data scientists measure distance in this context:\n",
        "\n",
        "\n",
        "*   Take the mean of the absolute value of differences (absolute value is the function that replaces negative values with positive values). This is called the mean absolute difference or L1 norm\n",
        "*   Take the mean of the square of differences (which makes everything positive) and then take the square root (which undoes the squaring). This is called the root mean squared error (RMSE) or L2 norm.\n",
        "\n",
        "\n",
        "\n",
        "    "
      ]
    },
    {
      "cell_type": "code",
      "metadata": {
        "colab": {
          "base_uri": "https://localhost:8080/"
        },
        "id": "9LX5fBR_zB9u",
        "outputId": "1b6b06e5-4ea3-4489-947a-dc30cfda5457"
      },
      "source": [
        "dist_3_abs = (a_3 - mean3).abs().mean()\n",
        "dist_3_sqr = ((a_3 - mean3)**2).mean().sqrt()\n",
        "dist_3_abs,dist_3_sqr\n"
      ],
      "execution_count": 18,
      "outputs": [
        {
          "output_type": "execute_result",
          "data": {
            "text/plain": [
              "(tensor(0.1114), tensor(0.2021))"
            ]
          },
          "metadata": {
            "tags": []
          },
          "execution_count": 18
        }
      ]
    },
    {
      "cell_type": "code",
      "metadata": {
        "colab": {
          "base_uri": "https://localhost:8080/"
        },
        "id": "tYJdCuMK0fGB",
        "outputId": "0c14667e-7b8c-40ca-c27c-ec00d1800c46"
      },
      "source": [
        "dist_7_abs = (a_3 - mean7).abs().mean()\n",
        "dist_7_sqr = ((a_3 - mean7)**2).mean().sqrt()\n",
        "dist_7_abs,dist_7_sqr"
      ],
      "execution_count": 19,
      "outputs": [
        {
          "output_type": "execute_result",
          "data": {
            "text/plain": [
              "(tensor(0.1586), tensor(0.3021))"
            ]
          },
          "metadata": {
            "tags": []
          },
          "execution_count": 19
        }
      ]
    },
    {
      "cell_type": "markdown",
      "metadata": {
        "id": "saHvtas56ZX9"
      },
      "source": [
        "In both cases, the distance between our 3 and the \"ideal\" 3 is less than the distance to the ideal 7. So our simple model will give the right prediction in this case."
      ]
    },
    {
      "cell_type": "markdown",
      "metadata": {
        "id": "DSZMywoW6OdT"
      },
      "source": [
        "PyTorch already provides both of these as loss functions. You'll find these inside torch.nn.functional, which the PyTorch team recommends importing as F (and is available by default under that name in fastai):"
      ]
    },
    {
      "cell_type": "code",
      "metadata": {
        "colab": {
          "base_uri": "https://localhost:8080/"
        },
        "id": "2BGDyktL6gVx",
        "outputId": "9c3b1d01-26df-491f-f584-c71053448275"
      },
      "source": [
        "F.l1_loss(a_3.float(),mean7), F.mse_loss(a_3,mean7).sqrt()"
      ],
      "execution_count": 20,
      "outputs": [
        {
          "output_type": "execute_result",
          "data": {
            "text/plain": [
              "(tensor(0.1586), tensor(0.3021))"
            ]
          },
          "metadata": {
            "tags": []
          },
          "execution_count": 20
        }
      ]
    },
    {
      "cell_type": "markdown",
      "metadata": {
        "id": "eg3M94d96my9"
      },
      "source": [
        "Here mse stands for mean squared error, and l1 refers to the standard mathematical jargon for mean absolute value (in math it's called the L1 norm)."
      ]
    },
    {
      "cell_type": "markdown",
      "metadata": {
        "id": "-13avzDf7cvy"
      },
      "source": [
        "# Computing Metrics Using Broadcasting"
      ]
    },
    {
      "cell_type": "markdown",
      "metadata": {
        "id": "tdsmbMAW8A7k"
      },
      "source": [
        "So to start with, let's create tensors for our 3s and 7s from the \"valid\" directory in order to create a validation set. These are the tensors we will use to calculate a metric measuring the quality of our first-try model, which measures distance from an ideal image:"
      ]
    },
    {
      "cell_type": "markdown",
      "metadata": {
        "id": "VpvQ1Ss8yqOv"
      },
      "source": [
        "It's good to get in the habit of checking shapes as you go. Here we see two tensors, one representing the 3s validation set of 1,010 images of size 28×28, and one representing the 7s validation set of 1,028 images of size 28×28."
      ]
    },
    {
      "cell_type": "code",
      "metadata": {
        "id": "ksg4asGmDp4N",
        "colab": {
          "base_uri": "https://localhost:8080/"
        },
        "outputId": "126f1a9c-f8d5-45a2-c44f-d58c3e6d648b"
      },
      "source": [
        "valid_3_tens = torch.stack([tensor(Image.open(o)) \n",
        "                            for o in (path/'valid'/'3').ls()])\n",
        "valid_3_tens = valid_3_tens.float()/255\n",
        "valid_7_tens = torch.stack([tensor(Image.open(o)) \n",
        "                            for o in (path/'valid'/'7').ls()])\n",
        "valid_7_tens = valid_7_tens.float()/255\n",
        "valid_3_tens.shape,valid_7_tens.shape"
      ],
      "execution_count": 21,
      "outputs": [
        {
          "output_type": "execute_result",
          "data": {
            "text/plain": [
              "(torch.Size([1010, 28, 28]), torch.Size([1028, 28, 28]))"
            ]
          },
          "metadata": {
            "tags": []
          },
          "execution_count": 21
        }
      ]
    },
    {
      "cell_type": "markdown",
      "metadata": {
        "id": "ML2sIY04DxW1"
      },
      "source": [
        "We ultimately want to write a function, is_3, that will decide if an arbitrary image is a 3 or a 7. It will do this by deciding which of our two \"ideal digits\" this arbitrary image is closer to. For that we need to define a notion of distance—that is, a function that calculates the distance between two images.\n",
        "\n",
        "We can write a simple function that calculates the mean absolute error using an expression very similar to the one we wrote in the last section:"
      ]
    },
    {
      "cell_type": "code",
      "metadata": {
        "id": "-30Tx5xsDx8z",
        "colab": {
          "base_uri": "https://localhost:8080/"
        },
        "outputId": "52a6e9c9-8da3-4028-877f-bcae6549b818"
      },
      "source": [
        "def mnist_distance(a,b): return (a-b).abs().mean((-1,-2))\n",
        "mnist_distance(a_3, mean3)"
      ],
      "execution_count": 22,
      "outputs": [
        {
          "output_type": "execute_result",
          "data": {
            "text/plain": [
              "tensor(0.1114)"
            ]
          },
          "metadata": {
            "tags": []
          },
          "execution_count": 22
        }
      ]
    },
    {
      "cell_type": "markdown",
      "metadata": {
        "id": "m5jDr65YzKoR"
      },
      "source": [
        "In order to calculate a metric for overall accuracy, we will need to calculate the distance to the ideal 3 for every image in the validation set. How do we do that calculation? We could write a loop over all of the single-image tensors that are stacked within our validation set tensor, valid_3_tens, which has a shape of [1010,28,28] representing 1,010 images. But there is a better way.\n",
        "\n",
        "Something very interesting happens when we take this exact same distance function, designed for comparing two single images, but pass in as an argument valid_3_tens, the tensor that represents the 3s validation set:"
      ]
    },
    {
      "cell_type": "code",
      "metadata": {
        "id": "mWbMlG7rzRWE",
        "colab": {
          "base_uri": "https://localhost:8080/"
        },
        "outputId": "1a0d2290-82cc-433e-cade-43d2f3c4d5a5"
      },
      "source": [
        "valid_3_dist = mnist_distance(valid_3_tens, mean3)\n",
        "valid_3_dist, valid_3_dist.shape"
      ],
      "execution_count": 23,
      "outputs": [
        {
          "output_type": "execute_result",
          "data": {
            "text/plain": [
              "(tensor([0.1063, 0.1160, 0.1519,  ..., 0.1257, 0.1433, 0.1162]),\n",
              " torch.Size([1010]))"
            ]
          },
          "metadata": {
            "tags": []
          },
          "execution_count": 23
        }
      ]
    },
    {
      "cell_type": "markdown",
      "metadata": {
        "id": "btKA-nDOzmo2"
      },
      "source": [
        "Take another look at our function mnist_distance, and you'll see we have there the subtraction (a-b). The magic trick is that PyTorch, when it tries to perform a simple subtraction operation between two tensors of different ranks, will use broadcasting. That is, it will automatically expand the tensor with the smaller rank to have the same size as the one with the larger rank. Broadcasting is an important capability that makes tensor code much easier to write.\n",
        "\n",
        "After broadcasting so the two argument tensors have the same rank, PyTorch applies its usual logic for two tensors of the same rank: it performs the operation on each corresponding element of the two tensors, and returns the tensor result. For instance:\n"
      ]
    },
    {
      "cell_type": "code",
      "metadata": {
        "id": "yrb9LOYdznJ2",
        "colab": {
          "base_uri": "https://localhost:8080/"
        },
        "outputId": "b6a05f44-7f92-4b1f-88a1-12b683c7704e"
      },
      "source": [
        "tensor([1,2,3]) + tensor(1)"
      ],
      "execution_count": 24,
      "outputs": [
        {
          "output_type": "execute_result",
          "data": {
            "text/plain": [
              "tensor([2, 3, 4])"
            ]
          },
          "metadata": {
            "tags": []
          },
          "execution_count": 24
        }
      ]
    },
    {
      "cell_type": "markdown",
      "metadata": {
        "id": "nRZbZ7fYzsY5"
      },
      "source": [
        "So in this case, PyTorch treats mean3, a rank-2 tensor representing a single image, as if it were 1,010 copies of the same image, and then subtracts each of those copies from each 3 in our validation set. "
      ]
    },
    {
      "cell_type": "code",
      "metadata": {
        "id": "HeyPWpKT0x-8",
        "colab": {
          "base_uri": "https://localhost:8080/"
        },
        "outputId": "4ddeb687-c3c4-454e-ccd6-9d6aaf116af7"
      },
      "source": [
        "(valid_3_tens-mean3).shape"
      ],
      "execution_count": 25,
      "outputs": [
        {
          "output_type": "execute_result",
          "data": {
            "text/plain": [
              "torch.Size([1010, 28, 28])"
            ]
          },
          "metadata": {
            "tags": []
          },
          "execution_count": 25
        }
      ]
    },
    {
      "cell_type": "markdown",
      "metadata": {
        "id": "B1f-Muhb13UG"
      },
      "source": [
        "This function will automatically do broadcasting and be applied elementwise, just like all PyTorch functions and operators:"
      ]
    },
    {
      "cell_type": "code",
      "metadata": {
        "id": "jK1xKI2813oy"
      },
      "source": [
        "def is_3(x): return mnist_distance(x,mean3) < mnist_distance(x,mean7)"
      ],
      "execution_count": 26,
      "outputs": []
    },
    {
      "cell_type": "code",
      "metadata": {
        "id": "xXGCemc6158l",
        "colab": {
          "base_uri": "https://localhost:8080/"
        },
        "outputId": "756df14c-e3ab-441c-eda1-61eb68d20285"
      },
      "source": [
        "is_3(a_3), is_3(a_3).float()"
      ],
      "execution_count": 27,
      "outputs": [
        {
          "output_type": "execute_result",
          "data": {
            "text/plain": [
              "(tensor(True), tensor(1.))"
            ]
          },
          "metadata": {
            "tags": []
          },
          "execution_count": 27
        }
      ]
    },
    {
      "cell_type": "code",
      "metadata": {
        "id": "k0zJb9EM2aft",
        "colab": {
          "base_uri": "https://localhost:8080/"
        },
        "outputId": "04c7f5a9-b100-4508-a083-47f66342c8c0"
      },
      "source": [
        "is_3(valid_3_tens)"
      ],
      "execution_count": 28,
      "outputs": [
        {
          "output_type": "execute_result",
          "data": {
            "text/plain": [
              "tensor([True, True, True,  ..., True, True, True])"
            ]
          },
          "metadata": {
            "tags": []
          },
          "execution_count": 28
        }
      ]
    },
    {
      "cell_type": "markdown",
      "metadata": {
        "id": "mZCdfPRL2Xqa"
      },
      "source": [
        ".float is a conversion to Boolean.\n",
        "Now we can calculate the accuracy for each of the 3s and 7s by taking the average of that function for all 3s and its inverse for all 7s:"
      ]
    },
    {
      "cell_type": "code",
      "metadata": {
        "id": "Wui9KIDG2kCS",
        "colab": {
          "base_uri": "https://localhost:8080/"
        },
        "outputId": "919e666a-3c5d-4d07-afc8-b6959b5123da"
      },
      "source": [
        "accuracy_3s =      is_3(valid_3_tens).float() .mean()\n",
        "accuracy_7s = (1 - is_3(valid_7_tens).float()).mean()\n",
        "\n",
        "accuracy_3s,accuracy_7s,(accuracy_3s+accuracy_7s)/2"
      ],
      "execution_count": 29,
      "outputs": [
        {
          "output_type": "execute_result",
          "data": {
            "text/plain": [
              "(tensor(0.9168), tensor(0.9854), tensor(0.9511))"
            ]
          },
          "metadata": {
            "tags": []
          },
          "execution_count": 29
        }
      ]
    },
    {
      "cell_type": "markdown",
      "metadata": {
        "id": "YnWl_HBu23DB"
      },
      "source": [
        "This looks like a pretty good start! We're getting over 90% accuracy on both 3s and 7s, and we've seen how to define a metric conveniently using broadcasting.\n",
        "To do better, perhaps it is time to try a system that does some real learning—that is, that can automatically modify itself to improve its performance. In other words, it's time to talk about the training process, and SGD."
      ]
    },
    {
      "cell_type": "markdown",
      "metadata": {
        "id": "c8r5uODX28CE"
      },
      "source": [
        "# Stochastic Gradient Descent (SGD)"
      ]
    },
    {
      "cell_type": "markdown",
      "metadata": {
        "id": "tRXzLG8mKO60"
      },
      "source": [
        "### Theory"
      ]
    },
    {
      "cell_type": "markdown",
      "metadata": {
        "id": "2eWK57EJ2-xv"
      },
      "source": [
        "Here we are assuming that **x** is the image, represented as a vector—in other words, with all of the rows stacked up end to end into a single long line. And we are assuming that the weights are a vector **w**. We want to find the specific values for the vector w that causes the result of our function to be high for those images that are actually 8s, and low for those images that are not. Searching for the best vector w is a way to search for the best function for recognising 8s."
      ]
    },
    {
      "cell_type": "markdown",
      "metadata": {
        "id": "JLNygUujHLPq"
      },
      "source": [
        "1.   Initialize the weights.\n",
        "2.   For each image, use these weights to predict whether it appears to be a 3 or a 7.\n",
        "3.   Based on these predictions, calculate how good the model is (its loss).\n",
        "4.   Step (that is, change) all the weights based on that calculation.\n",
        "5.   Go back to the step 2, and repeat the process.\n",
        "6.   Iterate until you decide to stop the training process (for instance, because the model is good enough or you don't want to wait any longer).\n"
      ]
    },
    {
      "cell_type": "code",
      "metadata": {
        "id": "c_IjfxF9HLW9",
        "outputId": "da4aa377-36fc-48a5-a70e-05371bde0f16",
        "colab": {
          "base_uri": "https://localhost:8080/",
          "height": 125
        }
      },
      "source": [
        "#id gradient_descent\n",
        "#caption The gradient descent process\n",
        "#alt Graph showing the steps for Gradient Descent\n",
        "gv('''\n",
        "init->predict->loss->gradient->step->stop\n",
        "step->predict[label=repeat]\n",
        "''')"
      ],
      "execution_count": 31,
      "outputs": [
        {
          "output_type": "execute_result",
          "data": {
            "text/plain": [
              "<graphviz.files.Source at 0x7fa1fae7d4d0>"
            ],
            "image/svg+xml": "<?xml version=\"1.0\" encoding=\"UTF-8\" standalone=\"no\"?>\n<!DOCTYPE svg PUBLIC \"-//W3C//DTD SVG 1.1//EN\"\n \"http://www.w3.org/Graphics/SVG/1.1/DTD/svg11.dtd\">\n<!-- Generated by graphviz version 2.40.1 (20161225.0304)\n -->\n<!-- Title: G Pages: 1 -->\n<svg width=\"597pt\" height=\"78pt\"\n viewBox=\"0.00 0.00 596.69 78.00\" xmlns=\"http://www.w3.org/2000/svg\" xmlns:xlink=\"http://www.w3.org/1999/xlink\">\n<g id=\"graph0\" class=\"graph\" transform=\"scale(1 1) rotate(0) translate(4 74)\">\n<title>G</title>\n<polygon fill=\"#ffffff\" stroke=\"transparent\" points=\"-4,4 -4,-74 592.6863,-74 592.6863,4 -4,4\"/>\n<!-- init -->\n<g id=\"node1\" class=\"node\">\n<title>init</title>\n<ellipse fill=\"none\" stroke=\"#000000\" cx=\"27\" cy=\"-18\" rx=\"27\" ry=\"18\"/>\n<text text-anchor=\"middle\" x=\"27\" y=\"-14.3\" font-family=\"Times,serif\" font-size=\"14.00\" fill=\"#000000\">init</text>\n</g>\n<!-- predict -->\n<g id=\"node2\" class=\"node\">\n<title>predict</title>\n<ellipse fill=\"none\" stroke=\"#000000\" cx=\"127.3968\" cy=\"-18\" rx=\"36.2938\" ry=\"18\"/>\n<text text-anchor=\"middle\" x=\"127.3968\" y=\"-14.3\" font-family=\"Times,serif\" font-size=\"14.00\" fill=\"#000000\">predict</text>\n</g>\n<!-- init&#45;&gt;predict -->\n<g id=\"edge1\" class=\"edge\">\n<title>init&#45;&gt;predict</title>\n<path fill=\"none\" stroke=\"#000000\" d=\"M54.1688,-18C62.3543,-18 71.5827,-18 80.6596,-18\"/>\n<polygon fill=\"#000000\" stroke=\"#000000\" points=\"80.7795,-21.5001 90.7795,-18 80.7795,-14.5001 80.7795,-21.5001\"/>\n</g>\n<!-- loss -->\n<g id=\"node3\" class=\"node\">\n<title>loss</title>\n<ellipse fill=\"none\" stroke=\"#000000\" cx=\"227.7935\" cy=\"-52\" rx=\"27\" ry=\"18\"/>\n<text text-anchor=\"middle\" x=\"227.7935\" y=\"-48.3\" font-family=\"Times,serif\" font-size=\"14.00\" fill=\"#000000\">loss</text>\n</g>\n<!-- predict&#45;&gt;loss -->\n<g id=\"edge2\" class=\"edge\">\n<title>predict&#45;&gt;loss</title>\n<path fill=\"none\" stroke=\"#000000\" d=\"M157.5191,-28.2011C168.9806,-32.0826 182.1139,-36.5303 193.9014,-40.5222\"/>\n<polygon fill=\"#000000\" stroke=\"#000000\" points=\"192.8259,-43.8532 203.4202,-43.7458 195.0713,-37.2231 192.8259,-43.8532\"/>\n</g>\n<!-- gradient -->\n<g id=\"node4\" class=\"node\">\n<title>gradient</title>\n<ellipse fill=\"none\" stroke=\"#000000\" cx=\"365.7399\" cy=\"-52\" rx=\"40.8928\" ry=\"18\"/>\n<text text-anchor=\"middle\" x=\"365.7399\" y=\"-48.3\" font-family=\"Times,serif\" font-size=\"14.00\" fill=\"#000000\">gradient</text>\n</g>\n<!-- loss&#45;&gt;gradient -->\n<g id=\"edge3\" class=\"edge\">\n<title>loss&#45;&gt;gradient</title>\n<path fill=\"none\" stroke=\"#000000\" d=\"M255.0473,-52C272.0415,-52 294.4481,-52 314.6545,-52\"/>\n<polygon fill=\"#000000\" stroke=\"#000000\" points=\"314.671,-55.5001 324.671,-52 314.671,-48.5001 314.671,-55.5001\"/>\n</g>\n<!-- step -->\n<g id=\"node5\" class=\"node\">\n<title>step</title>\n<ellipse fill=\"none\" stroke=\"#000000\" cx=\"470.6863\" cy=\"-18\" rx=\"27\" ry=\"18\"/>\n<text text-anchor=\"middle\" x=\"470.6863\" y=\"-14.3\" font-family=\"Times,serif\" font-size=\"14.00\" fill=\"#000000\">step</text>\n</g>\n<!-- gradient&#45;&gt;step -->\n<g id=\"edge4\" class=\"edge\">\n<title>gradient&#45;&gt;step</title>\n<path fill=\"none\" stroke=\"#000000\" d=\"M398.9456,-41.2422C410.9558,-37.3512 424.5297,-32.9536 436.6132,-29.0388\"/>\n<polygon fill=\"#000000\" stroke=\"#000000\" points=\"437.9112,-32.2975 446.3457,-25.8857 435.7537,-25.6382 437.9112,-32.2975\"/>\n</g>\n<!-- step&#45;&gt;predict -->\n<g id=\"edge6\" class=\"edge\">\n<title>step&#45;&gt;predict</title>\n<path fill=\"none\" stroke=\"#000000\" d=\"M443.4266,-18C384.9297,-18 246.7861,-18 174.0495,-18\"/>\n<polygon fill=\"#000000\" stroke=\"#000000\" points=\"173.8098,-14.5001 163.8098,-18 173.8097,-21.5001 173.8098,-14.5001\"/>\n<text text-anchor=\"middle\" x=\"289.7935\" y=\"-21.8\" font-family=\"Times,serif\" font-size=\"14.00\" fill=\"#000000\">repeat</text>\n</g>\n<!-- stop -->\n<g id=\"node6\" class=\"node\">\n<title>stop</title>\n<ellipse fill=\"none\" stroke=\"#000000\" cx=\"561.6863\" cy=\"-18\" rx=\"27\" ry=\"18\"/>\n<text text-anchor=\"middle\" x=\"561.6863\" y=\"-14.3\" font-family=\"Times,serif\" font-size=\"14.00\" fill=\"#000000\">stop</text>\n</g>\n<!-- step&#45;&gt;stop -->\n<g id=\"edge5\" class=\"edge\">\n<title>step&#45;&gt;stop</title>\n<path fill=\"none\" stroke=\"#000000\" d=\"M497.9893,-18C506.2676,-18 515.508,-18 524.3268,-18\"/>\n<polygon fill=\"#000000\" stroke=\"#000000\" points=\"524.4026,-21.5001 534.4025,-18 524.4025,-14.5001 524.4026,-21.5001\"/>\n</g>\n</g>\n</svg>\n"
          },
          "metadata": {
            "tags": []
          },
          "execution_count": 31
        }
      ]
    },
    {
      "cell_type": "markdown",
      "metadata": {
        "id": "dhQsCctsIAka"
      },
      "source": [
        "Before applying these steps to our image classification problem, let's illustrate what they look like in a simpler case. First we will define a very simple function, the quadratic—let's pretend that this is our loss function, and **x** is a weight parameter of the function:"
      ]
    },
    {
      "cell_type": "code",
      "metadata": {
        "id": "O4xRaH0IH_-Q"
      },
      "source": [
        "def f(x): return x**2"
      ],
      "execution_count": 32,
      "outputs": []
    },
    {
      "cell_type": "code",
      "metadata": {
        "id": "7PxZUqy0JEPp",
        "outputId": "65a5eddd-25a5-4721-a654-5120f44555c2",
        "colab": {
          "base_uri": "https://localhost:8080/",
          "height": 335
        }
      },
      "source": [
        "plot_function(f, 'x', 'x**2')"
      ],
      "execution_count": 33,
      "outputs": [
        {
          "output_type": "stream",
          "text": [
            "/usr/local/lib/python3.7/dist-packages/fastbook/__init__.py:73: UserWarning: Not providing a value for linspace's steps is deprecated and will throw a runtime error in a future release. This warning will appear only once per process. (Triggered internally at  /pytorch/aten/src/ATen/native/RangeFactories.cpp:23.)\n",
            "  x = torch.linspace(min,max)\n"
          ],
          "name": "stderr"
        },
        {
          "output_type": "display_data",
          "data": {
            "image/png": "[encoded data removed]",
            "text/plain": [
              "<Figure size 432x288 with 1 Axes>"
            ]
          },
          "metadata": {
            "tags": [],
            "needs_background": "light"
          }
        }
      ]
    },
    {
      "cell_type": "markdown",
      "metadata": {
        "id": "jUUn2ZEyJNfA"
      },
      "source": [
        "The sequence of steps we described earlier starts by picking some random value for a parameter, and calculating the value of the loss:"
      ]
    },
    {
      "cell_type": "code",
      "metadata": {
        "id": "E_rAkgKpJNRs",
        "outputId": "f8d0a119-8e52-4250-828b-e604e8f7b50e",
        "colab": {
          "base_uri": "https://localhost:8080/",
          "height": 279
        }
      },
      "source": [
        "plot_function(f, 'x', 'x**2')\n",
        "plt.scatter(-1.5, f(-1.5), color='red');"
      ],
      "execution_count": 34,
      "outputs": [
        {
          "output_type": "display_data",
          "data": {
            "image/png": "[encoded data removed]",
            "text/plain": [
              "<Figure size 432x288 with 1 Axes>"
            ]
          },
          "metadata": {
            "tags": [],
            "needs_background": "light"
          }
        }
      ]
    },
    {
      "cell_type": "markdown",
      "metadata": {
        "id": "3tEi07VnJVFk"
      },
      "source": [
        "Now we look to see what would happen if we increased or decreased our parameter by a little bit—the adjustment. This is simply the slope at a particular point:"
      ]
    },
    {
      "cell_type": "markdown",
      "metadata": {
        "id": "X9eWJx_fJfe2"
      },
      "source": [
        "<img alt=\"A graph showing the squared function with the slope at one point\" width=\"400\" src=\"https://raw.githubusercontent.com/fastai/fastbook/master/images/grad_illustration.svg\"/>"
      ]
    },
    {
      "cell_type": "markdown",
      "metadata": {
        "id": "uqoaLWNIJucV"
      },
      "source": [
        "We can change our weight by a little in the direction of the slope, calculate our loss and adjustment again, and repeat this a few times. Eventually, we will get to the lowest point on our curve:"
      ]
    },
    {
      "cell_type": "markdown",
      "metadata": {
        "id": "pQ1FsbIJJuj8"
      },
      "source": [
        "<img alt=\"An illustration of gradient descent\" width=\"400\" src=\"https://raw.githubusercontent.com/fastai/fastbook/master/images/chapter2_perfect.svg\"/>"
      ]
    },
    {
      "cell_type": "markdown",
      "metadata": {
        "id": "WWh4Xu-fKjj-"
      },
      "source": [
        "The one magic step is the bit where we calculate the gradients. As we mentioned, we use calculus as a performance optimization; it allows us to more quickly calculate whether our loss will go up or down when we adjust our parameters up or down. In other words, the gradients will tell us how much we have to change each weight to make our model better.\n",
        "\n",
        "You may remember from your high school calculus class that the derivative of a function tells you how much a change in its parameters will change its result"
      ]
    },
    {
      "cell_type": "markdown",
      "metadata": {
        "id": "tcbqbrQUKpoi"
      },
      "source": [
        "One important thing to be aware of is that our function has lots of weights that we need to adjust, so when we calculate the derivative we won't get back one number, but lots of them—a gradient for every weight. But there is nothing mathematically tricky here; you can calculate the derivative with respect to one weight, and treat all the other ones as constant, then repeat that for each other weight. This is how all of the gradients are calculated, for every weight.\n",
        "Most of the time, it will be at least as fast as any derivative function that you can create by hand. Let's see an example.\n",
        "\n",
        "First, let's pick a tensor value which we want gradients at:"
      ]
    },
    {
      "cell_type": "code",
      "metadata": {
        "id": "b4aSBl5sKvY3"
      },
      "source": [
        "xt = tensor(3.).requires_grad_()"
      ],
      "execution_count": 35,
      "outputs": []
    },
    {
      "cell_type": "markdown",
      "metadata": {
        "id": "6USxKM2iK3Zx"
      },
      "source": [
        "What is ***requires_grad_***? That's the magical incantation we use to tell PyTorch that we want to calculate gradients with respect to that variable at that value. It is essentially tagging the variable, so PyTorch will remember to keep track of how to compute gradients of the other, direct calculations on it that you will ask for.\n",
        "Now we calculate our function with that value. Notice how PyTorch prints not just the value calculated, but also a note that it has a gradient function it'll be using to calculate our gradients when needed:"
      ]
    },
    {
      "cell_type": "code",
      "metadata": {
        "id": "Dfvbi-AePziK",
        "outputId": "2d98ff96-c471-4f4e-9432-e7ff9d240634",
        "colab": {
          "base_uri": "https://localhost:8080/"
        }
      },
      "source": [
        "yt = f(xt)\n",
        "yt"
      ],
      "execution_count": 36,
      "outputs": [
        {
          "output_type": "execute_result",
          "data": {
            "text/plain": [
              "tensor(9., grad_fn=<PowBackward0>)"
            ]
          },
          "metadata": {
            "tags": []
          },
          "execution_count": 36
        }
      ]
    },
    {
      "cell_type": "code",
      "metadata": {
        "id": "LAIgUiJnP0ht"
      },
      "source": [
        "yt.backward()"
      ],
      "execution_count": 37,
      "outputs": []
    },
    {
      "cell_type": "markdown",
      "metadata": {
        "id": "DMkQ-HEuMmSS"
      },
      "source": [
        "The \"backward\" here refers to backpropagation, which is the name given to the process of calculating the derivative of each layer. This is called the \"backward pass\" of the network, as opposed to the \"forward pass,\" which is where the activations are calculated. Life would probably be easier if backward was just called calculate_grad. We can now view the gradients by checking the grad attribute of our tensor:"
      ]
    },
    {
      "cell_type": "code",
      "metadata": {
        "id": "RMlt-jJ4QFmu",
        "outputId": "a5d3f11b-9db7-4a9f-a2e3-a4af014b7801",
        "colab": {
          "base_uri": "https://localhost:8080/"
        }
      },
      "source": [
        "xt.grad"
      ],
      "execution_count": 38,
      "outputs": [
        {
          "output_type": "execute_result",
          "data": {
            "text/plain": [
              "tensor(6.)"
            ]
          },
          "metadata": {
            "tags": []
          },
          "execution_count": 38
        }
      ]
    },
    {
      "cell_type": "markdown",
      "metadata": {
        "id": "T0OuLYOpQJqS"
      },
      "source": [
        "Now we'll repeat the preceding steps, but with a vector argument for our function:"
      ]
    },
    {
      "cell_type": "code",
      "metadata": {
        "id": "LwznlWLzQLIH",
        "outputId": "31700149-6075-4573-bc27-9ba6d9f605fd",
        "colab": {
          "base_uri": "https://localhost:8080/"
        }
      },
      "source": [
        "xt = tensor([3.,4.,10.]).requires_grad_()\n",
        "xt"
      ],
      "execution_count": 39,
      "outputs": [
        {
          "output_type": "execute_result",
          "data": {
            "text/plain": [
              "tensor([ 3.,  4., 10.], requires_grad=True)"
            ]
          },
          "metadata": {
            "tags": []
          },
          "execution_count": 39
        }
      ]
    },
    {
      "cell_type": "markdown",
      "metadata": {
        "id": "L_7UkKSBQOOK"
      },
      "source": [
        "And we'll add sum to our function so it can take a vector (i.e., a rank-1 tensor), and return a scalar (i.e., a rank-0 tensor):"
      ]
    },
    {
      "cell_type": "code",
      "metadata": {
        "id": "pqMaeKo8QOXr",
        "outputId": "a7d56321-6145-47b4-ffa5-ce7ac784f7b0",
        "colab": {
          "base_uri": "https://localhost:8080/"
        }
      },
      "source": [
        "def f(x): return (x**2).sum()\n",
        "\n",
        "yt = f(xt)\n",
        "yt"
      ],
      "execution_count": 40,
      "outputs": [
        {
          "output_type": "execute_result",
          "data": {
            "text/plain": [
              "tensor(125., grad_fn=<SumBackward0>)"
            ]
          },
          "metadata": {
            "tags": []
          },
          "execution_count": 40
        }
      ]
    },
    {
      "cell_type": "code",
      "metadata": {
        "id": "00HYp98qQURe",
        "outputId": "2864d755-a924-4c55-938b-06fd961fd138",
        "colab": {
          "base_uri": "https://localhost:8080/"
        }
      },
      "source": [
        "yt.backward()\n",
        "xt.grad"
      ],
      "execution_count": 41,
      "outputs": [
        {
          "output_type": "execute_result",
          "data": {
            "text/plain": [
              "tensor([ 6.,  8., 20.])"
            ]
          },
          "metadata": {
            "tags": []
          },
          "execution_count": 41
        }
      ]
    },
    {
      "cell_type": "markdown",
      "metadata": {
        "id": "nZ2cXObHQZTn"
      },
      "source": [
        "The gradients only tell us the slope of our function, they don't actually tell us exactly how far to adjust the parameters. But it gives us some idea of how far; if the slope is very large, then that may suggest that we have more adjustments to do, whereas if the slope is very small, that may suggest that we are close to the optimal value."
      ]
    }
  ]
}