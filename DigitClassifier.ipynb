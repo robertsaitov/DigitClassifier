{
  "nbformat": 4,
  "nbformat_minor": 0,
  "metadata": {
    "colab": {
      "name": "Copy of DigitClassifier.ipynb",
      "provenance": [],
      "include_colab_link": true
    },
    "kernelspec": {
      "name": "python3",
      "display_name": "Python 3"
    },
    "accelerator": "GPU"
  },
  "cells": [
    {
      "cell_type": "markdown",
      "metadata": {
        "id": "view-in-github",
        "colab_type": "text"
      },
      "source": [
        "<a href=\"https://colab.research.google.com/github/robertsaitov/DigitClassifier/blob/main/DigitClassifier.ipynb\" target=\"_parent\"><img src=\"https://colab.research.google.com/assets/colab-badge.svg\" alt=\"Open In Colab\"/></a>"
      ]
    },
    {
      "cell_type": "code",
      "metadata": {
        "id": "naFvJFd1YAlv",
        "colab": {
          "base_uri": "https://localhost:8080/"
        },
        "outputId": "5c91aa4b-47ff-4441-e53c-66a31a86cb7a"
      },
      "source": [
        "#hide\r\n",
        "!pip install -Uqq fastbook\r\n",
        "import fastbook\r\n",
        "fastbook.setup_book()"
      ],
      "execution_count": null,
      "outputs": [
        {
          "output_type": "stream",
          "text": [
            "\u001b[K     |████████████████████████████████| 727kB 7.6MB/s \n",
            "\u001b[K     |████████████████████████████████| 1.2MB 14.6MB/s \n",
            "\u001b[K     |████████████████████████████████| 51kB 8.2MB/s \n",
            "\u001b[K     |████████████████████████████████| 194kB 35.3MB/s \n",
            "\u001b[K     |████████████████████████████████| 51kB 8.2MB/s \n",
            "\u001b[K     |████████████████████████████████| 61kB 9.0MB/s \n",
            "\u001b[?25hMounted at /content/gdrive\n"
          ],
          "name": "stdout"
        }
      ]
    },
    {
      "cell_type": "code",
      "metadata": {
        "id": "YuXoOLjwrad1",
        "colab": {
          "base_uri": "https://localhost:8080/",
          "height": 384
        },
        "outputId": "f0542f1b-0c22-48e2-cde1-23745a0d6441"
      },
      "source": [
        "#hide\r\n",
        "from fastai.vision.all import *\r\n",
        "from fastbook import *\r\n",
        "\r\n",
        "matplotlib.rc('image', cmap='Greys')"
      ],
      "execution_count": null,
      "outputs": [
        {
          "output_type": "error",
          "ename": "ModuleNotFoundError",
          "evalue": "ignored",
          "traceback": [
            "\u001b[0;31m---------------------------------------------------------------------------\u001b[0m",
            "\u001b[0;31mModuleNotFoundError\u001b[0m                       Traceback (most recent call last)",
            "\u001b[0;32m<ipython-input-1-a1486c4587cf>\u001b[0m in \u001b[0;36m<module>\u001b[0;34m()\u001b[0m\n\u001b[1;32m      1\u001b[0m \u001b[0;31m#hide\u001b[0m\u001b[0;34m\u001b[0m\u001b[0;34m\u001b[0m\u001b[0;34m\u001b[0m\u001b[0m\n\u001b[0;32m----> 2\u001b[0;31m \u001b[0;32mfrom\u001b[0m \u001b[0mfastai\u001b[0m\u001b[0;34m.\u001b[0m\u001b[0mvision\u001b[0m\u001b[0;34m.\u001b[0m\u001b[0mall\u001b[0m \u001b[0;32mimport\u001b[0m \u001b[0;34m*\u001b[0m\u001b[0;34m\u001b[0m\u001b[0;34m\u001b[0m\u001b[0m\n\u001b[0m\u001b[1;32m      3\u001b[0m \u001b[0;32mfrom\u001b[0m \u001b[0mfastbook\u001b[0m \u001b[0;32mimport\u001b[0m \u001b[0;34m*\u001b[0m\u001b[0;34m\u001b[0m\u001b[0;34m\u001b[0m\u001b[0m\n\u001b[1;32m      4\u001b[0m \u001b[0;34m\u001b[0m\u001b[0m\n\u001b[1;32m      5\u001b[0m \u001b[0mmatplotlib\u001b[0m\u001b[0;34m.\u001b[0m\u001b[0mrc\u001b[0m\u001b[0;34m(\u001b[0m\u001b[0;34m'image'\u001b[0m\u001b[0;34m,\u001b[0m \u001b[0mcmap\u001b[0m\u001b[0;34m=\u001b[0m\u001b[0;34m'Greys'\u001b[0m\u001b[0;34m)\u001b[0m\u001b[0;34m\u001b[0m\u001b[0;34m\u001b[0m\u001b[0m\n",
            "\u001b[0;31mModuleNotFoundError\u001b[0m: No module named 'fastai.vision.all'",
            "",
            "\u001b[0;31m---------------------------------------------------------------------------\u001b[0;32m\nNOTE: If your import is failing due to a missing package, you can\nmanually install dependencies using either !pip or !apt.\n\nTo view examples of installing some common dependencies, click the\n\"Open Examples\" button below.\n\u001b[0;31m---------------------------------------------------------------------------\u001b[0m\n"
          ]
        }
      ]
    },
    {
      "cell_type": "markdown",
      "metadata": {
        "id": "5fYwrd2h7tV7"
      },
      "source": [
        "# Intro to project and load dataset images"
      ]
    },
    {
      "cell_type": "code",
      "metadata": {
        "colab": {
          "base_uri": "https://localhost:8080/",
          "height": 35
        },
        "id": "IO4Dhpe8ret3",
        "outputId": "8d527283-6203-4d5c-f8b9-222afbcadbde"
      },
      "source": [
        "path = untar_data(URLs.MNIST_SAMPLE)\r\n",
        "Path.BASE_PATH = path\r\n",
        "path.ls()"
      ],
      "execution_count": null,
      "outputs": [
        {
          "output_type": "display_data",
          "data": {
            "text/html": [
              ""
            ],
            "text/plain": [
              "<IPython.core.display.HTML object>"
            ]
          },
          "metadata": {
            "tags": []
          }
        },
        {
          "output_type": "execute_result",
          "data": {
            "text/plain": [
              "(#3) [Path('train'),Path('valid'),Path('labels.csv')]"
            ]
          },
          "metadata": {
            "tags": []
          },
          "execution_count": 4
        }
      ]
    },
    {
      "cell_type": "markdown",
      "metadata": {
        "id": "Ie-wYqqYruY3"
      },
      "source": [
        "The MNIST dataset follows a common layout for machine learning datasets: separate folders for the training set and the validation set (and/or test set). Let's see what's inside the training set:"
      ]
    },
    {
      "cell_type": "code",
      "metadata": {
        "colab": {
          "base_uri": "https://localhost:8080/"
        },
        "id": "ycza6z4Yru9C",
        "outputId": "9e462e0c-5fec-493c-f1e6-5ff7f8709221"
      },
      "source": [
        "(path/'train').ls()"
      ],
      "execution_count": null,
      "outputs": [
        {
          "output_type": "execute_result",
          "data": {
            "text/plain": [
              "(#2) [Path('train/7'),Path('train/3')]"
            ]
          },
          "metadata": {
            "tags": []
          },
          "execution_count": 5
        }
      ]
    },
    {
      "cell_type": "code",
      "metadata": {
        "colab": {
          "base_uri": "https://localhost:8080/"
        },
        "id": "VldkO6Wyry-x",
        "outputId": "c09c6781-cabb-4de1-e74e-18c83aab52c7"
      },
      "source": [
        "threes = (path/'train'/'3').ls().sorted()\r\n",
        "sevens = (path/'train'/'7').ls().sorted()\r\n",
        "threes"
      ],
      "execution_count": null,
      "outputs": [
        {
          "output_type": "execute_result",
          "data": {
            "text/plain": [
              "(#6131) [Path('train/3/10.png'),Path('train/3/10000.png'),Path('train/3/10011.png'),Path('train/3/10031.png'),Path('train/3/10034.png'),Path('train/3/10042.png'),Path('train/3/10052.png'),Path('train/3/1007.png'),Path('train/3/10074.png'),Path('train/3/10091.png')...]"
            ]
          },
          "metadata": {
            "tags": []
          },
          "execution_count": 6
        }
      ]
    },
    {
      "cell_type": "code",
      "metadata": {
        "colab": {
          "base_uri": "https://localhost:8080/",
          "height": 45
        },
        "id": "VcnnNd52r2El",
        "outputId": "ebee0474-e7f0-442f-9114-e5b8649f09cf"
      },
      "source": [
        "im3_path = threes[1]\r\n",
        "im3 = Image.open(im3_path)\r\n",
        "im3"
      ],
      "execution_count": null,
      "outputs": [
        {
          "output_type": "execute_result",
          "data": {
            "image/png": "[encoded data removed]",
            "text/plain": [
              "<PIL.PngImagePlugin.PngImageFile image mode=L size=28x28 at 0x7F49DC288990>"
            ]
          },
          "metadata": {
            "tags": []
          },
          "execution_count": 7
        }
      ]
    },
    {
      "cell_type": "markdown",
      "metadata": {
        "id": "R8IQyy7kr4f8"
      },
      "source": [
        "In a computer, everything is represented as a number. To view the numbers that make up this image, we have to convert it to a NumPy array or a PyTorch tensor. For instance, here's what a section of the image looks like, converted to a NumPy array:"
      ]
    },
    {
      "cell_type": "code",
      "metadata": {
        "colab": {
          "base_uri": "https://localhost:8080/"
        },
        "id": "zNI3sQJZr4pM",
        "outputId": "463acbeb-af58-4580-d3ab-d36d46a1f0a7"
      },
      "source": [
        "array(im3)[4:10,4:10]"
      ],
      "execution_count": null,
      "outputs": [
        {
          "output_type": "execute_result",
          "data": {
            "text/plain": [
              "array([[  0,   0,   0,   0,   0,   0],\n",
              "       [  0,   0,   0,   0,   0,  29],\n",
              "       [  0,   0,   0,  48, 166, 224],\n",
              "       [  0,  93, 244, 249, 253, 187],\n",
              "       [  0, 107, 253, 253, 230,  48],\n",
              "       [  0,   3,  20,  20,  15,   0]], dtype=uint8)"
            ]
          },
          "metadata": {
            "tags": []
          },
          "execution_count": 8
        }
      ]
    },
    {
      "cell_type": "markdown",
      "metadata": {
        "id": "C6xwaHmer5hK"
      },
      "source": [
        "This is PyTorch Tensor. The 4:10 indicates we requested the rows from index 4 (included) to 10 (not included) and the same for the columns."
      ]
    },
    {
      "cell_type": "code",
      "metadata": {
        "colab": {
          "base_uri": "https://localhost:8080/"
        },
        "id": "PKWs6tqZr5sY",
        "outputId": "fed0b25f-0412-4f8e-b3ff-c0c9a668f2a7"
      },
      "source": [
        "tensor(im3)[4:10,4:10]"
      ],
      "execution_count": null,
      "outputs": [
        {
          "output_type": "execute_result",
          "data": {
            "text/plain": [
              "tensor([[  0,   0,   0,   0,   0,   0],\n",
              "        [  0,   0,   0,   0,   0,  29],\n",
              "        [  0,   0,   0,  48, 166, 224],\n",
              "        [  0,  93, 244, 249, 253, 187],\n",
              "        [  0, 107, 253, 253, 230,  48],\n",
              "        [  0,   3,  20,  20,  15,   0]], dtype=torch.uint8)"
            ]
          },
          "metadata": {
            "tags": []
          },
          "execution_count": 9
        }
      ]
    },
    {
      "cell_type": "markdown",
      "metadata": {
        "id": "ThfIudW3r86N"
      },
      "source": [
        "We can slice the array to pick just the part with the top of the digit in it, and then use a Pandas DataFrame to color-code the values using a gradient, which shows us clearly how the image is created from the pixel values:"
      ]
    },
    {
      "cell_type": "code",
      "metadata": {
        "colab": {
          "base_uri": "https://localhost:8080/",
          "height": 275
        },
        "id": "A97ts2jqr9BM",
        "outputId": "42c15ab0-842a-4bef-9341-d2b28a596a0c"
      },
      "source": [
        "#hide_output\r\n",
        "im3_t = tensor(im3)\r\n",
        "df = pd.DataFrame(im3_t[4:15,4:22])\r\n",
        "df.style.set_properties(**{'font-size':'6pt'}).background_gradient('Greys')"
      ],
      "execution_count": null,
      "outputs": [
        {
          "output_type": "execute_result",
          "data": {
            "text/html": [
              "<style  type=\"text/css\" >\n",
              "#T_644e5ee4_7ead_11eb_b9b8_0242ac1c0002row0_col0,#T_644e5ee4_7ead_11eb_b9b8_0242ac1c0002row0_col1,#T_644e5ee4_7ead_11eb_b9b8_0242ac1c0002row0_col2,#T_644e5ee4_7ead_11eb_b9b8_0242ac1c0002row0_col3,#T_644e5ee4_7ead_11eb_b9b8_0242ac1c0002row0_col4,#T_644e5ee4_7ead_11eb_b9b8_0242ac1c0002row0_col5,#T_644e5ee4_7ead_11eb_b9b8_0242ac1c0002row0_col6,#T_644e5ee4_7ead_11eb_b9b8_0242ac1c0002row0_col7,#T_644e5ee4_7ead_11eb_b9b8_0242ac1c0002row0_col8,#T_644e5ee4_7ead_11eb_b9b8_0242ac1c0002row0_col9,#T_644e5ee4_7ead_11eb_b9b8_0242ac1c0002row0_col10,#T_644e5ee4_7ead_11eb_b9b8_0242ac1c0002row0_col11,#T_644e5ee4_7ead_11eb_b9b8_0242ac1c0002row0_col12,#T_644e5ee4_7ead_11eb_b9b8_0242ac1c0002row0_col13,#T_644e5ee4_7ead_11eb_b9b8_0242ac1c0002row0_col14,#T_644e5ee4_7ead_11eb_b9b8_0242ac1c0002row0_col15,#T_644e5ee4_7ead_11eb_b9b8_0242ac1c0002row0_col16,#T_644e5ee4_7ead_11eb_b9b8_0242ac1c0002row0_col17,#T_644e5ee4_7ead_11eb_b9b8_0242ac1c0002row1_col0,#T_644e5ee4_7ead_11eb_b9b8_0242ac1c0002row1_col1,#T_644e5ee4_7ead_11eb_b9b8_0242ac1c0002row1_col2,#T_644e5ee4_7ead_11eb_b9b8_0242ac1c0002row1_col3,#T_644e5ee4_7ead_11eb_b9b8_0242ac1c0002row1_col4,#T_644e5ee4_7ead_11eb_b9b8_0242ac1c0002row1_col15,#T_644e5ee4_7ead_11eb_b9b8_0242ac1c0002row1_col16,#T_644e5ee4_7ead_11eb_b9b8_0242ac1c0002row1_col17,#T_644e5ee4_7ead_11eb_b9b8_0242ac1c0002row2_col0,#T_644e5ee4_7ead_11eb_b9b8_0242ac1c0002row2_col1,#T_644e5ee4_7ead_11eb_b9b8_0242ac1c0002row2_col2,#T_644e5ee4_7ead_11eb_b9b8_0242ac1c0002row2_col15,#T_644e5ee4_7ead_11eb_b9b8_0242ac1c0002row2_col16,#T_644e5ee4_7ead_11eb_b9b8_0242ac1c0002row2_col17,#T_644e5ee4_7ead_11eb_b9b8_0242ac1c0002row3_col0,#T_644e5ee4_7ead_11eb_b9b8_0242ac1c0002row3_col15,#T_644e5ee4_7ead_11eb_b9b8_0242ac1c0002row3_col16,#T_644e5ee4_7ead_11eb_b9b8_0242ac1c0002row3_col17,#T_644e5ee4_7ead_11eb_b9b8_0242ac1c0002row4_col0,#T_644e5ee4_7ead_11eb_b9b8_0242ac1c0002row4_col6,#T_644e5ee4_7ead_11eb_b9b8_0242ac1c0002row4_col7,#T_644e5ee4_7ead_11eb_b9b8_0242ac1c0002row4_col8,#T_644e5ee4_7ead_11eb_b9b8_0242ac1c0002row4_col9,#T_644e5ee4_7ead_11eb_b9b8_0242ac1c0002row4_col10,#T_644e5ee4_7ead_11eb_b9b8_0242ac1c0002row4_col15,#T_644e5ee4_7ead_11eb_b9b8_0242ac1c0002row4_col16,#T_644e5ee4_7ead_11eb_b9b8_0242ac1c0002row4_col17,#T_644e5ee4_7ead_11eb_b9b8_0242ac1c0002row5_col0,#T_644e5ee4_7ead_11eb_b9b8_0242ac1c0002row5_col5,#T_644e5ee4_7ead_11eb_b9b8_0242ac1c0002row5_col6,#T_644e5ee4_7ead_11eb_b9b8_0242ac1c0002row5_col7,#T_644e5ee4_7ead_11eb_b9b8_0242ac1c0002row5_col8,#T_644e5ee4_7ead_11eb_b9b8_0242ac1c0002row5_col9,#T_644e5ee4_7ead_11eb_b9b8_0242ac1c0002row5_col15,#T_644e5ee4_7ead_11eb_b9b8_0242ac1c0002row5_col16,#T_644e5ee4_7ead_11eb_b9b8_0242ac1c0002row5_col17,#T_644e5ee4_7ead_11eb_b9b8_0242ac1c0002row6_col0,#T_644e5ee4_7ead_11eb_b9b8_0242ac1c0002row6_col1,#T_644e5ee4_7ead_11eb_b9b8_0242ac1c0002row6_col2,#T_644e5ee4_7ead_11eb_b9b8_0242ac1c0002row6_col3,#T_644e5ee4_7ead_11eb_b9b8_0242ac1c0002row6_col4,#T_644e5ee4_7ead_11eb_b9b8_0242ac1c0002row6_col5,#T_644e5ee4_7ead_11eb_b9b8_0242ac1c0002row6_col6,#T_644e5ee4_7ead_11eb_b9b8_0242ac1c0002row6_col7,#T_644e5ee4_7ead_11eb_b9b8_0242ac1c0002row6_col8,#T_644e5ee4_7ead_11eb_b9b8_0242ac1c0002row6_col9,#T_644e5ee4_7ead_11eb_b9b8_0242ac1c0002row6_col14,#T_644e5ee4_7ead_11eb_b9b8_0242ac1c0002row6_col15,#T_644e5ee4_7ead_11eb_b9b8_0242ac1c0002row6_col16,#T_644e5ee4_7ead_11eb_b9b8_0242ac1c0002row6_col17,#T_644e5ee4_7ead_11eb_b9b8_0242ac1c0002row7_col0,#T_644e5ee4_7ead_11eb_b9b8_0242ac1c0002row7_col1,#T_644e5ee4_7ead_11eb_b9b8_0242ac1c0002row7_col2,#T_644e5ee4_7ead_11eb_b9b8_0242ac1c0002row7_col3,#T_644e5ee4_7ead_11eb_b9b8_0242ac1c0002row7_col4,#T_644e5ee4_7ead_11eb_b9b8_0242ac1c0002row7_col5,#T_644e5ee4_7ead_11eb_b9b8_0242ac1c0002row7_col6,#T_644e5ee4_7ead_11eb_b9b8_0242ac1c0002row7_col13,#T_644e5ee4_7ead_11eb_b9b8_0242ac1c0002row7_col14,#T_644e5ee4_7ead_11eb_b9b8_0242ac1c0002row7_col15,#T_644e5ee4_7ead_11eb_b9b8_0242ac1c0002row7_col16,#T_644e5ee4_7ead_11eb_b9b8_0242ac1c0002row7_col17,#T_644e5ee4_7ead_11eb_b9b8_0242ac1c0002row8_col0,#T_644e5ee4_7ead_11eb_b9b8_0242ac1c0002row8_col1,#T_644e5ee4_7ead_11eb_b9b8_0242ac1c0002row8_col2,#T_644e5ee4_7ead_11eb_b9b8_0242ac1c0002row8_col3,#T_644e5ee4_7ead_11eb_b9b8_0242ac1c0002row8_col4,#T_644e5ee4_7ead_11eb_b9b8_0242ac1c0002row8_col13,#T_644e5ee4_7ead_11eb_b9b8_0242ac1c0002row8_col14,#T_644e5ee4_7ead_11eb_b9b8_0242ac1c0002row8_col15,#T_644e5ee4_7ead_11eb_b9b8_0242ac1c0002row8_col16,#T_644e5ee4_7ead_11eb_b9b8_0242ac1c0002row8_col17,#T_644e5ee4_7ead_11eb_b9b8_0242ac1c0002row9_col0,#T_644e5ee4_7ead_11eb_b9b8_0242ac1c0002row9_col1,#T_644e5ee4_7ead_11eb_b9b8_0242ac1c0002row9_col2,#T_644e5ee4_7ead_11eb_b9b8_0242ac1c0002row9_col3,#T_644e5ee4_7ead_11eb_b9b8_0242ac1c0002row9_col4,#T_644e5ee4_7ead_11eb_b9b8_0242ac1c0002row9_col16,#T_644e5ee4_7ead_11eb_b9b8_0242ac1c0002row9_col17,#T_644e5ee4_7ead_11eb_b9b8_0242ac1c0002row10_col0,#T_644e5ee4_7ead_11eb_b9b8_0242ac1c0002row10_col1,#T_644e5ee4_7ead_11eb_b9b8_0242ac1c0002row10_col2,#T_644e5ee4_7ead_11eb_b9b8_0242ac1c0002row10_col3,#T_644e5ee4_7ead_11eb_b9b8_0242ac1c0002row10_col4,#T_644e5ee4_7ead_11eb_b9b8_0242ac1c0002row10_col5,#T_644e5ee4_7ead_11eb_b9b8_0242ac1c0002row10_col6,#T_644e5ee4_7ead_11eb_b9b8_0242ac1c0002row10_col17{\n",
              "            font-size:  6pt;\n",
              "            background-color:  #ffffff;\n",
              "            color:  #000000;\n",
              "        }#T_644e5ee4_7ead_11eb_b9b8_0242ac1c0002row1_col5{\n",
              "            font-size:  6pt;\n",
              "            background-color:  #efefef;\n",
              "            color:  #000000;\n",
              "        }#T_644e5ee4_7ead_11eb_b9b8_0242ac1c0002row1_col6,#T_644e5ee4_7ead_11eb_b9b8_0242ac1c0002row1_col13{\n",
              "            font-size:  6pt;\n",
              "            background-color:  #7c7c7c;\n",
              "            color:  #000000;\n",
              "        }#T_644e5ee4_7ead_11eb_b9b8_0242ac1c0002row1_col7{\n",
              "            font-size:  6pt;\n",
              "            background-color:  #4a4a4a;\n",
              "            color:  #f1f1f1;\n",
              "        }#T_644e5ee4_7ead_11eb_b9b8_0242ac1c0002row1_col8,#T_644e5ee4_7ead_11eb_b9b8_0242ac1c0002row1_col9,#T_644e5ee4_7ead_11eb_b9b8_0242ac1c0002row1_col10,#T_644e5ee4_7ead_11eb_b9b8_0242ac1c0002row2_col5,#T_644e5ee4_7ead_11eb_b9b8_0242ac1c0002row2_col6,#T_644e5ee4_7ead_11eb_b9b8_0242ac1c0002row2_col7,#T_644e5ee4_7ead_11eb_b9b8_0242ac1c0002row2_col11,#T_644e5ee4_7ead_11eb_b9b8_0242ac1c0002row2_col12,#T_644e5ee4_7ead_11eb_b9b8_0242ac1c0002row2_col13,#T_644e5ee4_7ead_11eb_b9b8_0242ac1c0002row3_col4,#T_644e5ee4_7ead_11eb_b9b8_0242ac1c0002row3_col12,#T_644e5ee4_7ead_11eb_b9b8_0242ac1c0002row3_col13,#T_644e5ee4_7ead_11eb_b9b8_0242ac1c0002row4_col1,#T_644e5ee4_7ead_11eb_b9b8_0242ac1c0002row4_col2,#T_644e5ee4_7ead_11eb_b9b8_0242ac1c0002row4_col3,#T_644e5ee4_7ead_11eb_b9b8_0242ac1c0002row4_col12,#T_644e5ee4_7ead_11eb_b9b8_0242ac1c0002row4_col13,#T_644e5ee4_7ead_11eb_b9b8_0242ac1c0002row5_col12,#T_644e5ee4_7ead_11eb_b9b8_0242ac1c0002row6_col11,#T_644e5ee4_7ead_11eb_b9b8_0242ac1c0002row9_col11,#T_644e5ee4_7ead_11eb_b9b8_0242ac1c0002row10_col11,#T_644e5ee4_7ead_11eb_b9b8_0242ac1c0002row10_col12,#T_644e5ee4_7ead_11eb_b9b8_0242ac1c0002row10_col13,#T_644e5ee4_7ead_11eb_b9b8_0242ac1c0002row10_col14,#T_644e5ee4_7ead_11eb_b9b8_0242ac1c0002row10_col15,#T_644e5ee4_7ead_11eb_b9b8_0242ac1c0002row10_col16{\n",
              "            font-size:  6pt;\n",
              "            background-color:  #000000;\n",
              "            color:  #f1f1f1;\n",
              "        }#T_644e5ee4_7ead_11eb_b9b8_0242ac1c0002row1_col11{\n",
              "            font-size:  6pt;\n",
              "            background-color:  #606060;\n",
              "            color:  #f1f1f1;\n",
              "        }#T_644e5ee4_7ead_11eb_b9b8_0242ac1c0002row1_col12{\n",
              "            font-size:  6pt;\n",
              "            background-color:  #4d4d4d;\n",
              "            color:  #f1f1f1;\n",
              "        }#T_644e5ee4_7ead_11eb_b9b8_0242ac1c0002row1_col14{\n",
              "            font-size:  6pt;\n",
              "            background-color:  #bbbbbb;\n",
              "            color:  #000000;\n",
              "        }#T_644e5ee4_7ead_11eb_b9b8_0242ac1c0002row2_col3{\n",
              "            font-size:  6pt;\n",
              "            background-color:  #e4e4e4;\n",
              "            color:  #000000;\n",
              "        }#T_644e5ee4_7ead_11eb_b9b8_0242ac1c0002row2_col4,#T_644e5ee4_7ead_11eb_b9b8_0242ac1c0002row8_col6{\n",
              "            font-size:  6pt;\n",
              "            background-color:  #6b6b6b;\n",
              "            color:  #000000;\n",
              "        }#T_644e5ee4_7ead_11eb_b9b8_0242ac1c0002row2_col8,#T_644e5ee4_7ead_11eb_b9b8_0242ac1c0002row2_col14,#T_644e5ee4_7ead_11eb_b9b8_0242ac1c0002row3_col14{\n",
              "            font-size:  6pt;\n",
              "            background-color:  #171717;\n",
              "            color:  #f1f1f1;\n",
              "        }#T_644e5ee4_7ead_11eb_b9b8_0242ac1c0002row2_col9,#T_644e5ee4_7ead_11eb_b9b8_0242ac1c0002row3_col11{\n",
              "            font-size:  6pt;\n",
              "            background-color:  #4b4b4b;\n",
              "            color:  #f1f1f1;\n",
              "        }#T_644e5ee4_7ead_11eb_b9b8_0242ac1c0002row2_col10,#T_644e5ee4_7ead_11eb_b9b8_0242ac1c0002row7_col10,#T_644e5ee4_7ead_11eb_b9b8_0242ac1c0002row8_col8,#T_644e5ee4_7ead_11eb_b9b8_0242ac1c0002row8_col10,#T_644e5ee4_7ead_11eb_b9b8_0242ac1c0002row9_col8,#T_644e5ee4_7ead_11eb_b9b8_0242ac1c0002row9_col10{\n",
              "            font-size:  6pt;\n",
              "            background-color:  #010101;\n",
              "            color:  #f1f1f1;\n",
              "        }#T_644e5ee4_7ead_11eb_b9b8_0242ac1c0002row3_col1{\n",
              "            font-size:  6pt;\n",
              "            background-color:  #272727;\n",
              "            color:  #f1f1f1;\n",
              "        }#T_644e5ee4_7ead_11eb_b9b8_0242ac1c0002row3_col2{\n",
              "            font-size:  6pt;\n",
              "            background-color:  #0a0a0a;\n",
              "            color:  #f1f1f1;\n",
              "        }#T_644e5ee4_7ead_11eb_b9b8_0242ac1c0002row3_col3{\n",
              "            font-size:  6pt;\n",
              "            background-color:  #050505;\n",
              "            color:  #f1f1f1;\n",
              "        }#T_644e5ee4_7ead_11eb_b9b8_0242ac1c0002row3_col5{\n",
              "            font-size:  6pt;\n",
              "            background-color:  #333333;\n",
              "            color:  #f1f1f1;\n",
              "        }#T_644e5ee4_7ead_11eb_b9b8_0242ac1c0002row3_col6{\n",
              "            font-size:  6pt;\n",
              "            background-color:  #e6e6e6;\n",
              "            color:  #000000;\n",
              "        }#T_644e5ee4_7ead_11eb_b9b8_0242ac1c0002row3_col7,#T_644e5ee4_7ead_11eb_b9b8_0242ac1c0002row3_col10{\n",
              "            font-size:  6pt;\n",
              "            background-color:  #fafafa;\n",
              "            color:  #000000;\n",
              "        }#T_644e5ee4_7ead_11eb_b9b8_0242ac1c0002row3_col8{\n",
              "            font-size:  6pt;\n",
              "            background-color:  #fbfbfb;\n",
              "            color:  #000000;\n",
              "        }#T_644e5ee4_7ead_11eb_b9b8_0242ac1c0002row3_col9{\n",
              "            font-size:  6pt;\n",
              "            background-color:  #fdfdfd;\n",
              "            color:  #000000;\n",
              "        }#T_644e5ee4_7ead_11eb_b9b8_0242ac1c0002row4_col4{\n",
              "            font-size:  6pt;\n",
              "            background-color:  #1b1b1b;\n",
              "            color:  #f1f1f1;\n",
              "        }#T_644e5ee4_7ead_11eb_b9b8_0242ac1c0002row4_col5{\n",
              "            font-size:  6pt;\n",
              "            background-color:  #e0e0e0;\n",
              "            color:  #000000;\n",
              "        }#T_644e5ee4_7ead_11eb_b9b8_0242ac1c0002row4_col11{\n",
              "            font-size:  6pt;\n",
              "            background-color:  #4e4e4e;\n",
              "            color:  #f1f1f1;\n",
              "        }#T_644e5ee4_7ead_11eb_b9b8_0242ac1c0002row4_col14{\n",
              "            font-size:  6pt;\n",
              "            background-color:  #767676;\n",
              "            color:  #000000;\n",
              "        }#T_644e5ee4_7ead_11eb_b9b8_0242ac1c0002row5_col1{\n",
              "            font-size:  6pt;\n",
              "            background-color:  #fcfcfc;\n",
              "            color:  #000000;\n",
              "        }#T_644e5ee4_7ead_11eb_b9b8_0242ac1c0002row5_col2,#T_644e5ee4_7ead_11eb_b9b8_0242ac1c0002row5_col3{\n",
              "            font-size:  6pt;\n",
              "            background-color:  #f6f6f6;\n",
              "            color:  #000000;\n",
              "        }#T_644e5ee4_7ead_11eb_b9b8_0242ac1c0002row5_col4,#T_644e5ee4_7ead_11eb_b9b8_0242ac1c0002row7_col7{\n",
              "            font-size:  6pt;\n",
              "            background-color:  #f8f8f8;\n",
              "            color:  #000000;\n",
              "        }#T_644e5ee4_7ead_11eb_b9b8_0242ac1c0002row5_col10,#T_644e5ee4_7ead_11eb_b9b8_0242ac1c0002row10_col7{\n",
              "            font-size:  6pt;\n",
              "            background-color:  #e8e8e8;\n",
              "            color:  #000000;\n",
              "        }#T_644e5ee4_7ead_11eb_b9b8_0242ac1c0002row5_col11{\n",
              "            font-size:  6pt;\n",
              "            background-color:  #222222;\n",
              "            color:  #f1f1f1;\n",
              "        }#T_644e5ee4_7ead_11eb_b9b8_0242ac1c0002row5_col13,#T_644e5ee4_7ead_11eb_b9b8_0242ac1c0002row6_col12{\n",
              "            font-size:  6pt;\n",
              "            background-color:  #090909;\n",
              "            color:  #f1f1f1;\n",
              "        }#T_644e5ee4_7ead_11eb_b9b8_0242ac1c0002row5_col14{\n",
              "            font-size:  6pt;\n",
              "            background-color:  #d0d0d0;\n",
              "            color:  #000000;\n",
              "        }#T_644e5ee4_7ead_11eb_b9b8_0242ac1c0002row6_col10,#T_644e5ee4_7ead_11eb_b9b8_0242ac1c0002row7_col11,#T_644e5ee4_7ead_11eb_b9b8_0242ac1c0002row9_col6{\n",
              "            font-size:  6pt;\n",
              "            background-color:  #060606;\n",
              "            color:  #f1f1f1;\n",
              "        }#T_644e5ee4_7ead_11eb_b9b8_0242ac1c0002row6_col13{\n",
              "            font-size:  6pt;\n",
              "            background-color:  #979797;\n",
              "            color:  #000000;\n",
              "        }#T_644e5ee4_7ead_11eb_b9b8_0242ac1c0002row7_col8{\n",
              "            font-size:  6pt;\n",
              "            background-color:  #b6b6b6;\n",
              "            color:  #000000;\n",
              "        }#T_644e5ee4_7ead_11eb_b9b8_0242ac1c0002row7_col9{\n",
              "            font-size:  6pt;\n",
              "            background-color:  #252525;\n",
              "            color:  #f1f1f1;\n",
              "        }#T_644e5ee4_7ead_11eb_b9b8_0242ac1c0002row7_col12{\n",
              "            font-size:  6pt;\n",
              "            background-color:  #999999;\n",
              "            color:  #000000;\n",
              "        }#T_644e5ee4_7ead_11eb_b9b8_0242ac1c0002row8_col5{\n",
              "            font-size:  6pt;\n",
              "            background-color:  #f9f9f9;\n",
              "            color:  #000000;\n",
              "        }#T_644e5ee4_7ead_11eb_b9b8_0242ac1c0002row8_col7{\n",
              "            font-size:  6pt;\n",
              "            background-color:  #101010;\n",
              "            color:  #f1f1f1;\n",
              "        }#T_644e5ee4_7ead_11eb_b9b8_0242ac1c0002row8_col9,#T_644e5ee4_7ead_11eb_b9b8_0242ac1c0002row9_col9{\n",
              "            font-size:  6pt;\n",
              "            background-color:  #020202;\n",
              "            color:  #f1f1f1;\n",
              "        }#T_644e5ee4_7ead_11eb_b9b8_0242ac1c0002row8_col11{\n",
              "            font-size:  6pt;\n",
              "            background-color:  #545454;\n",
              "            color:  #f1f1f1;\n",
              "        }#T_644e5ee4_7ead_11eb_b9b8_0242ac1c0002row8_col12{\n",
              "            font-size:  6pt;\n",
              "            background-color:  #f1f1f1;\n",
              "            color:  #000000;\n",
              "        }#T_644e5ee4_7ead_11eb_b9b8_0242ac1c0002row9_col5{\n",
              "            font-size:  6pt;\n",
              "            background-color:  #f7f7f7;\n",
              "            color:  #000000;\n",
              "        }#T_644e5ee4_7ead_11eb_b9b8_0242ac1c0002row9_col7{\n",
              "            font-size:  6pt;\n",
              "            background-color:  #030303;\n",
              "            color:  #f1f1f1;\n",
              "        }#T_644e5ee4_7ead_11eb_b9b8_0242ac1c0002row9_col12{\n",
              "            font-size:  6pt;\n",
              "            background-color:  #181818;\n",
              "            color:  #f1f1f1;\n",
              "        }#T_644e5ee4_7ead_11eb_b9b8_0242ac1c0002row9_col13{\n",
              "            font-size:  6pt;\n",
              "            background-color:  #303030;\n",
              "            color:  #f1f1f1;\n",
              "        }#T_644e5ee4_7ead_11eb_b9b8_0242ac1c0002row9_col14{\n",
              "            font-size:  6pt;\n",
              "            background-color:  #a9a9a9;\n",
              "            color:  #000000;\n",
              "        }#T_644e5ee4_7ead_11eb_b9b8_0242ac1c0002row9_col15{\n",
              "            font-size:  6pt;\n",
              "            background-color:  #fefefe;\n",
              "            color:  #000000;\n",
              "        }#T_644e5ee4_7ead_11eb_b9b8_0242ac1c0002row10_col8,#T_644e5ee4_7ead_11eb_b9b8_0242ac1c0002row10_col9{\n",
              "            font-size:  6pt;\n",
              "            background-color:  #bababa;\n",
              "            color:  #000000;\n",
              "        }#T_644e5ee4_7ead_11eb_b9b8_0242ac1c0002row10_col10{\n",
              "            font-size:  6pt;\n",
              "            background-color:  #393939;\n",
              "            color:  #f1f1f1;\n",
              "        }</style><table id=\"T_644e5ee4_7ead_11eb_b9b8_0242ac1c0002\" ><thead>    <tr>        <th class=\"blank level0\" ></th>        <th class=\"col_heading level0 col0\" >0</th>        <th class=\"col_heading level0 col1\" >1</th>        <th class=\"col_heading level0 col2\" >2</th>        <th class=\"col_heading level0 col3\" >3</th>        <th class=\"col_heading level0 col4\" >4</th>        <th class=\"col_heading level0 col5\" >5</th>        <th class=\"col_heading level0 col6\" >6</th>        <th class=\"col_heading level0 col7\" >7</th>        <th class=\"col_heading level0 col8\" >8</th>        <th class=\"col_heading level0 col9\" >9</th>        <th class=\"col_heading level0 col10\" >10</th>        <th class=\"col_heading level0 col11\" >11</th>        <th class=\"col_heading level0 col12\" >12</th>        <th class=\"col_heading level0 col13\" >13</th>        <th class=\"col_heading level0 col14\" >14</th>        <th class=\"col_heading level0 col15\" >15</th>        <th class=\"col_heading level0 col16\" >16</th>        <th class=\"col_heading level0 col17\" >17</th>    </tr></thead><tbody>\n",
              "                <tr>\n",
              "                        <th id=\"T_644e5ee4_7ead_11eb_b9b8_0242ac1c0002level0_row0\" class=\"row_heading level0 row0\" >0</th>\n",
              "                        <td id=\"T_644e5ee4_7ead_11eb_b9b8_0242ac1c0002row0_col0\" class=\"data row0 col0\" >0</td>\n",
              "                        <td id=\"T_644e5ee4_7ead_11eb_b9b8_0242ac1c0002row0_col1\" class=\"data row0 col1\" >0</td>\n",
              "                        <td id=\"T_644e5ee4_7ead_11eb_b9b8_0242ac1c0002row0_col2\" class=\"data row0 col2\" >0</td>\n",
              "                        <td id=\"T_644e5ee4_7ead_11eb_b9b8_0242ac1c0002row0_col3\" class=\"data row0 col3\" >0</td>\n",
              "                        <td id=\"T_644e5ee4_7ead_11eb_b9b8_0242ac1c0002row0_col4\" class=\"data row0 col4\" >0</td>\n",
              "                        <td id=\"T_644e5ee4_7ead_11eb_b9b8_0242ac1c0002row0_col5\" class=\"data row0 col5\" >0</td>\n",
              "                        <td id=\"T_644e5ee4_7ead_11eb_b9b8_0242ac1c0002row0_col6\" class=\"data row0 col6\" >0</td>\n",
              "                        <td id=\"T_644e5ee4_7ead_11eb_b9b8_0242ac1c0002row0_col7\" class=\"data row0 col7\" >0</td>\n",
              "                        <td id=\"T_644e5ee4_7ead_11eb_b9b8_0242ac1c0002row0_col8\" class=\"data row0 col8\" >0</td>\n",
              "                        <td id=\"T_644e5ee4_7ead_11eb_b9b8_0242ac1c0002row0_col9\" class=\"data row0 col9\" >0</td>\n",
              "                        <td id=\"T_644e5ee4_7ead_11eb_b9b8_0242ac1c0002row0_col10\" class=\"data row0 col10\" >0</td>\n",
              "                        <td id=\"T_644e5ee4_7ead_11eb_b9b8_0242ac1c0002row0_col11\" class=\"data row0 col11\" >0</td>\n",
              "                        <td id=\"T_644e5ee4_7ead_11eb_b9b8_0242ac1c0002row0_col12\" class=\"data row0 col12\" >0</td>\n",
              "                        <td id=\"T_644e5ee4_7ead_11eb_b9b8_0242ac1c0002row0_col13\" class=\"data row0 col13\" >0</td>\n",
              "                        <td id=\"T_644e5ee4_7ead_11eb_b9b8_0242ac1c0002row0_col14\" class=\"data row0 col14\" >0</td>\n",
              "                        <td id=\"T_644e5ee4_7ead_11eb_b9b8_0242ac1c0002row0_col15\" class=\"data row0 col15\" >0</td>\n",
              "                        <td id=\"T_644e5ee4_7ead_11eb_b9b8_0242ac1c0002row0_col16\" class=\"data row0 col16\" >0</td>\n",
              "                        <td id=\"T_644e5ee4_7ead_11eb_b9b8_0242ac1c0002row0_col17\" class=\"data row0 col17\" >0</td>\n",
              "            </tr>\n",
              "            <tr>\n",
              "                        <th id=\"T_644e5ee4_7ead_11eb_b9b8_0242ac1c0002level0_row1\" class=\"row_heading level0 row1\" >1</th>\n",
              "                        <td id=\"T_644e5ee4_7ead_11eb_b9b8_0242ac1c0002row1_col0\" class=\"data row1 col0\" >0</td>\n",
              "                        <td id=\"T_644e5ee4_7ead_11eb_b9b8_0242ac1c0002row1_col1\" class=\"data row1 col1\" >0</td>\n",
              "                        <td id=\"T_644e5ee4_7ead_11eb_b9b8_0242ac1c0002row1_col2\" class=\"data row1 col2\" >0</td>\n",
              "                        <td id=\"T_644e5ee4_7ead_11eb_b9b8_0242ac1c0002row1_col3\" class=\"data row1 col3\" >0</td>\n",
              "                        <td id=\"T_644e5ee4_7ead_11eb_b9b8_0242ac1c0002row1_col4\" class=\"data row1 col4\" >0</td>\n",
              "                        <td id=\"T_644e5ee4_7ead_11eb_b9b8_0242ac1c0002row1_col5\" class=\"data row1 col5\" >29</td>\n",
              "                        <td id=\"T_644e5ee4_7ead_11eb_b9b8_0242ac1c0002row1_col6\" class=\"data row1 col6\" >150</td>\n",
              "                        <td id=\"T_644e5ee4_7ead_11eb_b9b8_0242ac1c0002row1_col7\" class=\"data row1 col7\" >195</td>\n",
              "                        <td id=\"T_644e5ee4_7ead_11eb_b9b8_0242ac1c0002row1_col8\" class=\"data row1 col8\" >254</td>\n",
              "                        <td id=\"T_644e5ee4_7ead_11eb_b9b8_0242ac1c0002row1_col9\" class=\"data row1 col9\" >255</td>\n",
              "                        <td id=\"T_644e5ee4_7ead_11eb_b9b8_0242ac1c0002row1_col10\" class=\"data row1 col10\" >254</td>\n",
              "                        <td id=\"T_644e5ee4_7ead_11eb_b9b8_0242ac1c0002row1_col11\" class=\"data row1 col11\" >176</td>\n",
              "                        <td id=\"T_644e5ee4_7ead_11eb_b9b8_0242ac1c0002row1_col12\" class=\"data row1 col12\" >193</td>\n",
              "                        <td id=\"T_644e5ee4_7ead_11eb_b9b8_0242ac1c0002row1_col13\" class=\"data row1 col13\" >150</td>\n",
              "                        <td id=\"T_644e5ee4_7ead_11eb_b9b8_0242ac1c0002row1_col14\" class=\"data row1 col14\" >96</td>\n",
              "                        <td id=\"T_644e5ee4_7ead_11eb_b9b8_0242ac1c0002row1_col15\" class=\"data row1 col15\" >0</td>\n",
              "                        <td id=\"T_644e5ee4_7ead_11eb_b9b8_0242ac1c0002row1_col16\" class=\"data row1 col16\" >0</td>\n",
              "                        <td id=\"T_644e5ee4_7ead_11eb_b9b8_0242ac1c0002row1_col17\" class=\"data row1 col17\" >0</td>\n",
              "            </tr>\n",
              "            <tr>\n",
              "                        <th id=\"T_644e5ee4_7ead_11eb_b9b8_0242ac1c0002level0_row2\" class=\"row_heading level0 row2\" >2</th>\n",
              "                        <td id=\"T_644e5ee4_7ead_11eb_b9b8_0242ac1c0002row2_col0\" class=\"data row2 col0\" >0</td>\n",
              "                        <td id=\"T_644e5ee4_7ead_11eb_b9b8_0242ac1c0002row2_col1\" class=\"data row2 col1\" >0</td>\n",
              "                        <td id=\"T_644e5ee4_7ead_11eb_b9b8_0242ac1c0002row2_col2\" class=\"data row2 col2\" >0</td>\n",
              "                        <td id=\"T_644e5ee4_7ead_11eb_b9b8_0242ac1c0002row2_col3\" class=\"data row2 col3\" >48</td>\n",
              "                        <td id=\"T_644e5ee4_7ead_11eb_b9b8_0242ac1c0002row2_col4\" class=\"data row2 col4\" >166</td>\n",
              "                        <td id=\"T_644e5ee4_7ead_11eb_b9b8_0242ac1c0002row2_col5\" class=\"data row2 col5\" >224</td>\n",
              "                        <td id=\"T_644e5ee4_7ead_11eb_b9b8_0242ac1c0002row2_col6\" class=\"data row2 col6\" >253</td>\n",
              "                        <td id=\"T_644e5ee4_7ead_11eb_b9b8_0242ac1c0002row2_col7\" class=\"data row2 col7\" >253</td>\n",
              "                        <td id=\"T_644e5ee4_7ead_11eb_b9b8_0242ac1c0002row2_col8\" class=\"data row2 col8\" >234</td>\n",
              "                        <td id=\"T_644e5ee4_7ead_11eb_b9b8_0242ac1c0002row2_col9\" class=\"data row2 col9\" >196</td>\n",
              "                        <td id=\"T_644e5ee4_7ead_11eb_b9b8_0242ac1c0002row2_col10\" class=\"data row2 col10\" >253</td>\n",
              "                        <td id=\"T_644e5ee4_7ead_11eb_b9b8_0242ac1c0002row2_col11\" class=\"data row2 col11\" >253</td>\n",
              "                        <td id=\"T_644e5ee4_7ead_11eb_b9b8_0242ac1c0002row2_col12\" class=\"data row2 col12\" >253</td>\n",
              "                        <td id=\"T_644e5ee4_7ead_11eb_b9b8_0242ac1c0002row2_col13\" class=\"data row2 col13\" >253</td>\n",
              "                        <td id=\"T_644e5ee4_7ead_11eb_b9b8_0242ac1c0002row2_col14\" class=\"data row2 col14\" >233</td>\n",
              "                        <td id=\"T_644e5ee4_7ead_11eb_b9b8_0242ac1c0002row2_col15\" class=\"data row2 col15\" >0</td>\n",
              "                        <td id=\"T_644e5ee4_7ead_11eb_b9b8_0242ac1c0002row2_col16\" class=\"data row2 col16\" >0</td>\n",
              "                        <td id=\"T_644e5ee4_7ead_11eb_b9b8_0242ac1c0002row2_col17\" class=\"data row2 col17\" >0</td>\n",
              "            </tr>\n",
              "            <tr>\n",
              "                        <th id=\"T_644e5ee4_7ead_11eb_b9b8_0242ac1c0002level0_row3\" class=\"row_heading level0 row3\" >3</th>\n",
              "                        <td id=\"T_644e5ee4_7ead_11eb_b9b8_0242ac1c0002row3_col0\" class=\"data row3 col0\" >0</td>\n",
              "                        <td id=\"T_644e5ee4_7ead_11eb_b9b8_0242ac1c0002row3_col1\" class=\"data row3 col1\" >93</td>\n",
              "                        <td id=\"T_644e5ee4_7ead_11eb_b9b8_0242ac1c0002row3_col2\" class=\"data row3 col2\" >244</td>\n",
              "                        <td id=\"T_644e5ee4_7ead_11eb_b9b8_0242ac1c0002row3_col3\" class=\"data row3 col3\" >249</td>\n",
              "                        <td id=\"T_644e5ee4_7ead_11eb_b9b8_0242ac1c0002row3_col4\" class=\"data row3 col4\" >253</td>\n",
              "                        <td id=\"T_644e5ee4_7ead_11eb_b9b8_0242ac1c0002row3_col5\" class=\"data row3 col5\" >187</td>\n",
              "                        <td id=\"T_644e5ee4_7ead_11eb_b9b8_0242ac1c0002row3_col6\" class=\"data row3 col6\" >46</td>\n",
              "                        <td id=\"T_644e5ee4_7ead_11eb_b9b8_0242ac1c0002row3_col7\" class=\"data row3 col7\" >10</td>\n",
              "                        <td id=\"T_644e5ee4_7ead_11eb_b9b8_0242ac1c0002row3_col8\" class=\"data row3 col8\" >8</td>\n",
              "                        <td id=\"T_644e5ee4_7ead_11eb_b9b8_0242ac1c0002row3_col9\" class=\"data row3 col9\" >4</td>\n",
              "                        <td id=\"T_644e5ee4_7ead_11eb_b9b8_0242ac1c0002row3_col10\" class=\"data row3 col10\" >10</td>\n",
              "                        <td id=\"T_644e5ee4_7ead_11eb_b9b8_0242ac1c0002row3_col11\" class=\"data row3 col11\" >194</td>\n",
              "                        <td id=\"T_644e5ee4_7ead_11eb_b9b8_0242ac1c0002row3_col12\" class=\"data row3 col12\" >253</td>\n",
              "                        <td id=\"T_644e5ee4_7ead_11eb_b9b8_0242ac1c0002row3_col13\" class=\"data row3 col13\" >253</td>\n",
              "                        <td id=\"T_644e5ee4_7ead_11eb_b9b8_0242ac1c0002row3_col14\" class=\"data row3 col14\" >233</td>\n",
              "                        <td id=\"T_644e5ee4_7ead_11eb_b9b8_0242ac1c0002row3_col15\" class=\"data row3 col15\" >0</td>\n",
              "                        <td id=\"T_644e5ee4_7ead_11eb_b9b8_0242ac1c0002row3_col16\" class=\"data row3 col16\" >0</td>\n",
              "                        <td id=\"T_644e5ee4_7ead_11eb_b9b8_0242ac1c0002row3_col17\" class=\"data row3 col17\" >0</td>\n",
              "            </tr>\n",
              "            <tr>\n",
              "                        <th id=\"T_644e5ee4_7ead_11eb_b9b8_0242ac1c0002level0_row4\" class=\"row_heading level0 row4\" >4</th>\n",
              "                        <td id=\"T_644e5ee4_7ead_11eb_b9b8_0242ac1c0002row4_col0\" class=\"data row4 col0\" >0</td>\n",
              "                        <td id=\"T_644e5ee4_7ead_11eb_b9b8_0242ac1c0002row4_col1\" class=\"data row4 col1\" >107</td>\n",
              "                        <td id=\"T_644e5ee4_7ead_11eb_b9b8_0242ac1c0002row4_col2\" class=\"data row4 col2\" >253</td>\n",
              "                        <td id=\"T_644e5ee4_7ead_11eb_b9b8_0242ac1c0002row4_col3\" class=\"data row4 col3\" >253</td>\n",
              "                        <td id=\"T_644e5ee4_7ead_11eb_b9b8_0242ac1c0002row4_col4\" class=\"data row4 col4\" >230</td>\n",
              "                        <td id=\"T_644e5ee4_7ead_11eb_b9b8_0242ac1c0002row4_col5\" class=\"data row4 col5\" >48</td>\n",
              "                        <td id=\"T_644e5ee4_7ead_11eb_b9b8_0242ac1c0002row4_col6\" class=\"data row4 col6\" >0</td>\n",
              "                        <td id=\"T_644e5ee4_7ead_11eb_b9b8_0242ac1c0002row4_col7\" class=\"data row4 col7\" >0</td>\n",
              "                        <td id=\"T_644e5ee4_7ead_11eb_b9b8_0242ac1c0002row4_col8\" class=\"data row4 col8\" >0</td>\n",
              "                        <td id=\"T_644e5ee4_7ead_11eb_b9b8_0242ac1c0002row4_col9\" class=\"data row4 col9\" >0</td>\n",
              "                        <td id=\"T_644e5ee4_7ead_11eb_b9b8_0242ac1c0002row4_col10\" class=\"data row4 col10\" >0</td>\n",
              "                        <td id=\"T_644e5ee4_7ead_11eb_b9b8_0242ac1c0002row4_col11\" class=\"data row4 col11\" >192</td>\n",
              "                        <td id=\"T_644e5ee4_7ead_11eb_b9b8_0242ac1c0002row4_col12\" class=\"data row4 col12\" >253</td>\n",
              "                        <td id=\"T_644e5ee4_7ead_11eb_b9b8_0242ac1c0002row4_col13\" class=\"data row4 col13\" >253</td>\n",
              "                        <td id=\"T_644e5ee4_7ead_11eb_b9b8_0242ac1c0002row4_col14\" class=\"data row4 col14\" >156</td>\n",
              "                        <td id=\"T_644e5ee4_7ead_11eb_b9b8_0242ac1c0002row4_col15\" class=\"data row4 col15\" >0</td>\n",
              "                        <td id=\"T_644e5ee4_7ead_11eb_b9b8_0242ac1c0002row4_col16\" class=\"data row4 col16\" >0</td>\n",
              "                        <td id=\"T_644e5ee4_7ead_11eb_b9b8_0242ac1c0002row4_col17\" class=\"data row4 col17\" >0</td>\n",
              "            </tr>\n",
              "            <tr>\n",
              "                        <th id=\"T_644e5ee4_7ead_11eb_b9b8_0242ac1c0002level0_row5\" class=\"row_heading level0 row5\" >5</th>\n",
              "                        <td id=\"T_644e5ee4_7ead_11eb_b9b8_0242ac1c0002row5_col0\" class=\"data row5 col0\" >0</td>\n",
              "                        <td id=\"T_644e5ee4_7ead_11eb_b9b8_0242ac1c0002row5_col1\" class=\"data row5 col1\" >3</td>\n",
              "                        <td id=\"T_644e5ee4_7ead_11eb_b9b8_0242ac1c0002row5_col2\" class=\"data row5 col2\" >20</td>\n",
              "                        <td id=\"T_644e5ee4_7ead_11eb_b9b8_0242ac1c0002row5_col3\" class=\"data row5 col3\" >20</td>\n",
              "                        <td id=\"T_644e5ee4_7ead_11eb_b9b8_0242ac1c0002row5_col4\" class=\"data row5 col4\" >15</td>\n",
              "                        <td id=\"T_644e5ee4_7ead_11eb_b9b8_0242ac1c0002row5_col5\" class=\"data row5 col5\" >0</td>\n",
              "                        <td id=\"T_644e5ee4_7ead_11eb_b9b8_0242ac1c0002row5_col6\" class=\"data row5 col6\" >0</td>\n",
              "                        <td id=\"T_644e5ee4_7ead_11eb_b9b8_0242ac1c0002row5_col7\" class=\"data row5 col7\" >0</td>\n",
              "                        <td id=\"T_644e5ee4_7ead_11eb_b9b8_0242ac1c0002row5_col8\" class=\"data row5 col8\" >0</td>\n",
              "                        <td id=\"T_644e5ee4_7ead_11eb_b9b8_0242ac1c0002row5_col9\" class=\"data row5 col9\" >0</td>\n",
              "                        <td id=\"T_644e5ee4_7ead_11eb_b9b8_0242ac1c0002row5_col10\" class=\"data row5 col10\" >43</td>\n",
              "                        <td id=\"T_644e5ee4_7ead_11eb_b9b8_0242ac1c0002row5_col11\" class=\"data row5 col11\" >224</td>\n",
              "                        <td id=\"T_644e5ee4_7ead_11eb_b9b8_0242ac1c0002row5_col12\" class=\"data row5 col12\" >253</td>\n",
              "                        <td id=\"T_644e5ee4_7ead_11eb_b9b8_0242ac1c0002row5_col13\" class=\"data row5 col13\" >245</td>\n",
              "                        <td id=\"T_644e5ee4_7ead_11eb_b9b8_0242ac1c0002row5_col14\" class=\"data row5 col14\" >74</td>\n",
              "                        <td id=\"T_644e5ee4_7ead_11eb_b9b8_0242ac1c0002row5_col15\" class=\"data row5 col15\" >0</td>\n",
              "                        <td id=\"T_644e5ee4_7ead_11eb_b9b8_0242ac1c0002row5_col16\" class=\"data row5 col16\" >0</td>\n",
              "                        <td id=\"T_644e5ee4_7ead_11eb_b9b8_0242ac1c0002row5_col17\" class=\"data row5 col17\" >0</td>\n",
              "            </tr>\n",
              "            <tr>\n",
              "                        <th id=\"T_644e5ee4_7ead_11eb_b9b8_0242ac1c0002level0_row6\" class=\"row_heading level0 row6\" >6</th>\n",
              "                        <td id=\"T_644e5ee4_7ead_11eb_b9b8_0242ac1c0002row6_col0\" class=\"data row6 col0\" >0</td>\n",
              "                        <td id=\"T_644e5ee4_7ead_11eb_b9b8_0242ac1c0002row6_col1\" class=\"data row6 col1\" >0</td>\n",
              "                        <td id=\"T_644e5ee4_7ead_11eb_b9b8_0242ac1c0002row6_col2\" class=\"data row6 col2\" >0</td>\n",
              "                        <td id=\"T_644e5ee4_7ead_11eb_b9b8_0242ac1c0002row6_col3\" class=\"data row6 col3\" >0</td>\n",
              "                        <td id=\"T_644e5ee4_7ead_11eb_b9b8_0242ac1c0002row6_col4\" class=\"data row6 col4\" >0</td>\n",
              "                        <td id=\"T_644e5ee4_7ead_11eb_b9b8_0242ac1c0002row6_col5\" class=\"data row6 col5\" >0</td>\n",
              "                        <td id=\"T_644e5ee4_7ead_11eb_b9b8_0242ac1c0002row6_col6\" class=\"data row6 col6\" >0</td>\n",
              "                        <td id=\"T_644e5ee4_7ead_11eb_b9b8_0242ac1c0002row6_col7\" class=\"data row6 col7\" >0</td>\n",
              "                        <td id=\"T_644e5ee4_7ead_11eb_b9b8_0242ac1c0002row6_col8\" class=\"data row6 col8\" >0</td>\n",
              "                        <td id=\"T_644e5ee4_7ead_11eb_b9b8_0242ac1c0002row6_col9\" class=\"data row6 col9\" >0</td>\n",
              "                        <td id=\"T_644e5ee4_7ead_11eb_b9b8_0242ac1c0002row6_col10\" class=\"data row6 col10\" >249</td>\n",
              "                        <td id=\"T_644e5ee4_7ead_11eb_b9b8_0242ac1c0002row6_col11\" class=\"data row6 col11\" >253</td>\n",
              "                        <td id=\"T_644e5ee4_7ead_11eb_b9b8_0242ac1c0002row6_col12\" class=\"data row6 col12\" >245</td>\n",
              "                        <td id=\"T_644e5ee4_7ead_11eb_b9b8_0242ac1c0002row6_col13\" class=\"data row6 col13\" >126</td>\n",
              "                        <td id=\"T_644e5ee4_7ead_11eb_b9b8_0242ac1c0002row6_col14\" class=\"data row6 col14\" >0</td>\n",
              "                        <td id=\"T_644e5ee4_7ead_11eb_b9b8_0242ac1c0002row6_col15\" class=\"data row6 col15\" >0</td>\n",
              "                        <td id=\"T_644e5ee4_7ead_11eb_b9b8_0242ac1c0002row6_col16\" class=\"data row6 col16\" >0</td>\n",
              "                        <td id=\"T_644e5ee4_7ead_11eb_b9b8_0242ac1c0002row6_col17\" class=\"data row6 col17\" >0</td>\n",
              "            </tr>\n",
              "            <tr>\n",
              "                        <th id=\"T_644e5ee4_7ead_11eb_b9b8_0242ac1c0002level0_row7\" class=\"row_heading level0 row7\" >7</th>\n",
              "                        <td id=\"T_644e5ee4_7ead_11eb_b9b8_0242ac1c0002row7_col0\" class=\"data row7 col0\" >0</td>\n",
              "                        <td id=\"T_644e5ee4_7ead_11eb_b9b8_0242ac1c0002row7_col1\" class=\"data row7 col1\" >0</td>\n",
              "                        <td id=\"T_644e5ee4_7ead_11eb_b9b8_0242ac1c0002row7_col2\" class=\"data row7 col2\" >0</td>\n",
              "                        <td id=\"T_644e5ee4_7ead_11eb_b9b8_0242ac1c0002row7_col3\" class=\"data row7 col3\" >0</td>\n",
              "                        <td id=\"T_644e5ee4_7ead_11eb_b9b8_0242ac1c0002row7_col4\" class=\"data row7 col4\" >0</td>\n",
              "                        <td id=\"T_644e5ee4_7ead_11eb_b9b8_0242ac1c0002row7_col5\" class=\"data row7 col5\" >0</td>\n",
              "                        <td id=\"T_644e5ee4_7ead_11eb_b9b8_0242ac1c0002row7_col6\" class=\"data row7 col6\" >0</td>\n",
              "                        <td id=\"T_644e5ee4_7ead_11eb_b9b8_0242ac1c0002row7_col7\" class=\"data row7 col7\" >14</td>\n",
              "                        <td id=\"T_644e5ee4_7ead_11eb_b9b8_0242ac1c0002row7_col8\" class=\"data row7 col8\" >101</td>\n",
              "                        <td id=\"T_644e5ee4_7ead_11eb_b9b8_0242ac1c0002row7_col9\" class=\"data row7 col9\" >223</td>\n",
              "                        <td id=\"T_644e5ee4_7ead_11eb_b9b8_0242ac1c0002row7_col10\" class=\"data row7 col10\" >253</td>\n",
              "                        <td id=\"T_644e5ee4_7ead_11eb_b9b8_0242ac1c0002row7_col11\" class=\"data row7 col11\" >248</td>\n",
              "                        <td id=\"T_644e5ee4_7ead_11eb_b9b8_0242ac1c0002row7_col12\" class=\"data row7 col12\" >124</td>\n",
              "                        <td id=\"T_644e5ee4_7ead_11eb_b9b8_0242ac1c0002row7_col13\" class=\"data row7 col13\" >0</td>\n",
              "                        <td id=\"T_644e5ee4_7ead_11eb_b9b8_0242ac1c0002row7_col14\" class=\"data row7 col14\" >0</td>\n",
              "                        <td id=\"T_644e5ee4_7ead_11eb_b9b8_0242ac1c0002row7_col15\" class=\"data row7 col15\" >0</td>\n",
              "                        <td id=\"T_644e5ee4_7ead_11eb_b9b8_0242ac1c0002row7_col16\" class=\"data row7 col16\" >0</td>\n",
              "                        <td id=\"T_644e5ee4_7ead_11eb_b9b8_0242ac1c0002row7_col17\" class=\"data row7 col17\" >0</td>\n",
              "            </tr>\n",
              "            <tr>\n",
              "                        <th id=\"T_644e5ee4_7ead_11eb_b9b8_0242ac1c0002level0_row8\" class=\"row_heading level0 row8\" >8</th>\n",
              "                        <td id=\"T_644e5ee4_7ead_11eb_b9b8_0242ac1c0002row8_col0\" class=\"data row8 col0\" >0</td>\n",
              "                        <td id=\"T_644e5ee4_7ead_11eb_b9b8_0242ac1c0002row8_col1\" class=\"data row8 col1\" >0</td>\n",
              "                        <td id=\"T_644e5ee4_7ead_11eb_b9b8_0242ac1c0002row8_col2\" class=\"data row8 col2\" >0</td>\n",
              "                        <td id=\"T_644e5ee4_7ead_11eb_b9b8_0242ac1c0002row8_col3\" class=\"data row8 col3\" >0</td>\n",
              "                        <td id=\"T_644e5ee4_7ead_11eb_b9b8_0242ac1c0002row8_col4\" class=\"data row8 col4\" >0</td>\n",
              "                        <td id=\"T_644e5ee4_7ead_11eb_b9b8_0242ac1c0002row8_col5\" class=\"data row8 col5\" >11</td>\n",
              "                        <td id=\"T_644e5ee4_7ead_11eb_b9b8_0242ac1c0002row8_col6\" class=\"data row8 col6\" >166</td>\n",
              "                        <td id=\"T_644e5ee4_7ead_11eb_b9b8_0242ac1c0002row8_col7\" class=\"data row8 col7\" >239</td>\n",
              "                        <td id=\"T_644e5ee4_7ead_11eb_b9b8_0242ac1c0002row8_col8\" class=\"data row8 col8\" >253</td>\n",
              "                        <td id=\"T_644e5ee4_7ead_11eb_b9b8_0242ac1c0002row8_col9\" class=\"data row8 col9\" >253</td>\n",
              "                        <td id=\"T_644e5ee4_7ead_11eb_b9b8_0242ac1c0002row8_col10\" class=\"data row8 col10\" >253</td>\n",
              "                        <td id=\"T_644e5ee4_7ead_11eb_b9b8_0242ac1c0002row8_col11\" class=\"data row8 col11\" >187</td>\n",
              "                        <td id=\"T_644e5ee4_7ead_11eb_b9b8_0242ac1c0002row8_col12\" class=\"data row8 col12\" >30</td>\n",
              "                        <td id=\"T_644e5ee4_7ead_11eb_b9b8_0242ac1c0002row8_col13\" class=\"data row8 col13\" >0</td>\n",
              "                        <td id=\"T_644e5ee4_7ead_11eb_b9b8_0242ac1c0002row8_col14\" class=\"data row8 col14\" >0</td>\n",
              "                        <td id=\"T_644e5ee4_7ead_11eb_b9b8_0242ac1c0002row8_col15\" class=\"data row8 col15\" >0</td>\n",
              "                        <td id=\"T_644e5ee4_7ead_11eb_b9b8_0242ac1c0002row8_col16\" class=\"data row8 col16\" >0</td>\n",
              "                        <td id=\"T_644e5ee4_7ead_11eb_b9b8_0242ac1c0002row8_col17\" class=\"data row8 col17\" >0</td>\n",
              "            </tr>\n",
              "            <tr>\n",
              "                        <th id=\"T_644e5ee4_7ead_11eb_b9b8_0242ac1c0002level0_row9\" class=\"row_heading level0 row9\" >9</th>\n",
              "                        <td id=\"T_644e5ee4_7ead_11eb_b9b8_0242ac1c0002row9_col0\" class=\"data row9 col0\" >0</td>\n",
              "                        <td id=\"T_644e5ee4_7ead_11eb_b9b8_0242ac1c0002row9_col1\" class=\"data row9 col1\" >0</td>\n",
              "                        <td id=\"T_644e5ee4_7ead_11eb_b9b8_0242ac1c0002row9_col2\" class=\"data row9 col2\" >0</td>\n",
              "                        <td id=\"T_644e5ee4_7ead_11eb_b9b8_0242ac1c0002row9_col3\" class=\"data row9 col3\" >0</td>\n",
              "                        <td id=\"T_644e5ee4_7ead_11eb_b9b8_0242ac1c0002row9_col4\" class=\"data row9 col4\" >0</td>\n",
              "                        <td id=\"T_644e5ee4_7ead_11eb_b9b8_0242ac1c0002row9_col5\" class=\"data row9 col5\" >16</td>\n",
              "                        <td id=\"T_644e5ee4_7ead_11eb_b9b8_0242ac1c0002row9_col6\" class=\"data row9 col6\" >248</td>\n",
              "                        <td id=\"T_644e5ee4_7ead_11eb_b9b8_0242ac1c0002row9_col7\" class=\"data row9 col7\" >250</td>\n",
              "                        <td id=\"T_644e5ee4_7ead_11eb_b9b8_0242ac1c0002row9_col8\" class=\"data row9 col8\" >253</td>\n",
              "                        <td id=\"T_644e5ee4_7ead_11eb_b9b8_0242ac1c0002row9_col9\" class=\"data row9 col9\" >253</td>\n",
              "                        <td id=\"T_644e5ee4_7ead_11eb_b9b8_0242ac1c0002row9_col10\" class=\"data row9 col10\" >253</td>\n",
              "                        <td id=\"T_644e5ee4_7ead_11eb_b9b8_0242ac1c0002row9_col11\" class=\"data row9 col11\" >253</td>\n",
              "                        <td id=\"T_644e5ee4_7ead_11eb_b9b8_0242ac1c0002row9_col12\" class=\"data row9 col12\" >232</td>\n",
              "                        <td id=\"T_644e5ee4_7ead_11eb_b9b8_0242ac1c0002row9_col13\" class=\"data row9 col13\" >213</td>\n",
              "                        <td id=\"T_644e5ee4_7ead_11eb_b9b8_0242ac1c0002row9_col14\" class=\"data row9 col14\" >111</td>\n",
              "                        <td id=\"T_644e5ee4_7ead_11eb_b9b8_0242ac1c0002row9_col15\" class=\"data row9 col15\" >2</td>\n",
              "                        <td id=\"T_644e5ee4_7ead_11eb_b9b8_0242ac1c0002row9_col16\" class=\"data row9 col16\" >0</td>\n",
              "                        <td id=\"T_644e5ee4_7ead_11eb_b9b8_0242ac1c0002row9_col17\" class=\"data row9 col17\" >0</td>\n",
              "            </tr>\n",
              "            <tr>\n",
              "                        <th id=\"T_644e5ee4_7ead_11eb_b9b8_0242ac1c0002level0_row10\" class=\"row_heading level0 row10\" >10</th>\n",
              "                        <td id=\"T_644e5ee4_7ead_11eb_b9b8_0242ac1c0002row10_col0\" class=\"data row10 col0\" >0</td>\n",
              "                        <td id=\"T_644e5ee4_7ead_11eb_b9b8_0242ac1c0002row10_col1\" class=\"data row10 col1\" >0</td>\n",
              "                        <td id=\"T_644e5ee4_7ead_11eb_b9b8_0242ac1c0002row10_col2\" class=\"data row10 col2\" >0</td>\n",
              "                        <td id=\"T_644e5ee4_7ead_11eb_b9b8_0242ac1c0002row10_col3\" class=\"data row10 col3\" >0</td>\n",
              "                        <td id=\"T_644e5ee4_7ead_11eb_b9b8_0242ac1c0002row10_col4\" class=\"data row10 col4\" >0</td>\n",
              "                        <td id=\"T_644e5ee4_7ead_11eb_b9b8_0242ac1c0002row10_col5\" class=\"data row10 col5\" >0</td>\n",
              "                        <td id=\"T_644e5ee4_7ead_11eb_b9b8_0242ac1c0002row10_col6\" class=\"data row10 col6\" >0</td>\n",
              "                        <td id=\"T_644e5ee4_7ead_11eb_b9b8_0242ac1c0002row10_col7\" class=\"data row10 col7\" >43</td>\n",
              "                        <td id=\"T_644e5ee4_7ead_11eb_b9b8_0242ac1c0002row10_col8\" class=\"data row10 col8\" >98</td>\n",
              "                        <td id=\"T_644e5ee4_7ead_11eb_b9b8_0242ac1c0002row10_col9\" class=\"data row10 col9\" >98</td>\n",
              "                        <td id=\"T_644e5ee4_7ead_11eb_b9b8_0242ac1c0002row10_col10\" class=\"data row10 col10\" >208</td>\n",
              "                        <td id=\"T_644e5ee4_7ead_11eb_b9b8_0242ac1c0002row10_col11\" class=\"data row10 col11\" >253</td>\n",
              "                        <td id=\"T_644e5ee4_7ead_11eb_b9b8_0242ac1c0002row10_col12\" class=\"data row10 col12\" >253</td>\n",
              "                        <td id=\"T_644e5ee4_7ead_11eb_b9b8_0242ac1c0002row10_col13\" class=\"data row10 col13\" >253</td>\n",
              "                        <td id=\"T_644e5ee4_7ead_11eb_b9b8_0242ac1c0002row10_col14\" class=\"data row10 col14\" >253</td>\n",
              "                        <td id=\"T_644e5ee4_7ead_11eb_b9b8_0242ac1c0002row10_col15\" class=\"data row10 col15\" >187</td>\n",
              "                        <td id=\"T_644e5ee4_7ead_11eb_b9b8_0242ac1c0002row10_col16\" class=\"data row10 col16\" >22</td>\n",
              "                        <td id=\"T_644e5ee4_7ead_11eb_b9b8_0242ac1c0002row10_col17\" class=\"data row10 col17\" >0</td>\n",
              "            </tr>\n",
              "    </tbody></table>"
            ],
            "text/plain": [
              "<pandas.io.formats.style.Styler at 0x7f49e0318ad0>"
            ]
          },
          "metadata": {
            "tags": []
          },
          "execution_count": 10
        }
      ]
    },
    {
      "cell_type": "markdown",
      "metadata": {
        "id": "sOZPcbQ7tmBK"
      },
      "source": [
        "We will use Jupyter to do some little checks of our work along the way—in this case, making sure that the number of returned items seems reasonable:"
      ]
    },
    {
      "cell_type": "code",
      "metadata": {
        "colab": {
          "base_uri": "https://localhost:8080/"
        },
        "id": "kF_7V-62tmHC",
        "outputId": "d012ab24-db74-4057-ebce-6b0dff1a86d9"
      },
      "source": [
        "seven_tensors = [tensor(Image.open(o)) for o in sevens]\r\n",
        "three_tensors = [tensor(Image.open(o)) for o in threes]\r\n",
        "len(three_tensors),len(seven_tensors)"
      ],
      "execution_count": null,
      "outputs": [
        {
          "output_type": "execute_result",
          "data": {
            "text/plain": [
              "(6131, 6265)"
            ]
          },
          "metadata": {
            "tags": []
          },
          "execution_count": 11
        }
      ]
    },
    {
      "cell_type": "code",
      "metadata": {
        "colab": {
          "base_uri": "https://localhost:8080/",
          "height": 85
        },
        "id": "Nj2BHK4OtsnN",
        "outputId": "5cf5cea2-fb29-49cb-f2d1-5d34811ef575"
      },
      "source": [
        "show_image(three_tensors[1]);"
      ],
      "execution_count": null,
      "outputs": [
        {
          "output_type": "display_data",
          "data": {
            "image/png": "[encoded data removed]",
            "text/plain": [
              "<Figure size 72x72 with 1 Axes>"
            ]
          },
          "metadata": {
            "tags": [],
            "needs_background": "light"
          }
        }
      ]
    },
    {
      "cell_type": "markdown",
      "metadata": {
        "id": "64ugKOkwtpPk"
      },
      "source": [
        "For every pixel position, we want to compute the average over all the images of the intensity of that pixel. To do this we first combine all the images in this list into a single three-dimensional tensor. The most common way to describe such a tensor is to call it a rank-3 tensor. We often need to stack up individual tensors in a collection into a single tensor. Unsurprisingly, PyTorch comes with a function called stack that we can use for this purpose."
      ]
    },
    {
      "cell_type": "code",
      "metadata": {
        "colab": {
          "base_uri": "https://localhost:8080/"
        },
        "id": "WSkHIhE6t0Oc",
        "outputId": "bc4c1e70-9846-491b-874a-b02a9a8dcd8f"
      },
      "source": [
        "stacked_sevens = torch.stack(seven_tensors).float()/255\r\n",
        "stacked_threes = torch.stack(three_tensors).float()/255\r\n",
        "stacked_threes.shape"
      ],
      "execution_count": null,
      "outputs": [
        {
          "output_type": "execute_result",
          "data": {
            "text/plain": [
              "torch.Size([6131, 28, 28])"
            ]
          },
          "metadata": {
            "tags": []
          },
          "execution_count": 13
        }
      ]
    },
    {
      "cell_type": "code",
      "metadata": {
        "colab": {
          "base_uri": "https://localhost:8080/"
        },
        "id": "0rQRCew7uy_2",
        "outputId": "9a221686-eeea-4321-9bde-fb309536ed79"
      },
      "source": [
        "len(stacked_threes.shape)"
      ],
      "execution_count": null,
      "outputs": [
        {
          "output_type": "execute_result",
          "data": {
            "text/plain": [
              "3"
            ]
          },
          "metadata": {
            "tags": []
          },
          "execution_count": 14
        }
      ]
    },
    {
      "cell_type": "markdown",
      "metadata": {
        "id": "mWn63I1wu1XY"
      },
      "source": [
        "We can also get a tensor's rank directly with ndim:"
      ]
    },
    {
      "cell_type": "code",
      "metadata": {
        "colab": {
          "base_uri": "https://localhost:8080/"
        },
        "id": "eN6xXZ_-u1uj",
        "outputId": "2bc8767b-938f-4b4a-89e1-c4e5becee54a"
      },
      "source": [
        "stacked_threes.ndim"
      ],
      "execution_count": null,
      "outputs": [
        {
          "output_type": "execute_result",
          "data": {
            "text/plain": [
              "3"
            ]
          },
          "metadata": {
            "tags": []
          },
          "execution_count": 15
        }
      ]
    },
    {
      "cell_type": "markdown",
      "metadata": {
        "id": "NBqFXYJ6u7TQ"
      },
      "source": [
        "Finally, we can compute what the ideal 3 looks like. We calculate the mean of all the image tensors by taking the mean along dimension 0 of our stacked, rank-3 tensor. This is the dimension that indexes over all the images.\r\n",
        "\r\n",
        "In other words, for every pixel position, this will compute the average of that pixel over all images. The result will be one value for every pixel position, or a single image. Here it is:\r\n"
      ]
    },
    {
      "cell_type": "code",
      "metadata": {
        "colab": {
          "base_uri": "https://localhost:8080/",
          "height": 85
        },
        "id": "-xIbqzRZu72B",
        "outputId": "d4772d5b-2382-476e-b3aa-9951d9e07469"
      },
      "source": [
        "mean3 = stacked_threes.mean(0)\r\n",
        "show_image(mean3);"
      ],
      "execution_count": null,
      "outputs": [
        {
          "output_type": "display_data",
          "data": {
            "image/png": "[encoded data removed]",
            "text/plain": [
              "<Figure size 72x72 with 1 Axes>"
            ]
          },
          "metadata": {
            "tags": [],
            "needs_background": "light"
          }
        }
      ]
    },
    {
      "cell_type": "code",
      "metadata": {
        "colab": {
          "base_uri": "https://localhost:8080/",
          "height": 85
        },
        "id": "VE4vaNkvvSUE",
        "outputId": "790952f3-ee03-426b-85c9-9ff2270fc215"
      },
      "source": [
        "mean7 = stacked_sevens.mean(0)\r\n",
        "show_image(mean7);"
      ],
      "execution_count": null,
      "outputs": [
        {
          "output_type": "display_data",
          "data": {
            "image/png": "[encoded data removed]",
            "text/plain": [
              "<Figure size 72x72 with 1 Axes>"
            ]
          },
          "metadata": {
            "tags": [],
            "needs_background": "light"
          }
        }
      ]
    },
    {
      "cell_type": "markdown",
      "metadata": {
        "id": "9eWU-wEbxkpd"
      },
      "source": [
        "Let's now pick an arbitrary 3 and measure its distance from our \"ideal digits.\"\r\n",
        "\r\n",
        "\r\n",
        "\r\n",
        "Here's a test sample:"
      ]
    },
    {
      "cell_type": "code",
      "metadata": {
        "colab": {
          "base_uri": "https://localhost:8080/",
          "height": 85
        },
        "id": "wDzUSa7Mxkvd",
        "outputId": "b5c2d54f-e1c5-446b-d164-826386009023"
      },
      "source": [
        "a_3 = stacked_threes[1]\r\n",
        "show_image(a_3);"
      ],
      "execution_count": null,
      "outputs": [
        {
          "output_type": "display_data",
          "data": {
            "image/png": "[encoded data removed]",
            "text/plain": [
              "<Figure size 72x72 with 1 Axes>"
            ]
          },
          "metadata": {
            "tags": [],
            "needs_background": "light"
          }
        }
      ]
    },
    {
      "cell_type": "markdown",
      "metadata": {
        "id": "clU0mjVM0LNk"
      },
      "source": [
        "We can compare pixels in two images to each other and add up all differences to see how big is the difference. It can vary from negative to positive. \r\n",
        "But this is a faulsy way of thinking. An image that is too dark in some places and too light in others might be shown as having zero total differences from the ideal.\r\n",
        "To avoid this, there are two main ways data scientists measure distance in this context:\r\n",
        "\r\n",
        "\r\n",
        "*   Take the mean of the absolute value of differences (absolute value is the function that replaces negative values with positive values). This is called the mean absolute difference or L1 norm\r\n",
        "*   Take the mean of the square of differences (which makes everything positive) and then take the square root (which undoes the squaring). This is called the root mean squared error (RMSE) or L2 norm.\r\n",
        "\r\n",
        "\r\n",
        "\r\n",
        "    "
      ]
    },
    {
      "cell_type": "code",
      "metadata": {
        "colab": {
          "base_uri": "https://localhost:8080/"
        },
        "id": "9LX5fBR_zB9u",
        "outputId": "fd25ce09-4259-4e74-a686-a948631271dc"
      },
      "source": [
        "dist_3_abs = (a_3 - mean3).abs().mean()\r\n",
        "dist_3_sqr = ((a_3 - mean3)**2).mean().sqrt()\r\n",
        "dist_3_abs,dist_3_sqr\r\n"
      ],
      "execution_count": null,
      "outputs": [
        {
          "output_type": "execute_result",
          "data": {
            "text/plain": [
              "(tensor(0.1114), tensor(0.2021))"
            ]
          },
          "metadata": {
            "tags": []
          },
          "execution_count": 19
        }
      ]
    },
    {
      "cell_type": "code",
      "metadata": {
        "colab": {
          "base_uri": "https://localhost:8080/"
        },
        "id": "tYJdCuMK0fGB",
        "outputId": "6983590d-ff23-4855-ca9b-2900b15a18ad"
      },
      "source": [
        "dist_7_abs = (a_3 - mean7).abs().mean()\r\n",
        "dist_7_sqr = ((a_3 - mean7)**2).mean().sqrt()\r\n",
        "dist_7_abs,dist_7_sqr"
      ],
      "execution_count": null,
      "outputs": [
        {
          "output_type": "execute_result",
          "data": {
            "text/plain": [
              "(tensor(0.1586), tensor(0.3021))"
            ]
          },
          "metadata": {
            "tags": []
          },
          "execution_count": 20
        }
      ]
    },
    {
      "cell_type": "markdown",
      "metadata": {
        "id": "saHvtas56ZX9"
      },
      "source": [
        "In both cases, the distance between our 3 and the \"ideal\" 3 is less than the distance to the ideal 7. So our simple model will give the right prediction in this case."
      ]
    },
    {
      "cell_type": "markdown",
      "metadata": {
        "id": "DSZMywoW6OdT"
      },
      "source": [
        "PyTorch already provides both of these as loss functions. You'll find these inside torch.nn.functional, which the PyTorch team recommends importing as F (and is available by default under that name in fastai):"
      ]
    },
    {
      "cell_type": "code",
      "metadata": {
        "colab": {
          "base_uri": "https://localhost:8080/"
        },
        "id": "2BGDyktL6gVx",
        "outputId": "77fd0e08-f18f-4d09-85bb-5573b1369ef9"
      },
      "source": [
        "F.l1_loss(a_3.float(),mean7), F.mse_loss(a_3,mean7).sqrt()"
      ],
      "execution_count": null,
      "outputs": [
        {
          "output_type": "execute_result",
          "data": {
            "text/plain": [
              "(tensor(0.1586), tensor(0.3021))"
            ]
          },
          "metadata": {
            "tags": []
          },
          "execution_count": 21
        }
      ]
    },
    {
      "cell_type": "markdown",
      "metadata": {
        "id": "eg3M94d96my9"
      },
      "source": [
        "Here mse stands for mean squared error, and l1 refers to the standard mathematical jargon for mean absolute value (in math it's called the L1 norm)."
      ]
    },
    {
      "cell_type": "markdown",
      "metadata": {
        "id": "-13avzDf7cvy"
      },
      "source": [
        "# Computing Metrics Using Broadcasting"
      ]
    },
    {
      "cell_type": "markdown",
      "metadata": {
        "id": "tdsmbMAW8A7k"
      },
      "source": [
        "So to start with, let's create tensors for our 3s and 7s from that directory. These are the tensors we will use to calculate a metric measuring the quality of our first-try model, which measures distance from an ideal image:"
      ]
    },
    {
      "cell_type": "code",
      "metadata": {
        "id": "ksg4asGmDp4N"
      },
      "source": [
        "valid_3_tens = torch.stack([tensor(Image.open(o)) \r\n",
        "                            for o in (path/'valid'/'3').ls()])\r\n",
        "valid_3_tens = valid_3_tens.float()/255\r\n",
        "valid_7_tens = torch.stack([tensor(Image.open(o)) \r\n",
        "                            for o in (path/'valid'/'7').ls()])\r\n",
        "valid_7_tens = valid_7_tens.float()/255\r\n",
        "valid_3_tens.shape,valid_7_tens.shape"
      ],
      "execution_count": null,
      "outputs": []
    },
    {
      "cell_type": "markdown",
      "metadata": {
        "id": "ML2sIY04DxW1"
      },
      "source": [
        "We ultimately want to write a function, is_3, that will decide if an arbitrary image is a 3 or a 7. It will do this by deciding which of our two \"ideal digits\" this arbitrary image is closer to. For that we need to define a notion of distance—that is, a function that calculates the distance between two images.\r\n",
        "\r\n",
        "We can write a simple function that calculates the mean absolute error using an expression very similar to the one we wrote in the last section:"
      ]
    },
    {
      "cell_type": "code",
      "metadata": {
        "id": "-30Tx5xsDx8z"
      },
      "source": [
        "def mnist_distance(a,b): return (a-b).abs().mean((-1,-2))\r\n",
        "mnist_distance(a_3, mean3)"
      ],
      "execution_count": null,
      "outputs": []
    }
  ]
}