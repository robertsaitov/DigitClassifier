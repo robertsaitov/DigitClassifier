{
  "nbformat": 4,
  "nbformat_minor": 0,
  "metadata": {
    "colab": {
      "name": "DigitClassifier.ipynb",
      "provenance": [],
      "authorship_tag": "ABX9TyM1PRVMaBB2e43VJJPGsk+4",
      "include_colab_link": true
    },
    "kernelspec": {
      "name": "python3",
      "display_name": "Python 3"
    },
    "accelerator": "GPU"
  },
  "cells": [
    {
      "cell_type": "markdown",
      "metadata": {
        "id": "view-in-github",
        "colab_type": "text"
      },
      "source": [
        "<a href=\"https://colab.research.google.com/github/robertsaitov/DigitClassifier/blob/main/DigitClassifier.ipynb\" target=\"_parent\"><img src=\"https://colab.research.google.com/assets/colab-badge.svg\" alt=\"Open In Colab\"/></a>"
      ]
    },
    {
      "cell_type": "code",
      "metadata": {
        "id": "naFvJFd1YAlv",
        "colab": {
          "base_uri": "https://localhost:8080/"
        },
        "outputId": "0421e1d6-5151-47b4-bc6d-8ef5430581af"
      },
      "source": [
        "#hide\r\n",
        "!pip install -Uqq fastbook\r\n",
        "import fastbook\r\n",
        "fastbook.setup_book()"
      ],
      "execution_count": 1,
      "outputs": [
        {
          "output_type": "stream",
          "text": [
            "\u001b[K     |████████████████████████████████| 727kB 17.5MB/s \n",
            "\u001b[K     |████████████████████████████████| 194kB 55.2MB/s \n",
            "\u001b[K     |████████████████████████████████| 1.2MB 56.8MB/s \n",
            "\u001b[K     |████████████████████████████████| 51kB 7.4MB/s \n",
            "\u001b[K     |████████████████████████████████| 61kB 9.4MB/s \n",
            "\u001b[?25hMounted at /content/gdrive\n"
          ],
          "name": "stdout"
        }
      ]
    },
    {
      "cell_type": "code",
      "metadata": {
        "id": "YuXoOLjwrad1"
      },
      "source": [
        "#hide\r\n",
        "from fastai.vision.all import *\r\n",
        "from fastbook import *\r\n",
        "\r\n",
        "matplotlib.rc('image', cmap='Greys')"
      ],
      "execution_count": 2,
      "outputs": []
    },
    {
      "cell_type": "code",
      "metadata": {
        "id": "IO4Dhpe8ret3",
        "outputId": "30645361-c207-4698-9c7d-41c76fec5ea4",
        "colab": {
          "base_uri": "https://localhost:8080/",
          "height": 36
        }
      },
      "source": [
        "path = untar_data(URLs.MNIST_SAMPLE)\r\n",
        "Path.BASE_PATH = path\r\n",
        "path.ls()"
      ],
      "execution_count": 3,
      "outputs": [
        {
          "output_type": "display_data",
          "data": {
            "text/html": [
              ""
            ],
            "text/plain": [
              "<IPython.core.display.HTML object>"
            ]
          },
          "metadata": {
            "tags": []
          }
        },
        {
          "output_type": "execute_result",
          "data": {
            "text/plain": [
              "(#3) [Path('train'),Path('valid'),Path('labels.csv')]"
            ]
          },
          "metadata": {
            "tags": []
          },
          "execution_count": 3
        }
      ]
    },
    {
      "cell_type": "markdown",
      "metadata": {
        "id": "Ie-wYqqYruY3"
      },
      "source": [
        "The MNIST dataset follows a common layout for machine learning datasets: separate folders for the training set and the validation set (and/or test set). Let's see what's inside the training set:"
      ]
    },
    {
      "cell_type": "code",
      "metadata": {
        "id": "ycza6z4Yru9C",
        "outputId": "f335dfa6-38a3-425d-d04f-40eafd89d661",
        "colab": {
          "base_uri": "https://localhost:8080/"
        }
      },
      "source": [
        "(path/'train').ls()"
      ],
      "execution_count": 4,
      "outputs": [
        {
          "output_type": "execute_result",
          "data": {
            "text/plain": [
              "(#2) [Path('train/7'),Path('train/3')]"
            ]
          },
          "metadata": {
            "tags": []
          },
          "execution_count": 4
        }
      ]
    },
    {
      "cell_type": "code",
      "metadata": {
        "id": "VldkO6Wyry-x",
        "outputId": "547c5132-641d-44fa-ab11-8a49eccde066",
        "colab": {
          "base_uri": "https://localhost:8080/"
        }
      },
      "source": [
        "threes = (path/'train'/'3').ls().sorted()\r\n",
        "sevens = (path/'train'/'7').ls().sorted()\r\n",
        "threes"
      ],
      "execution_count": 5,
      "outputs": [
        {
          "output_type": "execute_result",
          "data": {
            "text/plain": [
              "(#6131) [Path('train/3/10.png'),Path('train/3/10000.png'),Path('train/3/10011.png'),Path('train/3/10031.png'),Path('train/3/10034.png'),Path('train/3/10042.png'),Path('train/3/10052.png'),Path('train/3/1007.png'),Path('train/3/10074.png'),Path('train/3/10091.png')...]"
            ]
          },
          "metadata": {
            "tags": []
          },
          "execution_count": 5
        }
      ]
    },
    {
      "cell_type": "code",
      "metadata": {
        "id": "VcnnNd52r2El",
        "outputId": "46fa0a11-d32b-4cba-e638-ab863cb4ef50",
        "colab": {
          "base_uri": "https://localhost:8080/",
          "height": 45
        }
      },
      "source": [
        "im3_path = threes[1]\r\n",
        "im3 = Image.open(im3_path)\r\n",
        "im3"
      ],
      "execution_count": 6,
      "outputs": [
        {
          "output_type": "execute_result",
          "data": {
            "image/png": "[encoded data removed]",
            "text/plain": [
              "<PIL.PngImagePlugin.PngImageFile image mode=L size=28x28 at 0x7FC0A5C81470>"
            ]
          },
          "metadata": {
            "tags": []
          },
          "execution_count": 6
        }
      ]
    },
    {
      "cell_type": "markdown",
      "metadata": {
        "id": "R8IQyy7kr4f8"
      },
      "source": [
        "In a computer, everything is represented as a number. To view the numbers that make up this image, we have to convert it to a NumPy array or a PyTorch tensor. For instance, here's what a section of the image looks like, converted to a NumPy array:"
      ]
    },
    {
      "cell_type": "code",
      "metadata": {
        "id": "zNI3sQJZr4pM",
        "outputId": "84beaba4-7698-4d03-e794-7f8da0b095ba",
        "colab": {
          "base_uri": "https://localhost:8080/"
        }
      },
      "source": [
        "array(im3)[4:10,4:10]"
      ],
      "execution_count": 7,
      "outputs": [
        {
          "output_type": "execute_result",
          "data": {
            "text/plain": [
              "array([[  0,   0,   0,   0,   0,   0],\n",
              "       [  0,   0,   0,   0,   0,  29],\n",
              "       [  0,   0,   0,  48, 166, 224],\n",
              "       [  0,  93, 244, 249, 253, 187],\n",
              "       [  0, 107, 253, 253, 230,  48],\n",
              "       [  0,   3,  20,  20,  15,   0]], dtype=uint8)"
            ]
          },
          "metadata": {
            "tags": []
          },
          "execution_count": 7
        }
      ]
    },
    {
      "cell_type": "markdown",
      "metadata": {
        "id": "C6xwaHmer5hK"
      },
      "source": [
        "This is PyTorch Tensor. The 4:10 indicates we requested the rows from index 4 (included) to 10 (not included) and the same for the columns."
      ]
    },
    {
      "cell_type": "code",
      "metadata": {
        "id": "PKWs6tqZr5sY",
        "outputId": "6f15b7b3-1f03-4727-fbb1-13a8a26c17d6",
        "colab": {
          "base_uri": "https://localhost:8080/"
        }
      },
      "source": [
        "tensor(im3)[4:10,4:10]"
      ],
      "execution_count": 8,
      "outputs": [
        {
          "output_type": "execute_result",
          "data": {
            "text/plain": [
              "tensor([[  0,   0,   0,   0,   0,   0],\n",
              "        [  0,   0,   0,   0,   0,  29],\n",
              "        [  0,   0,   0,  48, 166, 224],\n",
              "        [  0,  93, 244, 249, 253, 187],\n",
              "        [  0, 107, 253, 253, 230,  48],\n",
              "        [  0,   3,  20,  20,  15,   0]], dtype=torch.uint8)"
            ]
          },
          "metadata": {
            "tags": []
          },
          "execution_count": 8
        }
      ]
    },
    {
      "cell_type": "markdown",
      "metadata": {
        "id": "ThfIudW3r86N"
      },
      "source": [
        "We can slice the array to pick just the part with the top of the digit in it, and then use a Pandas DataFrame to color-code the values using a gradient, which shows us clearly how the image is created from the pixel values:"
      ]
    },
    {
      "cell_type": "code",
      "metadata": {
        "id": "A97ts2jqr9BM",
        "outputId": "707db94b-8eeb-4ae0-9a9c-e266d5b3e14e",
        "colab": {
          "base_uri": "https://localhost:8080/",
          "height": 275
        }
      },
      "source": [
        "#hide_output\r\n",
        "im3_t = tensor(im3)\r\n",
        "df = pd.DataFrame(im3_t[4:15,4:22])\r\n",
        "df.style.set_properties(**{'font-size':'6pt'}).background_gradient('Greys')"
      ],
      "execution_count": 9,
      "outputs": [
        {
          "output_type": "execute_result",
          "data": {
            "text/html": [
              "<style  type=\"text/css\" >\n",
              "#T_22287be8_6eeb_11eb_a095_0242ac1c0002row0_col0,#T_22287be8_6eeb_11eb_a095_0242ac1c0002row0_col1,#T_22287be8_6eeb_11eb_a095_0242ac1c0002row0_col2,#T_22287be8_6eeb_11eb_a095_0242ac1c0002row0_col3,#T_22287be8_6eeb_11eb_a095_0242ac1c0002row0_col4,#T_22287be8_6eeb_11eb_a095_0242ac1c0002row0_col5,#T_22287be8_6eeb_11eb_a095_0242ac1c0002row0_col6,#T_22287be8_6eeb_11eb_a095_0242ac1c0002row0_col7,#T_22287be8_6eeb_11eb_a095_0242ac1c0002row0_col8,#T_22287be8_6eeb_11eb_a095_0242ac1c0002row0_col9,#T_22287be8_6eeb_11eb_a095_0242ac1c0002row0_col10,#T_22287be8_6eeb_11eb_a095_0242ac1c0002row0_col11,#T_22287be8_6eeb_11eb_a095_0242ac1c0002row0_col12,#T_22287be8_6eeb_11eb_a095_0242ac1c0002row0_col13,#T_22287be8_6eeb_11eb_a095_0242ac1c0002row0_col14,#T_22287be8_6eeb_11eb_a095_0242ac1c0002row0_col15,#T_22287be8_6eeb_11eb_a095_0242ac1c0002row0_col16,#T_22287be8_6eeb_11eb_a095_0242ac1c0002row0_col17,#T_22287be8_6eeb_11eb_a095_0242ac1c0002row1_col0,#T_22287be8_6eeb_11eb_a095_0242ac1c0002row1_col1,#T_22287be8_6eeb_11eb_a095_0242ac1c0002row1_col2,#T_22287be8_6eeb_11eb_a095_0242ac1c0002row1_col3,#T_22287be8_6eeb_11eb_a095_0242ac1c0002row1_col4,#T_22287be8_6eeb_11eb_a095_0242ac1c0002row1_col15,#T_22287be8_6eeb_11eb_a095_0242ac1c0002row1_col16,#T_22287be8_6eeb_11eb_a095_0242ac1c0002row1_col17,#T_22287be8_6eeb_11eb_a095_0242ac1c0002row2_col0,#T_22287be8_6eeb_11eb_a095_0242ac1c0002row2_col1,#T_22287be8_6eeb_11eb_a095_0242ac1c0002row2_col2,#T_22287be8_6eeb_11eb_a095_0242ac1c0002row2_col15,#T_22287be8_6eeb_11eb_a095_0242ac1c0002row2_col16,#T_22287be8_6eeb_11eb_a095_0242ac1c0002row2_col17,#T_22287be8_6eeb_11eb_a095_0242ac1c0002row3_col0,#T_22287be8_6eeb_11eb_a095_0242ac1c0002row3_col15,#T_22287be8_6eeb_11eb_a095_0242ac1c0002row3_col16,#T_22287be8_6eeb_11eb_a095_0242ac1c0002row3_col17,#T_22287be8_6eeb_11eb_a095_0242ac1c0002row4_col0,#T_22287be8_6eeb_11eb_a095_0242ac1c0002row4_col6,#T_22287be8_6eeb_11eb_a095_0242ac1c0002row4_col7,#T_22287be8_6eeb_11eb_a095_0242ac1c0002row4_col8,#T_22287be8_6eeb_11eb_a095_0242ac1c0002row4_col9,#T_22287be8_6eeb_11eb_a095_0242ac1c0002row4_col10,#T_22287be8_6eeb_11eb_a095_0242ac1c0002row4_col15,#T_22287be8_6eeb_11eb_a095_0242ac1c0002row4_col16,#T_22287be8_6eeb_11eb_a095_0242ac1c0002row4_col17,#T_22287be8_6eeb_11eb_a095_0242ac1c0002row5_col0,#T_22287be8_6eeb_11eb_a095_0242ac1c0002row5_col5,#T_22287be8_6eeb_11eb_a095_0242ac1c0002row5_col6,#T_22287be8_6eeb_11eb_a095_0242ac1c0002row5_col7,#T_22287be8_6eeb_11eb_a095_0242ac1c0002row5_col8,#T_22287be8_6eeb_11eb_a095_0242ac1c0002row5_col9,#T_22287be8_6eeb_11eb_a095_0242ac1c0002row5_col15,#T_22287be8_6eeb_11eb_a095_0242ac1c0002row5_col16,#T_22287be8_6eeb_11eb_a095_0242ac1c0002row5_col17,#T_22287be8_6eeb_11eb_a095_0242ac1c0002row6_col0,#T_22287be8_6eeb_11eb_a095_0242ac1c0002row6_col1,#T_22287be8_6eeb_11eb_a095_0242ac1c0002row6_col2,#T_22287be8_6eeb_11eb_a095_0242ac1c0002row6_col3,#T_22287be8_6eeb_11eb_a095_0242ac1c0002row6_col4,#T_22287be8_6eeb_11eb_a095_0242ac1c0002row6_col5,#T_22287be8_6eeb_11eb_a095_0242ac1c0002row6_col6,#T_22287be8_6eeb_11eb_a095_0242ac1c0002row6_col7,#T_22287be8_6eeb_11eb_a095_0242ac1c0002row6_col8,#T_22287be8_6eeb_11eb_a095_0242ac1c0002row6_col9,#T_22287be8_6eeb_11eb_a095_0242ac1c0002row6_col14,#T_22287be8_6eeb_11eb_a095_0242ac1c0002row6_col15,#T_22287be8_6eeb_11eb_a095_0242ac1c0002row6_col16,#T_22287be8_6eeb_11eb_a095_0242ac1c0002row6_col17,#T_22287be8_6eeb_11eb_a095_0242ac1c0002row7_col0,#T_22287be8_6eeb_11eb_a095_0242ac1c0002row7_col1,#T_22287be8_6eeb_11eb_a095_0242ac1c0002row7_col2,#T_22287be8_6eeb_11eb_a095_0242ac1c0002row7_col3,#T_22287be8_6eeb_11eb_a095_0242ac1c0002row7_col4,#T_22287be8_6eeb_11eb_a095_0242ac1c0002row7_col5,#T_22287be8_6eeb_11eb_a095_0242ac1c0002row7_col6,#T_22287be8_6eeb_11eb_a095_0242ac1c0002row7_col13,#T_22287be8_6eeb_11eb_a095_0242ac1c0002row7_col14,#T_22287be8_6eeb_11eb_a095_0242ac1c0002row7_col15,#T_22287be8_6eeb_11eb_a095_0242ac1c0002row7_col16,#T_22287be8_6eeb_11eb_a095_0242ac1c0002row7_col17,#T_22287be8_6eeb_11eb_a095_0242ac1c0002row8_col0,#T_22287be8_6eeb_11eb_a095_0242ac1c0002row8_col1,#T_22287be8_6eeb_11eb_a095_0242ac1c0002row8_col2,#T_22287be8_6eeb_11eb_a095_0242ac1c0002row8_col3,#T_22287be8_6eeb_11eb_a095_0242ac1c0002row8_col4,#T_22287be8_6eeb_11eb_a095_0242ac1c0002row8_col13,#T_22287be8_6eeb_11eb_a095_0242ac1c0002row8_col14,#T_22287be8_6eeb_11eb_a095_0242ac1c0002row8_col15,#T_22287be8_6eeb_11eb_a095_0242ac1c0002row8_col16,#T_22287be8_6eeb_11eb_a095_0242ac1c0002row8_col17,#T_22287be8_6eeb_11eb_a095_0242ac1c0002row9_col0,#T_22287be8_6eeb_11eb_a095_0242ac1c0002row9_col1,#T_22287be8_6eeb_11eb_a095_0242ac1c0002row9_col2,#T_22287be8_6eeb_11eb_a095_0242ac1c0002row9_col3,#T_22287be8_6eeb_11eb_a095_0242ac1c0002row9_col4,#T_22287be8_6eeb_11eb_a095_0242ac1c0002row9_col16,#T_22287be8_6eeb_11eb_a095_0242ac1c0002row9_col17,#T_22287be8_6eeb_11eb_a095_0242ac1c0002row10_col0,#T_22287be8_6eeb_11eb_a095_0242ac1c0002row10_col1,#T_22287be8_6eeb_11eb_a095_0242ac1c0002row10_col2,#T_22287be8_6eeb_11eb_a095_0242ac1c0002row10_col3,#T_22287be8_6eeb_11eb_a095_0242ac1c0002row10_col4,#T_22287be8_6eeb_11eb_a095_0242ac1c0002row10_col5,#T_22287be8_6eeb_11eb_a095_0242ac1c0002row10_col6,#T_22287be8_6eeb_11eb_a095_0242ac1c0002row10_col17{\n",
              "            font-size:  6pt;\n",
              "            background-color:  #ffffff;\n",
              "            color:  #000000;\n",
              "        }#T_22287be8_6eeb_11eb_a095_0242ac1c0002row1_col5{\n",
              "            font-size:  6pt;\n",
              "            background-color:  #efefef;\n",
              "            color:  #000000;\n",
              "        }#T_22287be8_6eeb_11eb_a095_0242ac1c0002row1_col6,#T_22287be8_6eeb_11eb_a095_0242ac1c0002row1_col13{\n",
              "            font-size:  6pt;\n",
              "            background-color:  #7c7c7c;\n",
              "            color:  #000000;\n",
              "        }#T_22287be8_6eeb_11eb_a095_0242ac1c0002row1_col7{\n",
              "            font-size:  6pt;\n",
              "            background-color:  #4a4a4a;\n",
              "            color:  #f1f1f1;\n",
              "        }#T_22287be8_6eeb_11eb_a095_0242ac1c0002row1_col8,#T_22287be8_6eeb_11eb_a095_0242ac1c0002row1_col9,#T_22287be8_6eeb_11eb_a095_0242ac1c0002row1_col10,#T_22287be8_6eeb_11eb_a095_0242ac1c0002row2_col5,#T_22287be8_6eeb_11eb_a095_0242ac1c0002row2_col6,#T_22287be8_6eeb_11eb_a095_0242ac1c0002row2_col7,#T_22287be8_6eeb_11eb_a095_0242ac1c0002row2_col11,#T_22287be8_6eeb_11eb_a095_0242ac1c0002row2_col12,#T_22287be8_6eeb_11eb_a095_0242ac1c0002row2_col13,#T_22287be8_6eeb_11eb_a095_0242ac1c0002row3_col4,#T_22287be8_6eeb_11eb_a095_0242ac1c0002row3_col12,#T_22287be8_6eeb_11eb_a095_0242ac1c0002row3_col13,#T_22287be8_6eeb_11eb_a095_0242ac1c0002row4_col1,#T_22287be8_6eeb_11eb_a095_0242ac1c0002row4_col2,#T_22287be8_6eeb_11eb_a095_0242ac1c0002row4_col3,#T_22287be8_6eeb_11eb_a095_0242ac1c0002row4_col12,#T_22287be8_6eeb_11eb_a095_0242ac1c0002row4_col13,#T_22287be8_6eeb_11eb_a095_0242ac1c0002row5_col12,#T_22287be8_6eeb_11eb_a095_0242ac1c0002row6_col11,#T_22287be8_6eeb_11eb_a095_0242ac1c0002row9_col11,#T_22287be8_6eeb_11eb_a095_0242ac1c0002row10_col11,#T_22287be8_6eeb_11eb_a095_0242ac1c0002row10_col12,#T_22287be8_6eeb_11eb_a095_0242ac1c0002row10_col13,#T_22287be8_6eeb_11eb_a095_0242ac1c0002row10_col14,#T_22287be8_6eeb_11eb_a095_0242ac1c0002row10_col15,#T_22287be8_6eeb_11eb_a095_0242ac1c0002row10_col16{\n",
              "            font-size:  6pt;\n",
              "            background-color:  #000000;\n",
              "            color:  #f1f1f1;\n",
              "        }#T_22287be8_6eeb_11eb_a095_0242ac1c0002row1_col11{\n",
              "            font-size:  6pt;\n",
              "            background-color:  #606060;\n",
              "            color:  #f1f1f1;\n",
              "        }#T_22287be8_6eeb_11eb_a095_0242ac1c0002row1_col12{\n",
              "            font-size:  6pt;\n",
              "            background-color:  #4d4d4d;\n",
              "            color:  #f1f1f1;\n",
              "        }#T_22287be8_6eeb_11eb_a095_0242ac1c0002row1_col14{\n",
              "            font-size:  6pt;\n",
              "            background-color:  #bbbbbb;\n",
              "            color:  #000000;\n",
              "        }#T_22287be8_6eeb_11eb_a095_0242ac1c0002row2_col3{\n",
              "            font-size:  6pt;\n",
              "            background-color:  #e4e4e4;\n",
              "            color:  #000000;\n",
              "        }#T_22287be8_6eeb_11eb_a095_0242ac1c0002row2_col4,#T_22287be8_6eeb_11eb_a095_0242ac1c0002row8_col6{\n",
              "            font-size:  6pt;\n",
              "            background-color:  #6b6b6b;\n",
              "            color:  #000000;\n",
              "        }#T_22287be8_6eeb_11eb_a095_0242ac1c0002row2_col8,#T_22287be8_6eeb_11eb_a095_0242ac1c0002row2_col14,#T_22287be8_6eeb_11eb_a095_0242ac1c0002row3_col14{\n",
              "            font-size:  6pt;\n",
              "            background-color:  #171717;\n",
              "            color:  #f1f1f1;\n",
              "        }#T_22287be8_6eeb_11eb_a095_0242ac1c0002row2_col9,#T_22287be8_6eeb_11eb_a095_0242ac1c0002row3_col11{\n",
              "            font-size:  6pt;\n",
              "            background-color:  #4b4b4b;\n",
              "            color:  #f1f1f1;\n",
              "        }#T_22287be8_6eeb_11eb_a095_0242ac1c0002row2_col10,#T_22287be8_6eeb_11eb_a095_0242ac1c0002row7_col10,#T_22287be8_6eeb_11eb_a095_0242ac1c0002row8_col8,#T_22287be8_6eeb_11eb_a095_0242ac1c0002row8_col10,#T_22287be8_6eeb_11eb_a095_0242ac1c0002row9_col8,#T_22287be8_6eeb_11eb_a095_0242ac1c0002row9_col10{\n",
              "            font-size:  6pt;\n",
              "            background-color:  #010101;\n",
              "            color:  #f1f1f1;\n",
              "        }#T_22287be8_6eeb_11eb_a095_0242ac1c0002row3_col1{\n",
              "            font-size:  6pt;\n",
              "            background-color:  #272727;\n",
              "            color:  #f1f1f1;\n",
              "        }#T_22287be8_6eeb_11eb_a095_0242ac1c0002row3_col2{\n",
              "            font-size:  6pt;\n",
              "            background-color:  #0a0a0a;\n",
              "            color:  #f1f1f1;\n",
              "        }#T_22287be8_6eeb_11eb_a095_0242ac1c0002row3_col3{\n",
              "            font-size:  6pt;\n",
              "            background-color:  #050505;\n",
              "            color:  #f1f1f1;\n",
              "        }#T_22287be8_6eeb_11eb_a095_0242ac1c0002row3_col5{\n",
              "            font-size:  6pt;\n",
              "            background-color:  #333333;\n",
              "            color:  #f1f1f1;\n",
              "        }#T_22287be8_6eeb_11eb_a095_0242ac1c0002row3_col6{\n",
              "            font-size:  6pt;\n",
              "            background-color:  #e6e6e6;\n",
              "            color:  #000000;\n",
              "        }#T_22287be8_6eeb_11eb_a095_0242ac1c0002row3_col7,#T_22287be8_6eeb_11eb_a095_0242ac1c0002row3_col10{\n",
              "            font-size:  6pt;\n",
              "            background-color:  #fafafa;\n",
              "            color:  #000000;\n",
              "        }#T_22287be8_6eeb_11eb_a095_0242ac1c0002row3_col8{\n",
              "            font-size:  6pt;\n",
              "            background-color:  #fbfbfb;\n",
              "            color:  #000000;\n",
              "        }#T_22287be8_6eeb_11eb_a095_0242ac1c0002row3_col9{\n",
              "            font-size:  6pt;\n",
              "            background-color:  #fdfdfd;\n",
              "            color:  #000000;\n",
              "        }#T_22287be8_6eeb_11eb_a095_0242ac1c0002row4_col4{\n",
              "            font-size:  6pt;\n",
              "            background-color:  #1b1b1b;\n",
              "            color:  #f1f1f1;\n",
              "        }#T_22287be8_6eeb_11eb_a095_0242ac1c0002row4_col5{\n",
              "            font-size:  6pt;\n",
              "            background-color:  #e0e0e0;\n",
              "            color:  #000000;\n",
              "        }#T_22287be8_6eeb_11eb_a095_0242ac1c0002row4_col11{\n",
              "            font-size:  6pt;\n",
              "            background-color:  #4e4e4e;\n",
              "            color:  #f1f1f1;\n",
              "        }#T_22287be8_6eeb_11eb_a095_0242ac1c0002row4_col14{\n",
              "            font-size:  6pt;\n",
              "            background-color:  #767676;\n",
              "            color:  #000000;\n",
              "        }#T_22287be8_6eeb_11eb_a095_0242ac1c0002row5_col1{\n",
              "            font-size:  6pt;\n",
              "            background-color:  #fcfcfc;\n",
              "            color:  #000000;\n",
              "        }#T_22287be8_6eeb_11eb_a095_0242ac1c0002row5_col2,#T_22287be8_6eeb_11eb_a095_0242ac1c0002row5_col3{\n",
              "            font-size:  6pt;\n",
              "            background-color:  #f6f6f6;\n",
              "            color:  #000000;\n",
              "        }#T_22287be8_6eeb_11eb_a095_0242ac1c0002row5_col4,#T_22287be8_6eeb_11eb_a095_0242ac1c0002row7_col7{\n",
              "            font-size:  6pt;\n",
              "            background-color:  #f8f8f8;\n",
              "            color:  #000000;\n",
              "        }#T_22287be8_6eeb_11eb_a095_0242ac1c0002row5_col10,#T_22287be8_6eeb_11eb_a095_0242ac1c0002row10_col7{\n",
              "            font-size:  6pt;\n",
              "            background-color:  #e8e8e8;\n",
              "            color:  #000000;\n",
              "        }#T_22287be8_6eeb_11eb_a095_0242ac1c0002row5_col11{\n",
              "            font-size:  6pt;\n",
              "            background-color:  #222222;\n",
              "            color:  #f1f1f1;\n",
              "        }#T_22287be8_6eeb_11eb_a095_0242ac1c0002row5_col13,#T_22287be8_6eeb_11eb_a095_0242ac1c0002row6_col12{\n",
              "            font-size:  6pt;\n",
              "            background-color:  #090909;\n",
              "            color:  #f1f1f1;\n",
              "        }#T_22287be8_6eeb_11eb_a095_0242ac1c0002row5_col14{\n",
              "            font-size:  6pt;\n",
              "            background-color:  #d0d0d0;\n",
              "            color:  #000000;\n",
              "        }#T_22287be8_6eeb_11eb_a095_0242ac1c0002row6_col10,#T_22287be8_6eeb_11eb_a095_0242ac1c0002row7_col11,#T_22287be8_6eeb_11eb_a095_0242ac1c0002row9_col6{\n",
              "            font-size:  6pt;\n",
              "            background-color:  #060606;\n",
              "            color:  #f1f1f1;\n",
              "        }#T_22287be8_6eeb_11eb_a095_0242ac1c0002row6_col13{\n",
              "            font-size:  6pt;\n",
              "            background-color:  #979797;\n",
              "            color:  #000000;\n",
              "        }#T_22287be8_6eeb_11eb_a095_0242ac1c0002row7_col8{\n",
              "            font-size:  6pt;\n",
              "            background-color:  #b6b6b6;\n",
              "            color:  #000000;\n",
              "        }#T_22287be8_6eeb_11eb_a095_0242ac1c0002row7_col9{\n",
              "            font-size:  6pt;\n",
              "            background-color:  #252525;\n",
              "            color:  #f1f1f1;\n",
              "        }#T_22287be8_6eeb_11eb_a095_0242ac1c0002row7_col12{\n",
              "            font-size:  6pt;\n",
              "            background-color:  #999999;\n",
              "            color:  #000000;\n",
              "        }#T_22287be8_6eeb_11eb_a095_0242ac1c0002row8_col5{\n",
              "            font-size:  6pt;\n",
              "            background-color:  #f9f9f9;\n",
              "            color:  #000000;\n",
              "        }#T_22287be8_6eeb_11eb_a095_0242ac1c0002row8_col7{\n",
              "            font-size:  6pt;\n",
              "            background-color:  #101010;\n",
              "            color:  #f1f1f1;\n",
              "        }#T_22287be8_6eeb_11eb_a095_0242ac1c0002row8_col9,#T_22287be8_6eeb_11eb_a095_0242ac1c0002row9_col9{\n",
              "            font-size:  6pt;\n",
              "            background-color:  #020202;\n",
              "            color:  #f1f1f1;\n",
              "        }#T_22287be8_6eeb_11eb_a095_0242ac1c0002row8_col11{\n",
              "            font-size:  6pt;\n",
              "            background-color:  #545454;\n",
              "            color:  #f1f1f1;\n",
              "        }#T_22287be8_6eeb_11eb_a095_0242ac1c0002row8_col12{\n",
              "            font-size:  6pt;\n",
              "            background-color:  #f1f1f1;\n",
              "            color:  #000000;\n",
              "        }#T_22287be8_6eeb_11eb_a095_0242ac1c0002row9_col5{\n",
              "            font-size:  6pt;\n",
              "            background-color:  #f7f7f7;\n",
              "            color:  #000000;\n",
              "        }#T_22287be8_6eeb_11eb_a095_0242ac1c0002row9_col7{\n",
              "            font-size:  6pt;\n",
              "            background-color:  #030303;\n",
              "            color:  #f1f1f1;\n",
              "        }#T_22287be8_6eeb_11eb_a095_0242ac1c0002row9_col12{\n",
              "            font-size:  6pt;\n",
              "            background-color:  #181818;\n",
              "            color:  #f1f1f1;\n",
              "        }#T_22287be8_6eeb_11eb_a095_0242ac1c0002row9_col13{\n",
              "            font-size:  6pt;\n",
              "            background-color:  #303030;\n",
              "            color:  #f1f1f1;\n",
              "        }#T_22287be8_6eeb_11eb_a095_0242ac1c0002row9_col14{\n",
              "            font-size:  6pt;\n",
              "            background-color:  #a9a9a9;\n",
              "            color:  #000000;\n",
              "        }#T_22287be8_6eeb_11eb_a095_0242ac1c0002row9_col15{\n",
              "            font-size:  6pt;\n",
              "            background-color:  #fefefe;\n",
              "            color:  #000000;\n",
              "        }#T_22287be8_6eeb_11eb_a095_0242ac1c0002row10_col8,#T_22287be8_6eeb_11eb_a095_0242ac1c0002row10_col9{\n",
              "            font-size:  6pt;\n",
              "            background-color:  #bababa;\n",
              "            color:  #000000;\n",
              "        }#T_22287be8_6eeb_11eb_a095_0242ac1c0002row10_col10{\n",
              "            font-size:  6pt;\n",
              "            background-color:  #393939;\n",
              "            color:  #f1f1f1;\n",
              "        }</style><table id=\"T_22287be8_6eeb_11eb_a095_0242ac1c0002\" ><thead>    <tr>        <th class=\"blank level0\" ></th>        <th class=\"col_heading level0 col0\" >0</th>        <th class=\"col_heading level0 col1\" >1</th>        <th class=\"col_heading level0 col2\" >2</th>        <th class=\"col_heading level0 col3\" >3</th>        <th class=\"col_heading level0 col4\" >4</th>        <th class=\"col_heading level0 col5\" >5</th>        <th class=\"col_heading level0 col6\" >6</th>        <th class=\"col_heading level0 col7\" >7</th>        <th class=\"col_heading level0 col8\" >8</th>        <th class=\"col_heading level0 col9\" >9</th>        <th class=\"col_heading level0 col10\" >10</th>        <th class=\"col_heading level0 col11\" >11</th>        <th class=\"col_heading level0 col12\" >12</th>        <th class=\"col_heading level0 col13\" >13</th>        <th class=\"col_heading level0 col14\" >14</th>        <th class=\"col_heading level0 col15\" >15</th>        <th class=\"col_heading level0 col16\" >16</th>        <th class=\"col_heading level0 col17\" >17</th>    </tr></thead><tbody>\n",
              "                <tr>\n",
              "                        <th id=\"T_22287be8_6eeb_11eb_a095_0242ac1c0002level0_row0\" class=\"row_heading level0 row0\" >0</th>\n",
              "                        <td id=\"T_22287be8_6eeb_11eb_a095_0242ac1c0002row0_col0\" class=\"data row0 col0\" >0</td>\n",
              "                        <td id=\"T_22287be8_6eeb_11eb_a095_0242ac1c0002row0_col1\" class=\"data row0 col1\" >0</td>\n",
              "                        <td id=\"T_22287be8_6eeb_11eb_a095_0242ac1c0002row0_col2\" class=\"data row0 col2\" >0</td>\n",
              "                        <td id=\"T_22287be8_6eeb_11eb_a095_0242ac1c0002row0_col3\" class=\"data row0 col3\" >0</td>\n",
              "                        <td id=\"T_22287be8_6eeb_11eb_a095_0242ac1c0002row0_col4\" class=\"data row0 col4\" >0</td>\n",
              "                        <td id=\"T_22287be8_6eeb_11eb_a095_0242ac1c0002row0_col5\" class=\"data row0 col5\" >0</td>\n",
              "                        <td id=\"T_22287be8_6eeb_11eb_a095_0242ac1c0002row0_col6\" class=\"data row0 col6\" >0</td>\n",
              "                        <td id=\"T_22287be8_6eeb_11eb_a095_0242ac1c0002row0_col7\" class=\"data row0 col7\" >0</td>\n",
              "                        <td id=\"T_22287be8_6eeb_11eb_a095_0242ac1c0002row0_col8\" class=\"data row0 col8\" >0</td>\n",
              "                        <td id=\"T_22287be8_6eeb_11eb_a095_0242ac1c0002row0_col9\" class=\"data row0 col9\" >0</td>\n",
              "                        <td id=\"T_22287be8_6eeb_11eb_a095_0242ac1c0002row0_col10\" class=\"data row0 col10\" >0</td>\n",
              "                        <td id=\"T_22287be8_6eeb_11eb_a095_0242ac1c0002row0_col11\" class=\"data row0 col11\" >0</td>\n",
              "                        <td id=\"T_22287be8_6eeb_11eb_a095_0242ac1c0002row0_col12\" class=\"data row0 col12\" >0</td>\n",
              "                        <td id=\"T_22287be8_6eeb_11eb_a095_0242ac1c0002row0_col13\" class=\"data row0 col13\" >0</td>\n",
              "                        <td id=\"T_22287be8_6eeb_11eb_a095_0242ac1c0002row0_col14\" class=\"data row0 col14\" >0</td>\n",
              "                        <td id=\"T_22287be8_6eeb_11eb_a095_0242ac1c0002row0_col15\" class=\"data row0 col15\" >0</td>\n",
              "                        <td id=\"T_22287be8_6eeb_11eb_a095_0242ac1c0002row0_col16\" class=\"data row0 col16\" >0</td>\n",
              "                        <td id=\"T_22287be8_6eeb_11eb_a095_0242ac1c0002row0_col17\" class=\"data row0 col17\" >0</td>\n",
              "            </tr>\n",
              "            <tr>\n",
              "                        <th id=\"T_22287be8_6eeb_11eb_a095_0242ac1c0002level0_row1\" class=\"row_heading level0 row1\" >1</th>\n",
              "                        <td id=\"T_22287be8_6eeb_11eb_a095_0242ac1c0002row1_col0\" class=\"data row1 col0\" >0</td>\n",
              "                        <td id=\"T_22287be8_6eeb_11eb_a095_0242ac1c0002row1_col1\" class=\"data row1 col1\" >0</td>\n",
              "                        <td id=\"T_22287be8_6eeb_11eb_a095_0242ac1c0002row1_col2\" class=\"data row1 col2\" >0</td>\n",
              "                        <td id=\"T_22287be8_6eeb_11eb_a095_0242ac1c0002row1_col3\" class=\"data row1 col3\" >0</td>\n",
              "                        <td id=\"T_22287be8_6eeb_11eb_a095_0242ac1c0002row1_col4\" class=\"data row1 col4\" >0</td>\n",
              "                        <td id=\"T_22287be8_6eeb_11eb_a095_0242ac1c0002row1_col5\" class=\"data row1 col5\" >29</td>\n",
              "                        <td id=\"T_22287be8_6eeb_11eb_a095_0242ac1c0002row1_col6\" class=\"data row1 col6\" >150</td>\n",
              "                        <td id=\"T_22287be8_6eeb_11eb_a095_0242ac1c0002row1_col7\" class=\"data row1 col7\" >195</td>\n",
              "                        <td id=\"T_22287be8_6eeb_11eb_a095_0242ac1c0002row1_col8\" class=\"data row1 col8\" >254</td>\n",
              "                        <td id=\"T_22287be8_6eeb_11eb_a095_0242ac1c0002row1_col9\" class=\"data row1 col9\" >255</td>\n",
              "                        <td id=\"T_22287be8_6eeb_11eb_a095_0242ac1c0002row1_col10\" class=\"data row1 col10\" >254</td>\n",
              "                        <td id=\"T_22287be8_6eeb_11eb_a095_0242ac1c0002row1_col11\" class=\"data row1 col11\" >176</td>\n",
              "                        <td id=\"T_22287be8_6eeb_11eb_a095_0242ac1c0002row1_col12\" class=\"data row1 col12\" >193</td>\n",
              "                        <td id=\"T_22287be8_6eeb_11eb_a095_0242ac1c0002row1_col13\" class=\"data row1 col13\" >150</td>\n",
              "                        <td id=\"T_22287be8_6eeb_11eb_a095_0242ac1c0002row1_col14\" class=\"data row1 col14\" >96</td>\n",
              "                        <td id=\"T_22287be8_6eeb_11eb_a095_0242ac1c0002row1_col15\" class=\"data row1 col15\" >0</td>\n",
              "                        <td id=\"T_22287be8_6eeb_11eb_a095_0242ac1c0002row1_col16\" class=\"data row1 col16\" >0</td>\n",
              "                        <td id=\"T_22287be8_6eeb_11eb_a095_0242ac1c0002row1_col17\" class=\"data row1 col17\" >0</td>\n",
              "            </tr>\n",
              "            <tr>\n",
              "                        <th id=\"T_22287be8_6eeb_11eb_a095_0242ac1c0002level0_row2\" class=\"row_heading level0 row2\" >2</th>\n",
              "                        <td id=\"T_22287be8_6eeb_11eb_a095_0242ac1c0002row2_col0\" class=\"data row2 col0\" >0</td>\n",
              "                        <td id=\"T_22287be8_6eeb_11eb_a095_0242ac1c0002row2_col1\" class=\"data row2 col1\" >0</td>\n",
              "                        <td id=\"T_22287be8_6eeb_11eb_a095_0242ac1c0002row2_col2\" class=\"data row2 col2\" >0</td>\n",
              "                        <td id=\"T_22287be8_6eeb_11eb_a095_0242ac1c0002row2_col3\" class=\"data row2 col3\" >48</td>\n",
              "                        <td id=\"T_22287be8_6eeb_11eb_a095_0242ac1c0002row2_col4\" class=\"data row2 col4\" >166</td>\n",
              "                        <td id=\"T_22287be8_6eeb_11eb_a095_0242ac1c0002row2_col5\" class=\"data row2 col5\" >224</td>\n",
              "                        <td id=\"T_22287be8_6eeb_11eb_a095_0242ac1c0002row2_col6\" class=\"data row2 col6\" >253</td>\n",
              "                        <td id=\"T_22287be8_6eeb_11eb_a095_0242ac1c0002row2_col7\" class=\"data row2 col7\" >253</td>\n",
              "                        <td id=\"T_22287be8_6eeb_11eb_a095_0242ac1c0002row2_col8\" class=\"data row2 col8\" >234</td>\n",
              "                        <td id=\"T_22287be8_6eeb_11eb_a095_0242ac1c0002row2_col9\" class=\"data row2 col9\" >196</td>\n",
              "                        <td id=\"T_22287be8_6eeb_11eb_a095_0242ac1c0002row2_col10\" class=\"data row2 col10\" >253</td>\n",
              "                        <td id=\"T_22287be8_6eeb_11eb_a095_0242ac1c0002row2_col11\" class=\"data row2 col11\" >253</td>\n",
              "                        <td id=\"T_22287be8_6eeb_11eb_a095_0242ac1c0002row2_col12\" class=\"data row2 col12\" >253</td>\n",
              "                        <td id=\"T_22287be8_6eeb_11eb_a095_0242ac1c0002row2_col13\" class=\"data row2 col13\" >253</td>\n",
              "                        <td id=\"T_22287be8_6eeb_11eb_a095_0242ac1c0002row2_col14\" class=\"data row2 col14\" >233</td>\n",
              "                        <td id=\"T_22287be8_6eeb_11eb_a095_0242ac1c0002row2_col15\" class=\"data row2 col15\" >0</td>\n",
              "                        <td id=\"T_22287be8_6eeb_11eb_a095_0242ac1c0002row2_col16\" class=\"data row2 col16\" >0</td>\n",
              "                        <td id=\"T_22287be8_6eeb_11eb_a095_0242ac1c0002row2_col17\" class=\"data row2 col17\" >0</td>\n",
              "            </tr>\n",
              "            <tr>\n",
              "                        <th id=\"T_22287be8_6eeb_11eb_a095_0242ac1c0002level0_row3\" class=\"row_heading level0 row3\" >3</th>\n",
              "                        <td id=\"T_22287be8_6eeb_11eb_a095_0242ac1c0002row3_col0\" class=\"data row3 col0\" >0</td>\n",
              "                        <td id=\"T_22287be8_6eeb_11eb_a095_0242ac1c0002row3_col1\" class=\"data row3 col1\" >93</td>\n",
              "                        <td id=\"T_22287be8_6eeb_11eb_a095_0242ac1c0002row3_col2\" class=\"data row3 col2\" >244</td>\n",
              "                        <td id=\"T_22287be8_6eeb_11eb_a095_0242ac1c0002row3_col3\" class=\"data row3 col3\" >249</td>\n",
              "                        <td id=\"T_22287be8_6eeb_11eb_a095_0242ac1c0002row3_col4\" class=\"data row3 col4\" >253</td>\n",
              "                        <td id=\"T_22287be8_6eeb_11eb_a095_0242ac1c0002row3_col5\" class=\"data row3 col5\" >187</td>\n",
              "                        <td id=\"T_22287be8_6eeb_11eb_a095_0242ac1c0002row3_col6\" class=\"data row3 col6\" >46</td>\n",
              "                        <td id=\"T_22287be8_6eeb_11eb_a095_0242ac1c0002row3_col7\" class=\"data row3 col7\" >10</td>\n",
              "                        <td id=\"T_22287be8_6eeb_11eb_a095_0242ac1c0002row3_col8\" class=\"data row3 col8\" >8</td>\n",
              "                        <td id=\"T_22287be8_6eeb_11eb_a095_0242ac1c0002row3_col9\" class=\"data row3 col9\" >4</td>\n",
              "                        <td id=\"T_22287be8_6eeb_11eb_a095_0242ac1c0002row3_col10\" class=\"data row3 col10\" >10</td>\n",
              "                        <td id=\"T_22287be8_6eeb_11eb_a095_0242ac1c0002row3_col11\" class=\"data row3 col11\" >194</td>\n",
              "                        <td id=\"T_22287be8_6eeb_11eb_a095_0242ac1c0002row3_col12\" class=\"data row3 col12\" >253</td>\n",
              "                        <td id=\"T_22287be8_6eeb_11eb_a095_0242ac1c0002row3_col13\" class=\"data row3 col13\" >253</td>\n",
              "                        <td id=\"T_22287be8_6eeb_11eb_a095_0242ac1c0002row3_col14\" class=\"data row3 col14\" >233</td>\n",
              "                        <td id=\"T_22287be8_6eeb_11eb_a095_0242ac1c0002row3_col15\" class=\"data row3 col15\" >0</td>\n",
              "                        <td id=\"T_22287be8_6eeb_11eb_a095_0242ac1c0002row3_col16\" class=\"data row3 col16\" >0</td>\n",
              "                        <td id=\"T_22287be8_6eeb_11eb_a095_0242ac1c0002row3_col17\" class=\"data row3 col17\" >0</td>\n",
              "            </tr>\n",
              "            <tr>\n",
              "                        <th id=\"T_22287be8_6eeb_11eb_a095_0242ac1c0002level0_row4\" class=\"row_heading level0 row4\" >4</th>\n",
              "                        <td id=\"T_22287be8_6eeb_11eb_a095_0242ac1c0002row4_col0\" class=\"data row4 col0\" >0</td>\n",
              "                        <td id=\"T_22287be8_6eeb_11eb_a095_0242ac1c0002row4_col1\" class=\"data row4 col1\" >107</td>\n",
              "                        <td id=\"T_22287be8_6eeb_11eb_a095_0242ac1c0002row4_col2\" class=\"data row4 col2\" >253</td>\n",
              "                        <td id=\"T_22287be8_6eeb_11eb_a095_0242ac1c0002row4_col3\" class=\"data row4 col3\" >253</td>\n",
              "                        <td id=\"T_22287be8_6eeb_11eb_a095_0242ac1c0002row4_col4\" class=\"data row4 col4\" >230</td>\n",
              "                        <td id=\"T_22287be8_6eeb_11eb_a095_0242ac1c0002row4_col5\" class=\"data row4 col5\" >48</td>\n",
              "                        <td id=\"T_22287be8_6eeb_11eb_a095_0242ac1c0002row4_col6\" class=\"data row4 col6\" >0</td>\n",
              "                        <td id=\"T_22287be8_6eeb_11eb_a095_0242ac1c0002row4_col7\" class=\"data row4 col7\" >0</td>\n",
              "                        <td id=\"T_22287be8_6eeb_11eb_a095_0242ac1c0002row4_col8\" class=\"data row4 col8\" >0</td>\n",
              "                        <td id=\"T_22287be8_6eeb_11eb_a095_0242ac1c0002row4_col9\" class=\"data row4 col9\" >0</td>\n",
              "                        <td id=\"T_22287be8_6eeb_11eb_a095_0242ac1c0002row4_col10\" class=\"data row4 col10\" >0</td>\n",
              "                        <td id=\"T_22287be8_6eeb_11eb_a095_0242ac1c0002row4_col11\" class=\"data row4 col11\" >192</td>\n",
              "                        <td id=\"T_22287be8_6eeb_11eb_a095_0242ac1c0002row4_col12\" class=\"data row4 col12\" >253</td>\n",
              "                        <td id=\"T_22287be8_6eeb_11eb_a095_0242ac1c0002row4_col13\" class=\"data row4 col13\" >253</td>\n",
              "                        <td id=\"T_22287be8_6eeb_11eb_a095_0242ac1c0002row4_col14\" class=\"data row4 col14\" >156</td>\n",
              "                        <td id=\"T_22287be8_6eeb_11eb_a095_0242ac1c0002row4_col15\" class=\"data row4 col15\" >0</td>\n",
              "                        <td id=\"T_22287be8_6eeb_11eb_a095_0242ac1c0002row4_col16\" class=\"data row4 col16\" >0</td>\n",
              "                        <td id=\"T_22287be8_6eeb_11eb_a095_0242ac1c0002row4_col17\" class=\"data row4 col17\" >0</td>\n",
              "            </tr>\n",
              "            <tr>\n",
              "                        <th id=\"T_22287be8_6eeb_11eb_a095_0242ac1c0002level0_row5\" class=\"row_heading level0 row5\" >5</th>\n",
              "                        <td id=\"T_22287be8_6eeb_11eb_a095_0242ac1c0002row5_col0\" class=\"data row5 col0\" >0</td>\n",
              "                        <td id=\"T_22287be8_6eeb_11eb_a095_0242ac1c0002row5_col1\" class=\"data row5 col1\" >3</td>\n",
              "                        <td id=\"T_22287be8_6eeb_11eb_a095_0242ac1c0002row5_col2\" class=\"data row5 col2\" >20</td>\n",
              "                        <td id=\"T_22287be8_6eeb_11eb_a095_0242ac1c0002row5_col3\" class=\"data row5 col3\" >20</td>\n",
              "                        <td id=\"T_22287be8_6eeb_11eb_a095_0242ac1c0002row5_col4\" class=\"data row5 col4\" >15</td>\n",
              "                        <td id=\"T_22287be8_6eeb_11eb_a095_0242ac1c0002row5_col5\" class=\"data row5 col5\" >0</td>\n",
              "                        <td id=\"T_22287be8_6eeb_11eb_a095_0242ac1c0002row5_col6\" class=\"data row5 col6\" >0</td>\n",
              "                        <td id=\"T_22287be8_6eeb_11eb_a095_0242ac1c0002row5_col7\" class=\"data row5 col7\" >0</td>\n",
              "                        <td id=\"T_22287be8_6eeb_11eb_a095_0242ac1c0002row5_col8\" class=\"data row5 col8\" >0</td>\n",
              "                        <td id=\"T_22287be8_6eeb_11eb_a095_0242ac1c0002row5_col9\" class=\"data row5 col9\" >0</td>\n",
              "                        <td id=\"T_22287be8_6eeb_11eb_a095_0242ac1c0002row5_col10\" class=\"data row5 col10\" >43</td>\n",
              "                        <td id=\"T_22287be8_6eeb_11eb_a095_0242ac1c0002row5_col11\" class=\"data row5 col11\" >224</td>\n",
              "                        <td id=\"T_22287be8_6eeb_11eb_a095_0242ac1c0002row5_col12\" class=\"data row5 col12\" >253</td>\n",
              "                        <td id=\"T_22287be8_6eeb_11eb_a095_0242ac1c0002row5_col13\" class=\"data row5 col13\" >245</td>\n",
              "                        <td id=\"T_22287be8_6eeb_11eb_a095_0242ac1c0002row5_col14\" class=\"data row5 col14\" >74</td>\n",
              "                        <td id=\"T_22287be8_6eeb_11eb_a095_0242ac1c0002row5_col15\" class=\"data row5 col15\" >0</td>\n",
              "                        <td id=\"T_22287be8_6eeb_11eb_a095_0242ac1c0002row5_col16\" class=\"data row5 col16\" >0</td>\n",
              "                        <td id=\"T_22287be8_6eeb_11eb_a095_0242ac1c0002row5_col17\" class=\"data row5 col17\" >0</td>\n",
              "            </tr>\n",
              "            <tr>\n",
              "                        <th id=\"T_22287be8_6eeb_11eb_a095_0242ac1c0002level0_row6\" class=\"row_heading level0 row6\" >6</th>\n",
              "                        <td id=\"T_22287be8_6eeb_11eb_a095_0242ac1c0002row6_col0\" class=\"data row6 col0\" >0</td>\n",
              "                        <td id=\"T_22287be8_6eeb_11eb_a095_0242ac1c0002row6_col1\" class=\"data row6 col1\" >0</td>\n",
              "                        <td id=\"T_22287be8_6eeb_11eb_a095_0242ac1c0002row6_col2\" class=\"data row6 col2\" >0</td>\n",
              "                        <td id=\"T_22287be8_6eeb_11eb_a095_0242ac1c0002row6_col3\" class=\"data row6 col3\" >0</td>\n",
              "                        <td id=\"T_22287be8_6eeb_11eb_a095_0242ac1c0002row6_col4\" class=\"data row6 col4\" >0</td>\n",
              "                        <td id=\"T_22287be8_6eeb_11eb_a095_0242ac1c0002row6_col5\" class=\"data row6 col5\" >0</td>\n",
              "                        <td id=\"T_22287be8_6eeb_11eb_a095_0242ac1c0002row6_col6\" class=\"data row6 col6\" >0</td>\n",
              "                        <td id=\"T_22287be8_6eeb_11eb_a095_0242ac1c0002row6_col7\" class=\"data row6 col7\" >0</td>\n",
              "                        <td id=\"T_22287be8_6eeb_11eb_a095_0242ac1c0002row6_col8\" class=\"data row6 col8\" >0</td>\n",
              "                        <td id=\"T_22287be8_6eeb_11eb_a095_0242ac1c0002row6_col9\" class=\"data row6 col9\" >0</td>\n",
              "                        <td id=\"T_22287be8_6eeb_11eb_a095_0242ac1c0002row6_col10\" class=\"data row6 col10\" >249</td>\n",
              "                        <td id=\"T_22287be8_6eeb_11eb_a095_0242ac1c0002row6_col11\" class=\"data row6 col11\" >253</td>\n",
              "                        <td id=\"T_22287be8_6eeb_11eb_a095_0242ac1c0002row6_col12\" class=\"data row6 col12\" >245</td>\n",
              "                        <td id=\"T_22287be8_6eeb_11eb_a095_0242ac1c0002row6_col13\" class=\"data row6 col13\" >126</td>\n",
              "                        <td id=\"T_22287be8_6eeb_11eb_a095_0242ac1c0002row6_col14\" class=\"data row6 col14\" >0</td>\n",
              "                        <td id=\"T_22287be8_6eeb_11eb_a095_0242ac1c0002row6_col15\" class=\"data row6 col15\" >0</td>\n",
              "                        <td id=\"T_22287be8_6eeb_11eb_a095_0242ac1c0002row6_col16\" class=\"data row6 col16\" >0</td>\n",
              "                        <td id=\"T_22287be8_6eeb_11eb_a095_0242ac1c0002row6_col17\" class=\"data row6 col17\" >0</td>\n",
              "            </tr>\n",
              "            <tr>\n",
              "                        <th id=\"T_22287be8_6eeb_11eb_a095_0242ac1c0002level0_row7\" class=\"row_heading level0 row7\" >7</th>\n",
              "                        <td id=\"T_22287be8_6eeb_11eb_a095_0242ac1c0002row7_col0\" class=\"data row7 col0\" >0</td>\n",
              "                        <td id=\"T_22287be8_6eeb_11eb_a095_0242ac1c0002row7_col1\" class=\"data row7 col1\" >0</td>\n",
              "                        <td id=\"T_22287be8_6eeb_11eb_a095_0242ac1c0002row7_col2\" class=\"data row7 col2\" >0</td>\n",
              "                        <td id=\"T_22287be8_6eeb_11eb_a095_0242ac1c0002row7_col3\" class=\"data row7 col3\" >0</td>\n",
              "                        <td id=\"T_22287be8_6eeb_11eb_a095_0242ac1c0002row7_col4\" class=\"data row7 col4\" >0</td>\n",
              "                        <td id=\"T_22287be8_6eeb_11eb_a095_0242ac1c0002row7_col5\" class=\"data row7 col5\" >0</td>\n",
              "                        <td id=\"T_22287be8_6eeb_11eb_a095_0242ac1c0002row7_col6\" class=\"data row7 col6\" >0</td>\n",
              "                        <td id=\"T_22287be8_6eeb_11eb_a095_0242ac1c0002row7_col7\" class=\"data row7 col7\" >14</td>\n",
              "                        <td id=\"T_22287be8_6eeb_11eb_a095_0242ac1c0002row7_col8\" class=\"data row7 col8\" >101</td>\n",
              "                        <td id=\"T_22287be8_6eeb_11eb_a095_0242ac1c0002row7_col9\" class=\"data row7 col9\" >223</td>\n",
              "                        <td id=\"T_22287be8_6eeb_11eb_a095_0242ac1c0002row7_col10\" class=\"data row7 col10\" >253</td>\n",
              "                        <td id=\"T_22287be8_6eeb_11eb_a095_0242ac1c0002row7_col11\" class=\"data row7 col11\" >248</td>\n",
              "                        <td id=\"T_22287be8_6eeb_11eb_a095_0242ac1c0002row7_col12\" class=\"data row7 col12\" >124</td>\n",
              "                        <td id=\"T_22287be8_6eeb_11eb_a095_0242ac1c0002row7_col13\" class=\"data row7 col13\" >0</td>\n",
              "                        <td id=\"T_22287be8_6eeb_11eb_a095_0242ac1c0002row7_col14\" class=\"data row7 col14\" >0</td>\n",
              "                        <td id=\"T_22287be8_6eeb_11eb_a095_0242ac1c0002row7_col15\" class=\"data row7 col15\" >0</td>\n",
              "                        <td id=\"T_22287be8_6eeb_11eb_a095_0242ac1c0002row7_col16\" class=\"data row7 col16\" >0</td>\n",
              "                        <td id=\"T_22287be8_6eeb_11eb_a095_0242ac1c0002row7_col17\" class=\"data row7 col17\" >0</td>\n",
              "            </tr>\n",
              "            <tr>\n",
              "                        <th id=\"T_22287be8_6eeb_11eb_a095_0242ac1c0002level0_row8\" class=\"row_heading level0 row8\" >8</th>\n",
              "                        <td id=\"T_22287be8_6eeb_11eb_a095_0242ac1c0002row8_col0\" class=\"data row8 col0\" >0</td>\n",
              "                        <td id=\"T_22287be8_6eeb_11eb_a095_0242ac1c0002row8_col1\" class=\"data row8 col1\" >0</td>\n",
              "                        <td id=\"T_22287be8_6eeb_11eb_a095_0242ac1c0002row8_col2\" class=\"data row8 col2\" >0</td>\n",
              "                        <td id=\"T_22287be8_6eeb_11eb_a095_0242ac1c0002row8_col3\" class=\"data row8 col3\" >0</td>\n",
              "                        <td id=\"T_22287be8_6eeb_11eb_a095_0242ac1c0002row8_col4\" class=\"data row8 col4\" >0</td>\n",
              "                        <td id=\"T_22287be8_6eeb_11eb_a095_0242ac1c0002row8_col5\" class=\"data row8 col5\" >11</td>\n",
              "                        <td id=\"T_22287be8_6eeb_11eb_a095_0242ac1c0002row8_col6\" class=\"data row8 col6\" >166</td>\n",
              "                        <td id=\"T_22287be8_6eeb_11eb_a095_0242ac1c0002row8_col7\" class=\"data row8 col7\" >239</td>\n",
              "                        <td id=\"T_22287be8_6eeb_11eb_a095_0242ac1c0002row8_col8\" class=\"data row8 col8\" >253</td>\n",
              "                        <td id=\"T_22287be8_6eeb_11eb_a095_0242ac1c0002row8_col9\" class=\"data row8 col9\" >253</td>\n",
              "                        <td id=\"T_22287be8_6eeb_11eb_a095_0242ac1c0002row8_col10\" class=\"data row8 col10\" >253</td>\n",
              "                        <td id=\"T_22287be8_6eeb_11eb_a095_0242ac1c0002row8_col11\" class=\"data row8 col11\" >187</td>\n",
              "                        <td id=\"T_22287be8_6eeb_11eb_a095_0242ac1c0002row8_col12\" class=\"data row8 col12\" >30</td>\n",
              "                        <td id=\"T_22287be8_6eeb_11eb_a095_0242ac1c0002row8_col13\" class=\"data row8 col13\" >0</td>\n",
              "                        <td id=\"T_22287be8_6eeb_11eb_a095_0242ac1c0002row8_col14\" class=\"data row8 col14\" >0</td>\n",
              "                        <td id=\"T_22287be8_6eeb_11eb_a095_0242ac1c0002row8_col15\" class=\"data row8 col15\" >0</td>\n",
              "                        <td id=\"T_22287be8_6eeb_11eb_a095_0242ac1c0002row8_col16\" class=\"data row8 col16\" >0</td>\n",
              "                        <td id=\"T_22287be8_6eeb_11eb_a095_0242ac1c0002row8_col17\" class=\"data row8 col17\" >0</td>\n",
              "            </tr>\n",
              "            <tr>\n",
              "                        <th id=\"T_22287be8_6eeb_11eb_a095_0242ac1c0002level0_row9\" class=\"row_heading level0 row9\" >9</th>\n",
              "                        <td id=\"T_22287be8_6eeb_11eb_a095_0242ac1c0002row9_col0\" class=\"data row9 col0\" >0</td>\n",
              "                        <td id=\"T_22287be8_6eeb_11eb_a095_0242ac1c0002row9_col1\" class=\"data row9 col1\" >0</td>\n",
              "                        <td id=\"T_22287be8_6eeb_11eb_a095_0242ac1c0002row9_col2\" class=\"data row9 col2\" >0</td>\n",
              "                        <td id=\"T_22287be8_6eeb_11eb_a095_0242ac1c0002row9_col3\" class=\"data row9 col3\" >0</td>\n",
              "                        <td id=\"T_22287be8_6eeb_11eb_a095_0242ac1c0002row9_col4\" class=\"data row9 col4\" >0</td>\n",
              "                        <td id=\"T_22287be8_6eeb_11eb_a095_0242ac1c0002row9_col5\" class=\"data row9 col5\" >16</td>\n",
              "                        <td id=\"T_22287be8_6eeb_11eb_a095_0242ac1c0002row9_col6\" class=\"data row9 col6\" >248</td>\n",
              "                        <td id=\"T_22287be8_6eeb_11eb_a095_0242ac1c0002row9_col7\" class=\"data row9 col7\" >250</td>\n",
              "                        <td id=\"T_22287be8_6eeb_11eb_a095_0242ac1c0002row9_col8\" class=\"data row9 col8\" >253</td>\n",
              "                        <td id=\"T_22287be8_6eeb_11eb_a095_0242ac1c0002row9_col9\" class=\"data row9 col9\" >253</td>\n",
              "                        <td id=\"T_22287be8_6eeb_11eb_a095_0242ac1c0002row9_col10\" class=\"data row9 col10\" >253</td>\n",
              "                        <td id=\"T_22287be8_6eeb_11eb_a095_0242ac1c0002row9_col11\" class=\"data row9 col11\" >253</td>\n",
              "                        <td id=\"T_22287be8_6eeb_11eb_a095_0242ac1c0002row9_col12\" class=\"data row9 col12\" >232</td>\n",
              "                        <td id=\"T_22287be8_6eeb_11eb_a095_0242ac1c0002row9_col13\" class=\"data row9 col13\" >213</td>\n",
              "                        <td id=\"T_22287be8_6eeb_11eb_a095_0242ac1c0002row9_col14\" class=\"data row9 col14\" >111</td>\n",
              "                        <td id=\"T_22287be8_6eeb_11eb_a095_0242ac1c0002row9_col15\" class=\"data row9 col15\" >2</td>\n",
              "                        <td id=\"T_22287be8_6eeb_11eb_a095_0242ac1c0002row9_col16\" class=\"data row9 col16\" >0</td>\n",
              "                        <td id=\"T_22287be8_6eeb_11eb_a095_0242ac1c0002row9_col17\" class=\"data row9 col17\" >0</td>\n",
              "            </tr>\n",
              "            <tr>\n",
              "                        <th id=\"T_22287be8_6eeb_11eb_a095_0242ac1c0002level0_row10\" class=\"row_heading level0 row10\" >10</th>\n",
              "                        <td id=\"T_22287be8_6eeb_11eb_a095_0242ac1c0002row10_col0\" class=\"data row10 col0\" >0</td>\n",
              "                        <td id=\"T_22287be8_6eeb_11eb_a095_0242ac1c0002row10_col1\" class=\"data row10 col1\" >0</td>\n",
              "                        <td id=\"T_22287be8_6eeb_11eb_a095_0242ac1c0002row10_col2\" class=\"data row10 col2\" >0</td>\n",
              "                        <td id=\"T_22287be8_6eeb_11eb_a095_0242ac1c0002row10_col3\" class=\"data row10 col3\" >0</td>\n",
              "                        <td id=\"T_22287be8_6eeb_11eb_a095_0242ac1c0002row10_col4\" class=\"data row10 col4\" >0</td>\n",
              "                        <td id=\"T_22287be8_6eeb_11eb_a095_0242ac1c0002row10_col5\" class=\"data row10 col5\" >0</td>\n",
              "                        <td id=\"T_22287be8_6eeb_11eb_a095_0242ac1c0002row10_col6\" class=\"data row10 col6\" >0</td>\n",
              "                        <td id=\"T_22287be8_6eeb_11eb_a095_0242ac1c0002row10_col7\" class=\"data row10 col7\" >43</td>\n",
              "                        <td id=\"T_22287be8_6eeb_11eb_a095_0242ac1c0002row10_col8\" class=\"data row10 col8\" >98</td>\n",
              "                        <td id=\"T_22287be8_6eeb_11eb_a095_0242ac1c0002row10_col9\" class=\"data row10 col9\" >98</td>\n",
              "                        <td id=\"T_22287be8_6eeb_11eb_a095_0242ac1c0002row10_col10\" class=\"data row10 col10\" >208</td>\n",
              "                        <td id=\"T_22287be8_6eeb_11eb_a095_0242ac1c0002row10_col11\" class=\"data row10 col11\" >253</td>\n",
              "                        <td id=\"T_22287be8_6eeb_11eb_a095_0242ac1c0002row10_col12\" class=\"data row10 col12\" >253</td>\n",
              "                        <td id=\"T_22287be8_6eeb_11eb_a095_0242ac1c0002row10_col13\" class=\"data row10 col13\" >253</td>\n",
              "                        <td id=\"T_22287be8_6eeb_11eb_a095_0242ac1c0002row10_col14\" class=\"data row10 col14\" >253</td>\n",
              "                        <td id=\"T_22287be8_6eeb_11eb_a095_0242ac1c0002row10_col15\" class=\"data row10 col15\" >187</td>\n",
              "                        <td id=\"T_22287be8_6eeb_11eb_a095_0242ac1c0002row10_col16\" class=\"data row10 col16\" >22</td>\n",
              "                        <td id=\"T_22287be8_6eeb_11eb_a095_0242ac1c0002row10_col17\" class=\"data row10 col17\" >0</td>\n",
              "            </tr>\n",
              "    </tbody></table>"
            ],
            "text/plain": [
              "<pandas.io.formats.style.Styler at 0x7fc0a54e7be0>"
            ]
          },
          "metadata": {
            "tags": []
          },
          "execution_count": 9
        }
      ]
    },
    {
      "cell_type": "markdown",
      "metadata": {
        "id": "sOZPcbQ7tmBK"
      },
      "source": [
        "We will use Jupyter to do some little checks of our work along the way—in this case, making sure that the number of returned items seems reasonable:"
      ]
    },
    {
      "cell_type": "code",
      "metadata": {
        "id": "kF_7V-62tmHC",
        "outputId": "c5feb5f1-7d0f-4132-ca9e-190360472b24",
        "colab": {
          "base_uri": "https://localhost:8080/"
        }
      },
      "source": [
        "seven_tensors = [tensor(Image.open(o)) for o in sevens]\r\n",
        "three_tensors = [tensor(Image.open(o)) for o in threes]\r\n",
        "len(three_tensors),len(seven_tensors)"
      ],
      "execution_count": 10,
      "outputs": [
        {
          "output_type": "execute_result",
          "data": {
            "text/plain": [
              "(6131, 6265)"
            ]
          },
          "metadata": {
            "tags": []
          },
          "execution_count": 10
        }
      ]
    },
    {
      "cell_type": "code",
      "metadata": {
        "id": "Nj2BHK4OtsnN",
        "outputId": "803844cf-a173-424e-fe84-d65fbd4fbfda",
        "colab": {
          "base_uri": "https://localhost:8080/",
          "height": 85
        }
      },
      "source": [
        "show_image(three_tensors[1]);"
      ],
      "execution_count": 11,
      "outputs": [
        {
          "output_type": "display_data",
          "data": {
            "image/png": "[encoded data removed]",
            "text/plain": [
              "<Figure size 72x72 with 1 Axes>"
            ]
          },
          "metadata": {
            "tags": [],
            "needs_background": "light"
          }
        }
      ]
    },
    {
      "cell_type": "markdown",
      "metadata": {
        "id": "64ugKOkwtpPk"
      },
      "source": [
        "For every pixel position, we want to compute the average over all the images of the intensity of that pixel. To do this we first combine all the images in this list into a single three-dimensional tensor. The most common way to describe such a tensor is to call it a rank-3 tensor. We often need to stack up individual tensors in a collection into a single tensor. Unsurprisingly, PyTorch comes with a function called stack that we can use for this purpose."
      ]
    },
    {
      "cell_type": "code",
      "metadata": {
        "id": "WSkHIhE6t0Oc",
        "outputId": "ecfb0a1b-eb9e-4c0d-db0a-14adb485ad42",
        "colab": {
          "base_uri": "https://localhost:8080/"
        }
      },
      "source": [
        "stacked_sevens = torch.stack(seven_tensors).float()/255\r\n",
        "stacked_threes = torch.stack(three_tensors).float()/255\r\n",
        "stacked_threes.shape"
      ],
      "execution_count": 12,
      "outputs": [
        {
          "output_type": "execute_result",
          "data": {
            "text/plain": [
              "torch.Size([6131, 28, 28])"
            ]
          },
          "metadata": {
            "tags": []
          },
          "execution_count": 12
        }
      ]
    }
  ]
}